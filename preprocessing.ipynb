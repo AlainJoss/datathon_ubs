{
 "cells": [
  {
   "cell_type": "markdown",
   "metadata": {},
   "source": [
    "# EDA"
   ]
  },
  {
   "cell_type": "code",
   "execution_count": 108,
   "metadata": {},
   "outputs": [
    {
     "data": {
      "text/html": [
       "<div>\n",
       "<style scoped>\n",
       "    .dataframe tbody tr th:only-of-type {\n",
       "        vertical-align: middle;\n",
       "    }\n",
       "\n",
       "    .dataframe tbody tr th {\n",
       "        vertical-align: top;\n",
       "    }\n",
       "\n",
       "    .dataframe thead th {\n",
       "        text-align: right;\n",
       "    }\n",
       "</style>\n",
       "<table border=\"1\" class=\"dataframe\">\n",
       "  <thead>\n",
       "    <tr style=\"text-align: right;\">\n",
       "      <th></th>\n",
       "      <th>period</th>\n",
       "      <th>period_end_date</th>\n",
       "      <th>compset_group</th>\n",
       "      <th>compset</th>\n",
       "      <th>business_entity_doing_business_as_name</th>\n",
       "      <th>legal_entity_name</th>\n",
       "      <th>domicile_country_name</th>\n",
       "      <th>ultimate_parent_legal_entity_name</th>\n",
       "      <th>primary_exchange_name</th>\n",
       "      <th>calculation_type</th>\n",
       "      <th>followers</th>\n",
       "      <th>pictures</th>\n",
       "      <th>videos</th>\n",
       "      <th>comments</th>\n",
       "      <th>likes</th>\n",
       "    </tr>\n",
       "  </thead>\n",
       "  <tbody>\n",
       "    <tr>\n",
       "      <th>0</th>\n",
       "      <td>Weekly</td>\n",
       "      <td>2019-12-07</td>\n",
       "      <td>Luxury &amp; Premium &amp; Mainstream</td>\n",
       "      <td>Soft Luxury</td>\n",
       "      <td>Versace</td>\n",
       "      <td>Capri Holdings</td>\n",
       "      <td>United States of America</td>\n",
       "      <td>Capri Holdings</td>\n",
       "      <td>New York Stock Exchange</td>\n",
       "      <td>Metric Value</td>\n",
       "      <td>22066189.0</td>\n",
       "      <td>97.0</td>\n",
       "      <td>13.0</td>\n",
       "      <td>16239.0</td>\n",
       "      <td>6112205.0</td>\n",
       "    </tr>\n",
       "    <tr>\n",
       "      <th>1</th>\n",
       "      <td>Weekly</td>\n",
       "      <td>2021-01-30</td>\n",
       "      <td>Luxury &amp; Premium &amp; Mainstream</td>\n",
       "      <td>Luxury &amp; Premium &amp; Mainstream</td>\n",
       "      <td>Versace</td>\n",
       "      <td>Capri Holdings</td>\n",
       "      <td>United States of America</td>\n",
       "      <td>Capri Holdings</td>\n",
       "      <td>New York Stock Exchange</td>\n",
       "      <td>Metric Value</td>\n",
       "      <td>24289963.0</td>\n",
       "      <td>54.0</td>\n",
       "      <td>2.0</td>\n",
       "      <td>13358.0</td>\n",
       "      <td>3189144.0</td>\n",
       "    </tr>\n",
       "    <tr>\n",
       "      <th>2</th>\n",
       "      <td>Weekly</td>\n",
       "      <td>2016-05-14</td>\n",
       "      <td>Luxury &amp; Premium &amp; Mainstream</td>\n",
       "      <td>Soft Luxury</td>\n",
       "      <td>Versace</td>\n",
       "      <td>Capri Holdings</td>\n",
       "      <td>United States of America</td>\n",
       "      <td>Capri Holdings</td>\n",
       "      <td>New York Stock Exchange</td>\n",
       "      <td>Metric Value</td>\n",
       "      <td>7137442.0</td>\n",
       "      <td>42.0</td>\n",
       "      <td>8.0</td>\n",
       "      <td>15894.0</td>\n",
       "      <td>2152955.0</td>\n",
       "    </tr>\n",
       "    <tr>\n",
       "      <th>3</th>\n",
       "      <td>Weekly</td>\n",
       "      <td>2019-04-20</td>\n",
       "      <td>Luxury &amp; Premium &amp; Mainstream</td>\n",
       "      <td>Luxury &amp; Premium &amp; Mainstream</td>\n",
       "      <td>Versace</td>\n",
       "      <td>Capri Holdings</td>\n",
       "      <td>United States of America</td>\n",
       "      <td>Capri Holdings</td>\n",
       "      <td>New York Stock Exchange</td>\n",
       "      <td>Metric Value</td>\n",
       "      <td>18901125.0</td>\n",
       "      <td>73.0</td>\n",
       "      <td>9.0</td>\n",
       "      <td>26762.0</td>\n",
       "      <td>5224916.0</td>\n",
       "    </tr>\n",
       "    <tr>\n",
       "      <th>4</th>\n",
       "      <td>Weekly</td>\n",
       "      <td>2023-03-25</td>\n",
       "      <td>Luxury &amp; Premium &amp; Mainstream</td>\n",
       "      <td>US Softlines Analyst Interest List</td>\n",
       "      <td>Versace</td>\n",
       "      <td>Capri Holdings</td>\n",
       "      <td>United States of America</td>\n",
       "      <td>Capri Holdings</td>\n",
       "      <td>New York Stock Exchange</td>\n",
       "      <td>Metric Value</td>\n",
       "      <td>30251374.0</td>\n",
       "      <td>54.0</td>\n",
       "      <td>10.0</td>\n",
       "      <td>25681.0</td>\n",
       "      <td>5760987.0</td>\n",
       "    </tr>\n",
       "  </tbody>\n",
       "</table>\n",
       "</div>"
      ],
      "text/plain": [
       "   period period_end_date                  compset_group  \\\n",
       "0  Weekly      2019-12-07  Luxury & Premium & Mainstream   \n",
       "1  Weekly      2021-01-30  Luxury & Premium & Mainstream   \n",
       "2  Weekly      2016-05-14  Luxury & Premium & Mainstream   \n",
       "3  Weekly      2019-04-20  Luxury & Premium & Mainstream   \n",
       "4  Weekly      2023-03-25  Luxury & Premium & Mainstream   \n",
       "\n",
       "                              compset business_entity_doing_business_as_name  \\\n",
       "0                         Soft Luxury                                Versace   \n",
       "1       Luxury & Premium & Mainstream                                Versace   \n",
       "2                         Soft Luxury                                Versace   \n",
       "3       Luxury & Premium & Mainstream                                Versace   \n",
       "4  US Softlines Analyst Interest List                                Versace   \n",
       "\n",
       "  legal_entity_name     domicile_country_name  \\\n",
       "0    Capri Holdings  United States of America   \n",
       "1    Capri Holdings  United States of America   \n",
       "2    Capri Holdings  United States of America   \n",
       "3    Capri Holdings  United States of America   \n",
       "4    Capri Holdings  United States of America   \n",
       "\n",
       "  ultimate_parent_legal_entity_name    primary_exchange_name calculation_type  \\\n",
       "0                    Capri Holdings  New York Stock Exchange     Metric Value   \n",
       "1                    Capri Holdings  New York Stock Exchange     Metric Value   \n",
       "2                    Capri Holdings  New York Stock Exchange     Metric Value   \n",
       "3                    Capri Holdings  New York Stock Exchange     Metric Value   \n",
       "4                    Capri Holdings  New York Stock Exchange     Metric Value   \n",
       "\n",
       "    followers  pictures  videos  comments      likes  \n",
       "0  22066189.0      97.0    13.0   16239.0  6112205.0  \n",
       "1  24289963.0      54.0     2.0   13358.0  3189144.0  \n",
       "2   7137442.0      42.0     8.0   15894.0  2152955.0  \n",
       "3  18901125.0      73.0     9.0   26762.0  5224916.0  \n",
       "4  30251374.0      54.0    10.0   25681.0  5760987.0  "
      ]
     },
     "execution_count": 108,
     "metadata": {},
     "output_type": "execute_result"
    }
   ],
   "source": [
    "import pandas as pd\n",
    "df = pd.read_csv(\"data/skylab_instagram_datathon_dataset.csv\", delimiter=\";\")\n",
    "df.head()"
   ]
  },
  {
   "cell_type": "code",
   "execution_count": 109,
   "metadata": {},
   "outputs": [
    {
     "name": "stdout",
     "output_type": "stream",
     "text": [
      "Period covered for each brand within Entity1:\n",
      "Empty DataFrame\n",
      "Columns: [min, max]\n",
      "Index: []\n"
     ]
    }
   ],
   "source": [
    "# for one legal entity name print the period covered for each of the individual brands\n",
    "\n",
    "# Specify the legal entity\n",
    "specific_entity = 'Entity1'\n",
    "\n",
    "# Filter DataFrame for the specified legal entity\n",
    "entity_df = df[df['legal_entity_name'] == specific_entity]\n",
    "\n",
    "# Group by brand within the specified entity and find min and max dates\n",
    "brand_periods = entity_df.groupby('business_entity_doing_business_as_name')['period_end_date'].agg([min, max])\n",
    "\n",
    "print(f\"Period covered for each brand within {specific_entity}:\")\n",
    "print(brand_periods)"
   ]
  },
  {
   "cell_type": "code",
   "execution_count": 103,
   "metadata": {},
   "outputs": [
    {
     "name": "stdout",
     "output_type": "stream",
     "text": [
      "<class 'pandas.core.frame.DataFrame'>\n",
      "RangeIndex: 704313 entries, 0 to 704312\n",
      "Data columns (total 15 columns):\n",
      " #   Column                                  Non-Null Count   Dtype  \n",
      "---  ------                                  --------------   -----  \n",
      " 0   period                                  704313 non-null  object \n",
      " 1   period_end_date                         704313 non-null  object \n",
      " 2   compset_group                           704313 non-null  object \n",
      " 3   compset                                 704313 non-null  object \n",
      " 4   business_entity_doing_business_as_name  704313 non-null  object \n",
      " 5   legal_entity_name                       676558 non-null  object \n",
      " 6   domicile_country_name                   458589 non-null  object \n",
      " 7   ultimate_parent_legal_entity_name       676558 non-null  object \n",
      " 8   primary_exchange_name                   458589 non-null  object \n",
      " 9   calculation_type                        704313 non-null  object \n",
      " 10  followers                               579258 non-null  float64\n",
      " 11  pictures                                695803 non-null  float64\n",
      " 12  videos                                  684349 non-null  float64\n",
      " 13  comments                                695343 non-null  float64\n",
      " 14  likes                                   695977 non-null  float64\n",
      "dtypes: float64(5), object(10)\n",
      "memory usage: 80.6+ MB\n"
     ]
    }
   ],
   "source": [
    "df.info()"
   ]
  },
  {
   "cell_type": "markdown",
   "metadata": {},
   "source": [
    "# 1.1 Feature Inspection\n",
    "For each feature:\n",
    "- Decide whether to drop or keep\n",
    "- Check for anomalies\n",
    "- Check for NAs and where they appear\n",
    "- Change data type if needed\n",
    "- Drop any duplicates\n",
    "- Set new index\n",
    "- Interpolate missing numerical values if possible"
   ]
  },
  {
   "cell_type": "code",
   "execution_count": 104,
   "metadata": {},
   "outputs": [],
   "source": [
    "# strip all columns with string values\n",
    "df = df.apply(lambda x: x.str.strip() if x.dtype == \"object\" else x)"
   ]
  },
  {
   "cell_type": "code",
   "execution_count": 105,
   "metadata": {},
   "outputs": [
    {
     "data": {
      "text/plain": [
       "period                                         0\n",
       "period_end_date                                0\n",
       "compset_group                                  0\n",
       "compset                                        0\n",
       "business_entity_doing_business_as_name         0\n",
       "legal_entity_name                          27755\n",
       "domicile_country_name                     245724\n",
       "ultimate_parent_legal_entity_name          27755\n",
       "primary_exchange_name                     245724\n",
       "calculation_type                               0\n",
       "followers                                 125055\n",
       "pictures                                    8510\n",
       "videos                                     19964\n",
       "comments                                    8970\n",
       "likes                                       8336\n",
       "dtype: int64"
      ]
     },
     "execution_count": 105,
     "metadata": {},
     "output_type": "execute_result"
    }
   ],
   "source": [
    "# missing values per column\n",
    "df.isnull().sum()"
   ]
  },
  {
   "cell_type": "markdown",
   "metadata": {},
   "source": [
    "Given the amount of missing values we drop following features:\n",
    "- legal_entity_name\n",
    "- domicile_country_name          \n",
    "- ultimate_parent_legal_entity_name        \n",
    "- primary_exchange_name"
   ]
  },
  {
   "cell_type": "code",
   "execution_count": 106,
   "metadata": {},
   "outputs": [],
   "source": [
    "# drop cols with too many missing values\n",
    "df = df.drop(columns=[\"legal_entity_name\", \"domicile_country_name\", \"ultimate_parent_legal_entity_name\", \"primary_exchange_name\"])"
   ]
  },
  {
   "cell_type": "code",
   "execution_count": null,
   "metadata": {},
   "outputs": [],
   "source": [
    "# create csv out of df\n",
    "df.to_csv(\"data/cleaned_data.csv\", index=False)"
   ]
  },
  {
   "cell_type": "code",
   "execution_count": 107,
   "metadata": {},
   "outputs": [
    {
     "data": {
      "text/plain": [
       "period                                         1\n",
       "period_end_date                              455\n",
       "compset_group                                 20\n",
       "compset                                       54\n",
       "business_entity_doing_business_as_name       706\n",
       "calculation_type                               1\n",
       "followers                                 243231\n",
       "pictures                                    8190\n",
       "videos                                      3748\n",
       "comments                                   52500\n",
       "likes                                     197943\n",
       "dtype: int64"
      ]
     },
     "execution_count": 107,
     "metadata": {},
     "output_type": "execute_result"
    }
   ],
   "source": [
    "# unique values in each column\n",
    "df.nunique()"
   ]
  },
  {
   "cell_type": "markdown",
   "metadata": {},
   "source": [
    "Given that they have a unique value we drop the following columns:\n",
    "- period\n",
    "- calculation_type"
   ]
  },
  {
   "cell_type": "code",
   "execution_count": 63,
   "metadata": {},
   "outputs": [],
   "source": [
    "# drop cols with one unique value\n",
    "df.drop(columns=[\"period\", \"calculation_type\"], inplace=True)"
   ]
  },
  {
   "cell_type": "markdown",
   "metadata": {},
   "source": [
    "### feature 2: period_end_date\n",
    "- End of week day (Saturday)\n",
    "- x-axis of trend analysis"
   ]
  },
  {
   "cell_type": "code",
   "execution_count": 64,
   "metadata": {},
   "outputs": [],
   "source": [
    "# period_end_date column\n",
    "# convert data type to datetime\n",
    "df[\"period_end_date\"] = pd.to_datetime(df[\"period_end_date\"])"
   ]
  },
  {
   "cell_type": "markdown",
   "metadata": {},
   "source": [
    "### feature 3: compset_group\n",
    "The compset is the \"industry\" in which they are competing."
   ]
  },
  {
   "cell_type": "code",
   "execution_count": 65,
   "metadata": {},
   "outputs": [
    {
     "data": {
      "text/plain": [
       "array(['Luxury & Premium & Mainstream', 'Restaurants', 'Beverages',\n",
       "       'Apparel Retail', 'Food Products', 'Sporting Goods',\n",
       "       'Sportswear & Athleisure', 'Beauty & Boutique',\n",
       "       'Building Products', 'Petcare', 'Toys & Collectibles', 'Mattress',\n",
       "       'Fitness & Exercise', 'Food Retail', 'Discount Retailers',\n",
       "       'Outdoor Gear', 'Dermatology and Orthodontics', 'Entertainment',\n",
       "       'Home Appliances', 'Study (All Brands)'], dtype=object)"
      ]
     },
     "execution_count": 65,
     "metadata": {},
     "output_type": "execute_result"
    }
   ],
   "source": [
    "# compset_group unique values\n",
    "df['compset_group'].unique()"
   ]
  },
  {
   "cell_type": "code",
   "execution_count": 66,
   "metadata": {},
   "outputs": [
    {
     "data": {
      "text/plain": [
       "array(['All Brands'], dtype=object)"
      ]
     },
     "execution_count": 66,
     "metadata": {},
     "output_type": "execute_result"
    }
   ],
   "source": [
    "# check which business_entity_doing_business_as_name have 'Study (All Brands)' as compset_group\n",
    "df[df['compset_group'] == 'Study (All Brands)']['business_entity_doing_business_as_name'].unique()"
   ]
  },
  {
   "cell_type": "markdown",
   "metadata": {},
   "source": [
    "We already drop the rows associated with the company \"All Brands\", since it's an aggregation of all companies, which we do not want in the data."
   ]
  },
  {
   "cell_type": "code",
   "execution_count": 67,
   "metadata": {},
   "outputs": [],
   "source": [
    "# drop rows\n",
    "df = df[df['business_entity_doing_business_as_name'] != 'All Brands']"
   ]
  },
  {
   "cell_type": "code",
   "execution_count": 68,
   "metadata": {},
   "outputs": [],
   "source": [
    "# check whether compset_group is unique for each brand\n",
    "for brand in df['business_entity_doing_business_as_name'].unique():\n",
    "    if df[df['business_entity_doing_business_as_name'] == brand]['compset_group'].nunique() > 1:\n",
    "        print(brand)"
   ]
  },
  {
   "cell_type": "markdown",
   "metadata": {},
   "source": [
    "The compset is unique to each brand, so we can one-hot-encode it.\n",
    "\n",
    "We also want to reduce the amount of categories, so we create (arbitrary broader ones).\n",
    "\n",
    "Before doing that we check their distribution."
   ]
  },
  {
   "cell_type": "code",
   "execution_count": 69,
   "metadata": {},
   "outputs": [
    {
     "data": {
      "text/html": [
       "<div>\n",
       "<style scoped>\n",
       "    .dataframe tbody tr th:only-of-type {\n",
       "        vertical-align: middle;\n",
       "    }\n",
       "\n",
       "    .dataframe tbody tr th {\n",
       "        vertical-align: top;\n",
       "    }\n",
       "\n",
       "    .dataframe thead th {\n",
       "        text-align: right;\n",
       "    }\n",
       "</style>\n",
       "<table border=\"1\" class=\"dataframe\">\n",
       "  <thead>\n",
       "    <tr style=\"text-align: right;\">\n",
       "      <th></th>\n",
       "      <th>index</th>\n",
       "      <th>compset_group</th>\n",
       "    </tr>\n",
       "  </thead>\n",
       "  <tbody>\n",
       "    <tr>\n",
       "      <th>0</th>\n",
       "      <td>Luxury &amp; Premium &amp; Mainstream</td>\n",
       "      <td>212146</td>\n",
       "    </tr>\n",
       "    <tr>\n",
       "      <th>1</th>\n",
       "      <td>Apparel Retail</td>\n",
       "      <td>203658</td>\n",
       "    </tr>\n",
       "    <tr>\n",
       "      <th>2</th>\n",
       "      <td>Sportswear &amp; Athleisure</td>\n",
       "      <td>54338</td>\n",
       "    </tr>\n",
       "    <tr>\n",
       "      <th>3</th>\n",
       "      <td>Beauty &amp; Boutique</td>\n",
       "      <td>43811</td>\n",
       "    </tr>\n",
       "    <tr>\n",
       "      <th>4</th>\n",
       "      <td>Food Products</td>\n",
       "      <td>39882</td>\n",
       "    </tr>\n",
       "    <tr>\n",
       "      <th>5</th>\n",
       "      <td>Beverages</td>\n",
       "      <td>39196</td>\n",
       "    </tr>\n",
       "    <tr>\n",
       "      <th>6</th>\n",
       "      <td>Restaurants</td>\n",
       "      <td>35324</td>\n",
       "    </tr>\n",
       "    <tr>\n",
       "      <th>7</th>\n",
       "      <td>Outdoor Gear</td>\n",
       "      <td>8626</td>\n",
       "    </tr>\n",
       "    <tr>\n",
       "      <th>8</th>\n",
       "      <td>Fitness &amp; Exercise</td>\n",
       "      <td>8523</td>\n",
       "    </tr>\n",
       "    <tr>\n",
       "      <th>9</th>\n",
       "      <td>Dermatology and Orthodontics</td>\n",
       "      <td>6454</td>\n",
       "    </tr>\n",
       "    <tr>\n",
       "      <th>10</th>\n",
       "      <td>Mattress</td>\n",
       "      <td>4652</td>\n",
       "    </tr>\n",
       "    <tr>\n",
       "      <th>11</th>\n",
       "      <td>Petcare</td>\n",
       "      <td>4441</td>\n",
       "    </tr>\n",
       "    <tr>\n",
       "      <th>12</th>\n",
       "      <td>Building Products</td>\n",
       "      <td>3921</td>\n",
       "    </tr>\n",
       "    <tr>\n",
       "      <th>13</th>\n",
       "      <td>Sporting Goods</td>\n",
       "      <td>2730</td>\n",
       "    </tr>\n",
       "    <tr>\n",
       "      <th>14</th>\n",
       "      <td>Home Appliances</td>\n",
       "      <td>2558</td>\n",
       "    </tr>\n",
       "    <tr>\n",
       "      <th>15</th>\n",
       "      <td>Food Retail</td>\n",
       "      <td>2119</td>\n",
       "    </tr>\n",
       "    <tr>\n",
       "      <th>16</th>\n",
       "      <td>Toys &amp; Collectibles</td>\n",
       "      <td>1774</td>\n",
       "    </tr>\n",
       "    <tr>\n",
       "      <th>17</th>\n",
       "      <td>Discount Retailers</td>\n",
       "      <td>1645</td>\n",
       "    </tr>\n",
       "    <tr>\n",
       "      <th>18</th>\n",
       "      <td>Entertainment</td>\n",
       "      <td>760</td>\n",
       "    </tr>\n",
       "  </tbody>\n",
       "</table>\n",
       "</div>"
      ],
      "text/plain": [
       "                            index  compset_group\n",
       "0   Luxury & Premium & Mainstream         212146\n",
       "1                  Apparel Retail         203658\n",
       "2         Sportswear & Athleisure          54338\n",
       "3               Beauty & Boutique          43811\n",
       "4                   Food Products          39882\n",
       "5                       Beverages          39196\n",
       "6                     Restaurants          35324\n",
       "7                    Outdoor Gear           8626\n",
       "8              Fitness & Exercise           8523\n",
       "9    Dermatology and Orthodontics           6454\n",
       "10                       Mattress           4652\n",
       "11                        Petcare           4441\n",
       "12              Building Products           3921\n",
       "13                 Sporting Goods           2730\n",
       "14                Home Appliances           2558\n",
       "15                    Food Retail           2119\n",
       "16            Toys & Collectibles           1774\n",
       "17             Discount Retailers           1645\n",
       "18                  Entertainment            760"
      ]
     },
     "execution_count": 69,
     "metadata": {},
     "output_type": "execute_result"
    },
    {
     "data": {
      "image/png": "[encoded data removed]",
      "text/plain": [
       "<Figure size 640x480 with 1 Axes>"
      ]
     },
     "metadata": {},
     "output_type": "display_data"
    }
   ],
   "source": [
    "# plot count for each compset_group\n",
    "df[\"compset_group\"].value_counts().plot(kind=\"bar\")\n",
    "\n",
    "# print a dataframe with the count for each compset_group\n",
    "df[\"compset_group\"].value_counts().reset_index()"
   ]
  },
  {
   "cell_type": "markdown",
   "metadata": {},
   "source": [
    "We create following broader categories for the compset_group:\n",
    "\n",
    "1. **Luxury & Premium & Mainstream**\n",
    "   - Luxury & Premium & Mainstream \n",
    "   - Entertainment \n",
    "\n",
    "2. **Retail**\n",
    "   - Apparel Retail\n",
    "   - Sportswear & Athleisure \n",
    "   - Outdoor Gear \n",
    "   - Sporting Goods \n",
    "   - Toys & Collectibles \n",
    "   - Discount Retailers \n",
    "\n",
    "3. **Beauty & Personal Care**\n",
    "   - Beauty & Boutique \n",
    "   - Dermatology and Orthodontics\n",
    "   - Petcare\n",
    "\n",
    "4. **Food & Beverages**\n",
    "   - Food Products \n",
    "   - Beverages \n",
    "   - Restaurants \n",
    "   - Food Retail\n",
    "\n",
    "5. **Home Improvement & Appliances**\n",
    "   - Home Appliances \n",
    "   - Building Products \n",
    "   - Mattress \n"
   ]
  },
  {
   "cell_type": "code",
   "execution_count": 70,
   "metadata": {},
   "outputs": [],
   "source": [
    "# assign the new name to each old compset_group\n",
    "df[\"compset_group\"] = df[\"compset_group\"].replace({\n",
    "    \"Luxury & Premium & Mainstream\": \"Luxury & Premium & Mainstream & Entertainment\",\n",
    "    \"Apparel Retail\": \"Retail\",\n",
    "    \"Sportswear & Athleisure\": \"Retail\",\n",
    "    \"Outdoor Gear\": \"Retail\",\n",
    "    \"Sporting Goods\": \"Retail\",\n",
    "    \"Toys & Collectibles\": \"Retail\",\n",
    "    \"Discount Retailers\": \"Retail\",\n",
    "    \"Beauty & Boutique\": \"Beauty & Personal Care\",\n",
    "    \"Dermatology and Orthodontics\": \"Beauty & Personal Care\",\n",
    "    \"Petcare\": \"Beauty & Personal Care\",\n",
    "    \"Food Products\": \"Food & Beverages\",\n",
    "    \"Beverages\": \"Food & Beverages\",\n",
    "    \"Restaurants\": \"Food & Beverages\",\n",
    "    \"Food Retail\": \"Food & Beverages\",\n",
    "    \"Home Appliances\": \"Home Improvement & Appliances\",\n",
    "    \"Building Products\": \"Home Improvement & Appliances\",\n",
    "    \"Mattress\": \"Home Improvement & Appliances\",\n",
    "    \"Entertainment\": \"Luxury & Premium & Mainstream & Entertainment\",\n",
    "    \"Fitness & Exercise\": \"Retail\"\n",
    "})\n"
   ]
  },
  {
   "cell_type": "code",
   "execution_count": 71,
   "metadata": {},
   "outputs": [
    {
     "data": {
      "text/plain": [
       "Retail                                           281294\n",
       "Luxury & Premium & Mainstream & Entertainment    212906\n",
       "Food & Beverages                                 116521\n",
       "Beauty & Personal Care                            54706\n",
       "Home Improvement & Appliances                     11131\n",
       "Name: compset_group, dtype: int64"
      ]
     },
     "execution_count": 71,
     "metadata": {},
     "output_type": "execute_result"
    },
    {
     "data": {
      "image/png": "[encoded data removed]",
      "text/plain": [
       "<Figure size 640x480 with 1 Axes>"
      ]
     },
     "metadata": {},
     "output_type": "display_data"
    }
   ],
   "source": [
    "# # check that it worked\n",
    "df[\"compset_group\"].value_counts().plot(kind=\"bar\")\n",
    "df[\"compset_group\"].value_counts()"
   ]
  },
  {
   "cell_type": "markdown",
   "metadata": {},
   "source": [
    "Maybe we can merge entertainment in first category since we would not be able to isolate the variance provided by the category."
   ]
  },
  {
   "cell_type": "code",
   "execution_count": 72,
   "metadata": {},
   "outputs": [],
   "source": [
    "# one-hot encode compset_group and remove compset_group\n",
    "df = pd.get_dummies(df, columns=[\"compset_group\"], prefix=\"compset_group\")"
   ]
  },
  {
   "cell_type": "markdown",
   "metadata": {},
   "source": [
    "### feature 4: compset"
   ]
  },
  {
   "cell_type": "code",
   "execution_count": 73,
   "metadata": {},
   "outputs": [
    {
     "data": {
      "text/html": [
       "<div>\n",
       "<style scoped>\n",
       "    .dataframe tbody tr th:only-of-type {\n",
       "        vertical-align: middle;\n",
       "    }\n",
       "\n",
       "    .dataframe tbody tr th {\n",
       "        vertical-align: top;\n",
       "    }\n",
       "\n",
       "    .dataframe thead th {\n",
       "        text-align: right;\n",
       "    }\n",
       "</style>\n",
       "<table border=\"1\" class=\"dataframe\">\n",
       "  <thead>\n",
       "    <tr style=\"text-align: right;\">\n",
       "      <th></th>\n",
       "      <th>period_end_date</th>\n",
       "      <th>compset</th>\n",
       "      <th>business_entity_doing_business_as_name</th>\n",
       "      <th>followers</th>\n",
       "      <th>pictures</th>\n",
       "      <th>videos</th>\n",
       "      <th>comments</th>\n",
       "      <th>likes</th>\n",
       "      <th>compset_group_Beauty &amp; Personal Care</th>\n",
       "      <th>compset_group_Food &amp; Beverages</th>\n",
       "      <th>compset_group_Home Improvement &amp; Appliances</th>\n",
       "      <th>compset_group_Luxury &amp; Premium &amp; Mainstream &amp; Entertainment</th>\n",
       "      <th>compset_group_Retail</th>\n",
       "    </tr>\n",
       "  </thead>\n",
       "  <tbody>\n",
       "    <tr>\n",
       "      <th>65825</th>\n",
       "      <td>2017-09-09</td>\n",
       "      <td>US Softlines Analyst Interest List</td>\n",
       "      <td>Burberry</td>\n",
       "      <td>10009175.0</td>\n",
       "      <td>32.0</td>\n",
       "      <td>2.0</td>\n",
       "      <td>2429.0</td>\n",
       "      <td>697305.0</td>\n",
       "      <td>0</td>\n",
       "      <td>0</td>\n",
       "      <td>0</td>\n",
       "      <td>1</td>\n",
       "      <td>0</td>\n",
       "    </tr>\n",
       "    <tr>\n",
       "      <th>65826</th>\n",
       "      <td>2020-08-01</td>\n",
       "      <td>Global Luxury Analysts Interest List</td>\n",
       "      <td>Burberry</td>\n",
       "      <td>17239745.0</td>\n",
       "      <td>53.0</td>\n",
       "      <td>10.0</td>\n",
       "      <td>8379.0</td>\n",
       "      <td>2071170.0</td>\n",
       "      <td>0</td>\n",
       "      <td>0</td>\n",
       "      <td>0</td>\n",
       "      <td>1</td>\n",
       "      <td>0</td>\n",
       "    </tr>\n",
       "    <tr>\n",
       "      <th>65827</th>\n",
       "      <td>2021-10-23</td>\n",
       "      <td>Soft Luxury</td>\n",
       "      <td>Burberry</td>\n",
       "      <td>18440173.0</td>\n",
       "      <td>31.0</td>\n",
       "      <td>1.0</td>\n",
       "      <td>5394.0</td>\n",
       "      <td>878691.0</td>\n",
       "      <td>0</td>\n",
       "      <td>0</td>\n",
       "      <td>0</td>\n",
       "      <td>1</td>\n",
       "      <td>0</td>\n",
       "    </tr>\n",
       "    <tr>\n",
       "      <th>65828</th>\n",
       "      <td>2016-05-28</td>\n",
       "      <td>Luxury &amp; Premium &amp; Mainstream</td>\n",
       "      <td>Burberry</td>\n",
       "      <td>6810749.0</td>\n",
       "      <td>37.0</td>\n",
       "      <td>6.0</td>\n",
       "      <td>7727.0</td>\n",
       "      <td>1644776.0</td>\n",
       "      <td>0</td>\n",
       "      <td>0</td>\n",
       "      <td>0</td>\n",
       "      <td>1</td>\n",
       "      <td>0</td>\n",
       "    </tr>\n",
       "    <tr>\n",
       "      <th>65829</th>\n",
       "      <td>2015-07-11</td>\n",
       "      <td>Global Luxury Analysts Interest List</td>\n",
       "      <td>Burberry</td>\n",
       "      <td>3958495.0</td>\n",
       "      <td>50.0</td>\n",
       "      <td>8.0</td>\n",
       "      <td>8952.0</td>\n",
       "      <td>1918501.0</td>\n",
       "      <td>0</td>\n",
       "      <td>0</td>\n",
       "      <td>0</td>\n",
       "      <td>1</td>\n",
       "      <td>0</td>\n",
       "    </tr>\n",
       "  </tbody>\n",
       "</table>\n",
       "</div>"
      ],
      "text/plain": [
       "      period_end_date                               compset  \\\n",
       "65825      2017-09-09    US Softlines Analyst Interest List   \n",
       "65826      2020-08-01  Global Luxury Analysts Interest List   \n",
       "65827      2021-10-23                           Soft Luxury   \n",
       "65828      2016-05-28         Luxury & Premium & Mainstream   \n",
       "65829      2015-07-11  Global Luxury Analysts Interest List   \n",
       "\n",
       "      business_entity_doing_business_as_name   followers  pictures  videos  \\\n",
       "65825                               Burberry  10009175.0      32.0     2.0   \n",
       "65826                               Burberry  17239745.0      53.0    10.0   \n",
       "65827                               Burberry  18440173.0      31.0     1.0   \n",
       "65828                               Burberry   6810749.0      37.0     6.0   \n",
       "65829                               Burberry   3958495.0      50.0     8.0   \n",
       "\n",
       "       comments      likes  compset_group_Beauty & Personal Care  \\\n",
       "65825    2429.0   697305.0                                     0   \n",
       "65826    8379.0  2071170.0                                     0   \n",
       "65827    5394.0   878691.0                                     0   \n",
       "65828    7727.0  1644776.0                                     0   \n",
       "65829    8952.0  1918501.0                                     0   \n",
       "\n",
       "       compset_group_Food & Beverages  \\\n",
       "65825                               0   \n",
       "65826                               0   \n",
       "65827                               0   \n",
       "65828                               0   \n",
       "65829                               0   \n",
       "\n",
       "       compset_group_Home Improvement & Appliances  \\\n",
       "65825                                            0   \n",
       "65826                                            0   \n",
       "65827                                            0   \n",
       "65828                                            0   \n",
       "65829                                            0   \n",
       "\n",
       "       compset_group_Luxury & Premium & Mainstream & Entertainment  \\\n",
       "65825                                                  1             \n",
       "65826                                                  1             \n",
       "65827                                                  1             \n",
       "65828                                                  1             \n",
       "65829                                                  1             \n",
       "\n",
       "       compset_group_Retail  \n",
       "65825                     0  \n",
       "65826                     0  \n",
       "65827                     0  \n",
       "65828                     0  \n",
       "65829                     0  "
      ]
     },
     "execution_count": 73,
     "metadata": {},
     "output_type": "execute_result"
    }
   ],
   "source": [
    "# we discovered that companies have different compsets, but the numerical data is aggregetated already,\n",
    "# so it seems like they get more ...\n",
    "\n",
    "df[df[\"business_entity_doing_business_as_name\"] == \"Burberry\"].head()"
   ]
  },
  {
   "cell_type": "code",
   "execution_count": 74,
   "metadata": {},
   "outputs": [
    {
     "data": {
      "text/plain": [
       "array(['Soft Luxury', 'Luxury & Premium & Mainstream',\n",
       "       'US Softlines Analyst Interest List',\n",
       "       'Global Luxury Analysts Interest List', 'Coffee', 'Restaurants',\n",
       "       'Beverages', 'Sports drinks', 'Energy drinks', 'Fast Fashion',\n",
       "       'Omnichannel Apparel Retail', 'Apparel Retail',\n",
       "       'US Department Store', 'Latam Apparel Retail', 'Food Products',\n",
       "       'Snack Bars', 'Pasta Sauce', 'Ecommerce Apparel Retail',\n",
       "       'Ecommerce Mainstream Apparel Retail', 'Sporting Goods',\n",
       "       'Casual Dining', 'Hard Luxury', 'Sportswear & Athleisure',\n",
       "       'Athleisure', 'Footwear', 'Beauty & Boutique', 'Building Products',\n",
       "       'Sportswear', 'Petcare', 'Premium Brands', 'QSR', 'Alcohol',\n",
       "       'Toys & Collectibles', 'Mattress', 'Fitness & Exercise',\n",
       "       'US Discount Store', 'Ecommerce Luxury Apparel Retail',\n",
       "       'Plant-Based Meat', 'Food Retail', 'Discount Retailers',\n",
       "       'Mid-Range Watch & Jewelry', 'Outdoor Gear', 'Plant-Based Dairy',\n",
       "       'Mainstream Brands', 'Dermatology and Orthodontics', 'Dermatology',\n",
       "       'Entertainment', 'Workout Gear', 'Yoghurt', 'Home Appliances',\n",
       "       'Soda', 'Fast Casual', 'Orthodontics'], dtype=object)"
      ]
     },
     "execution_count": 74,
     "metadata": {},
     "output_type": "execute_result"
    }
   ],
   "source": [
    "# unique values\n",
    "df['compset'].unique()"
   ]
  },
  {
   "cell_type": "code",
   "execution_count": 75,
   "metadata": {},
   "outputs": [
    {
     "data": {
      "text/plain": [
       "US Softlines Analyst Interest List      111924\n",
       "Apparel Retail                           68886\n",
       "Luxury & Premium & Mainstream            64086\n",
       "Beauty & Boutique                        43811\n",
       "Global Luxury Analysts Interest List     28778\n",
       "Omnichannel Apparel Retail               24594\n",
       "Sportswear & Athleisure                  20445\n",
       "Food Products                            19941\n",
       "Beverages                                19598\n",
       "Ecommerce Apparel Retail                 19159\n",
       "Fast Fashion                             18826\n",
       "Soft Luxury                              18715\n",
       "Restaurants                              17662\n",
       "Hard Luxury                              14500\n",
       "Alcohol                                  12912\n",
       "Sportswear                               12256\n",
       "Premium Brands                           11670\n",
       "Footwear                                 10366\n",
       "Ecommerce Mainstream Apparel Retail       9008\n",
       "Fitness & Exercise                        8523\n",
       "Mid-Range Watch & Jewelry                 8014\n",
       "Outdoor Gear                              7261\n",
       "Plant-Based Meat                          7163\n",
       "QSR                                       6816\n",
       "Athleisure                                6523\n",
       "Casual Dining                             6296\n",
       "Ecommerce Luxury Apparel Retail           5286\n",
       "Mattress                                  4652\n",
       "US Department Store                       4550\n",
       "Petcare                                   4441\n",
       "US Discount Store                         4394\n",
       "Plant-Based Dairy                         4388\n",
       "Building Products                         3921\n",
       "Mainstream Brands                         3895\n",
       "Snack Bars                                3620\n",
       "Dermatology and Orthodontics              3227\n",
       "Latam Apparel Retail                      3185\n",
       "Soda                                      3107\n",
       "Yoghurt                                   2730\n",
       "Fast Casual                               2730\n",
       "Sporting Goods                            2730\n",
       "Home Appliances                           2558\n",
       "Workout Gear                              2447\n",
       "Dermatology                               2369\n",
       "Energy drinks                             2223\n",
       "Food Retail                               2119\n",
       "Pasta Sauce                               2040\n",
       "Coffee                                    1820\n",
       "Toys & Collectibles                       1774\n",
       "Discount Retailers                        1645\n",
       "Sports drinks                             1356\n",
       "Orthodontics                               858\n",
       "Entertainment                              760\n",
       "Name: compset, dtype: int64"
      ]
     },
     "execution_count": 75,
     "metadata": {},
     "output_type": "execute_result"
    },
    {
     "data": {
      "image/png": "[encoded data removed]",
      "text/plain": [
       "<Figure size 640x480 with 1 Axes>"
      ]
     },
     "metadata": {},
     "output_type": "display_data"
    }
   ],
   "source": [
    "# unique value counts\n",
    "df['compset'].value_counts().plot(kind=\"bar\")\n",
    "df['compset'].value_counts()"
   ]
  },
  {
   "cell_type": "code",
   "execution_count": 76,
   "metadata": {},
   "outputs": [
    {
     "data": {
      "text/html": [
       "<div>\n",
       "<style scoped>\n",
       "    .dataframe tbody tr th:only-of-type {\n",
       "        vertical-align: middle;\n",
       "    }\n",
       "\n",
       "    .dataframe tbody tr th {\n",
       "        vertical-align: top;\n",
       "    }\n",
       "\n",
       "    .dataframe thead th {\n",
       "        text-align: right;\n",
       "    }\n",
       "</style>\n",
       "<table border=\"1\" class=\"dataframe\">\n",
       "  <thead>\n",
       "    <tr style=\"text-align: right;\">\n",
       "      <th></th>\n",
       "      <th>business_entity_doing_business_as_name</th>\n",
       "      <th>compset</th>\n",
       "    </tr>\n",
       "  </thead>\n",
       "  <tbody>\n",
       "    <tr>\n",
       "      <th>0</th>\n",
       "      <td>24S</td>\n",
       "      <td>4</td>\n",
       "    </tr>\n",
       "    <tr>\n",
       "      <th>1</th>\n",
       "      <td>3.1 Phillip Lim</td>\n",
       "      <td>3</td>\n",
       "    </tr>\n",
       "    <tr>\n",
       "      <th>2</th>\n",
       "      <td>3CE</td>\n",
       "      <td>1</td>\n",
       "    </tr>\n",
       "    <tr>\n",
       "      <th>3</th>\n",
       "      <td>A. Lange &amp; Soehne</td>\n",
       "      <td>2</td>\n",
       "    </tr>\n",
       "    <tr>\n",
       "      <th>4</th>\n",
       "      <td>ANIMALE</td>\n",
       "      <td>1</td>\n",
       "    </tr>\n",
       "    <tr>\n",
       "      <th>...</th>\n",
       "      <td>...</td>\n",
       "      <td>...</td>\n",
       "    </tr>\n",
       "    <tr>\n",
       "      <th>700</th>\n",
       "      <td>bareMinerals</td>\n",
       "      <td>1</td>\n",
       "    </tr>\n",
       "    <tr>\n",
       "      <th>701</th>\n",
       "      <td>dd's Discounts</td>\n",
       "      <td>3</td>\n",
       "    </tr>\n",
       "    <tr>\n",
       "      <th>702</th>\n",
       "      <td>e.l.f.</td>\n",
       "      <td>1</td>\n",
       "    </tr>\n",
       "    <tr>\n",
       "      <th>703</th>\n",
       "      <td>iRobot</td>\n",
       "      <td>1</td>\n",
       "    </tr>\n",
       "    <tr>\n",
       "      <th>704</th>\n",
       "      <td>shopDisney</td>\n",
       "      <td>1</td>\n",
       "    </tr>\n",
       "  </tbody>\n",
       "</table>\n",
       "<p>705 rows × 2 columns</p>\n",
       "</div>"
      ],
      "text/plain": [
       "    business_entity_doing_business_as_name  compset\n",
       "0                                      24S        4\n",
       "1                          3.1 Phillip Lim        3\n",
       "2                                      3CE        1\n",
       "3                        A. Lange & Soehne        2\n",
       "4                                  ANIMALE        1\n",
       "..                                     ...      ...\n",
       "700                           bareMinerals        1\n",
       "701                         dd's Discounts        3\n",
       "702                                 e.l.f.        1\n",
       "703                                 iRobot        1\n",
       "704                             shopDisney        1\n",
       "\n",
       "[705 rows x 2 columns]"
      ]
     },
     "execution_count": 76,
     "metadata": {},
     "output_type": "execute_result"
    }
   ],
   "source": [
    "# does each company have a unique compset? assign a df in which we have the count of unique compsets for each brand\n",
    "temp = df.groupby(\"business_entity_doing_business_as_name\")[\"compset\"].nunique().reset_index()\n",
    "temp"
   ]
  },
  {
   "cell_type": "code",
   "execution_count": 77,
   "metadata": {},
   "outputs": [
    {
     "data": {
      "text/plain": [
       "<Axes: >"
      ]
     },
     "execution_count": 77,
     "metadata": {},
     "output_type": "execute_result"
    },
    {
     "data": {
      "image/png": "[encoded data removed]",
      "text/plain": [
       "<Figure size 640x480 with 1 Axes>"
      ]
     },
     "metadata": {},
     "output_type": "display_data"
    }
   ],
   "source": [
    "# count number of companies for each count\n",
    "temp[\"compset\"].value_counts().plot(kind=\"bar\")"
   ]
  },
  {
   "cell_type": "markdown",
   "metadata": {},
   "source": [
    "We choose to drop the feature because of the amount of unique values, instead of one-hot-encoding it."
   ]
  },
  {
   "cell_type": "code",
   "execution_count": 78,
   "metadata": {},
   "outputs": [],
   "source": [
    "# drop\n",
    "df.drop(columns=[\"compset\"], inplace=True)"
   ]
  },
  {
   "cell_type": "markdown",
   "metadata": {},
   "source": [
    "### feature 5: business_entity_doing_business_as_name"
   ]
  },
  {
   "cell_type": "code",
   "execution_count": 79,
   "metadata": {},
   "outputs": [
    {
     "data": {
      "text/plain": [
       "array(['Versace', \"Tim Horton's\", 'Gatorade', 'Monster Energy', 'Aritzia',\n",
       "       'Lovisa', 'Saks Fifth Avenue', 'Ferragamo', 'Riachuelo',\n",
       "       'Louis Vuitton', 'Nature Valley', \"Rao's\", 'YesStyle',\n",
       "       'Academy Sports + Outdoors', 'Outback Steakhouse', 'Cartier',\n",
       "       'Costa Coffee', 'Lululemon', 'Clif Bar', 'Richards',\n",
       "       'Steve Madden', 'DTLR', 'IL MAKIAGE', 'Topshop', 'Boral',\n",
       "       'Skechers', 'Balmain Beauty', 'Meow Mix', 'Michael Kors', 'Chloe',\n",
       "       'Wingstop', 'Absolut', 'Miniso', 'TAG Heuer', 'Helix',\n",
       "       'C&A Brasil', 'YSL Beauty', 'C&A', 'Saint Laurent', 'Mirror',\n",
       "       'Dermalogica', 'Saks Off Fifth', 'LORO PIANA', 'Topman', 'Garnier',\n",
       "       'The RealReal', 'Beyond Meat', 'Volcom', 'Hourglass',\n",
       "       'Pure Farmland', 'Esprit', 'Buffalo Wild Wings', 'Boozt', 'Aldi',\n",
       "       'Banana Republic', 'Sam Edelman', 'Lord + Taylor', 'Blink Fitness',\n",
       "       'BodyArmor', 'Tempur', 'Dollar Tree', 'MVMT', 'Champs Sports',\n",
       "       'Macpac', 'Burberry', 'Certina', 'Nine West', 'Sofina', 'Alme',\n",
       "       'Hoegaarden', 'Eddie Bauer', 'Minor Figures', 'Pure Group',\n",
       "       'CertainTeed', 'Mango', 'Nectar', 'Fabula', 'Brahma', 'Hering',\n",
       "       'Nordstrom', 'Audemars Piguet', 'Shu Uemura', 'Drunk Elephant',\n",
       "       'Kathmandu', 'SuitSupply', 'Jack in the Box',\n",
       "       'LP Building Products', 'Miu Miu', 'Ralph Lauren', 'Boot Barn',\n",
       "       'Erborian', 'Missguided', 'Skol', 'Stradivarius',\n",
       "       'Brunello Cucinelli', 'Armani', 'Billabong', 'DKNY', 'NIVEA',\n",
       "       'Dumond', \"Macy's Backstage\", \"Hill's\", 'Athleta',\n",
       "       'Kylie Cosmetics', 'Juvederm', 'P.E Nation', \"Bloomingdale's\",\n",
       "       'Tofurky', 'Lilys Kitchen', 'Reserva', 'Hermes',\n",
       "       'The Meatless Farm', 'Hollister', \"Cabela's\", 'Bobbi Brown',\n",
       "       'Etsy', 'Longines', 'Starwars', 'Boca', 'Esalon', 'Saatva', 'RTIC',\n",
       "       'Adidas', 'Asics', 'Gardein', 'Hylete', \"Barry's Bootcamp\",\n",
       "       'Olaplex', 'Bass Pro Shops', 'Jaeger-LeCoultre', 'Breitling',\n",
       "       \"Siggi's Dairy\", 'KIND', 'Supreme', 'Grown Alchemist', 'Primark',\n",
       "       \"Cheddar's Scratch Kitchen\", 'Breguet', 'Sonic', 'Jeuveau',\n",
       "       'Shark Home', 'Melvita', 'James Hardie Industries',\n",
       "       'Neiman Marcus', 'Tom Ford Beauty', 'Stone Island',\n",
       "       \"OshKosh B'gosh\", 'Troc', 'LimeLife', 'Avon', \"dd's Discounts\",\n",
       "       'Madison Reed', 'Coca-Cola', 'Patagonia', 'Vince',\n",
       "       'Manolo Blahnik', 'Dune', 'Lidl', 'East Bay', 'Wish', 'Aveda',\n",
       "       'Benefit', 'Patek Philippe', \"Dillard's\", 'Foot Action',\n",
       "       'Diane Von Furstenberg', 'Bottega Veneta', 'Clairol', 'Chopard',\n",
       "       'Donna Karan', 'Target', 'NOBULL', 'Vegetarian Butcher', 'Fiever',\n",
       "       'Salinas', 'Valentino', 'Tarte Cosmetics', 'Mido', 'Disney',\n",
       "       \"Kiehl's\", 'Runnerspoint', 'Farfetch', 'Roberto Cavalli',\n",
       "       'Pantene', 'Skip Hop', 'CamelBak', 'H Stern', 'Maria Filo',\n",
       "       'Fashion Nova', 'Planet Fitness', 'Prada', 'Burger King',\n",
       "       'TGI Fridays', 'YETI', 'Botox', 'Aldo', 'Elemis', 'Hibbett Sports',\n",
       "       'Purple', 'Chobani', 'Kenzo', 'MAC Cosmetics', 'SoulCycle',\n",
       "       'Powerade', 'Bjorg', 'Zales', 'Acne Studios', 'Marc Jacobs',\n",
       "       'FWRD', 'Muji', 'Rip Curl', 'Alexander Wang', 'Dos Equis XX',\n",
       "       'Red Bull', 'Red Robin', 'Fila', 'Harry Winston', 'Rolife',\n",
       "       'Shoulder', 'Temu', 'Anta', 'CEMEX', 'Bumble and bumble',\n",
       "       'Chaumet', 'Sephora', 'Tesco Supermarket', 'On Running',\n",
       "       'Colorado', \"Chili's\", 'Amstel', 'Cannuka', 'Montejo',\n",
       "       'Matchesfashion', 'Natura', 'Becca', 'Eudora', 'Dudalina',\n",
       "       'Zenith', 'Goose Island', 'Orangetheory', 'Coles', 'Quorn',\n",
       "       'REVOLVE', 'Smirnoff', 'Tineco', 'Value Village', 'Lorna Jane',\n",
       "       'NYX', 'Flywheel Sports', 'Dafiti', 'Serta', 'Mountain Dew',\n",
       "       'Roger Dubuis', 'Chanel Beauty', 'Garancia',\n",
       "       'Burlington Coat Factory', 'Funko', '24S', 'ONE Brands',\n",
       "       'Bergdorf Goodman', 'Alexander McQueen', 'Vidal Sassoon', 'Swatch',\n",
       "       'Lucky', 'Reebok', 'New Balance', 'Mary Kay', 'Revlon',\n",
       "       'Remy Martin', 'Huffer', 'Oysho', 'TRX', 'ORCA', 'Sharkbite',\n",
       "       'Shopbop', 'Balmain', 'Le Lis Blanc', 'Bobstore', 'Santa Lolla',\n",
       "       'IT Cosmetics', 'Designer Shoe Warehouse', 'Sol', 'Oatly',\n",
       "       'Royal Building Products', 'Estee Lauder', 'Main Event',\n",
       "       'Breville', 'Armani Beauty', 'Quest Nutrition', 'Casper',\n",
       "       'Doyoueven', 'Ollies Bargain Outlet', 'Piaget', 'Texas Roadhouse',\n",
       "       '3CE', 'Modelo', 'Alo Yoga', 'Pedigree', 'Alexandre Birman',\n",
       "       'Massimo Dutti', 'Loewe', 'Devassa', 'Kerastase',\n",
       "       'Burberry Beauty', 'Fitness First', 'ColourPop', 'Dolce & Gabbana',\n",
       "       'Bershka', 'Sol de Janeiro', 'Givenchy', 'Sandro', 'Provamel',\n",
       "       'Jimmy Choo', 'Alpro', 'Tom Ford', 'SK-II', 'Coach', 'Simmons',\n",
       "       'bareMinerals', 'Bulgari Beauty', 'Dunlop Sports',\n",
       "       '3.1 Phillip Lim', 'Roxy', \"Dave & Buster's\",\n",
       "       'LongHorn Steakhouse', \"Kohl's\", 'Kate Spade', \"Marshall's\",\n",
       "       'TJ Maxx', 'Ivy Park', 'Hey Dude', 'ShopGoodwill',\n",
       "       'Van Cleef & Arpels', 'Urban Outfitters', 'Inov-8',\n",
       "       'Columbia Sportswear', 'Christian Louboutin', 'Lee',\n",
       "       'Moda Operandi', 'Owens Corning', 'IAMS', 'RokFit', 'YOOX',\n",
       "       'Smashbox', 'Sensai', 'H&M', 'INDIO', 'Finding Unicorn',\n",
       "       'Savage X Fenty', 'Crown Royal', 'Origins', 'Coleman', 'Kanebo',\n",
       "       'Wahoo Fitness', 'Gap', \"Victoria's Secret\", 'Too Faced', 'Schuh',\n",
       "       'Carolina Herrera', 'Superdown', 'Knight & Wilson', 'Pop Mart',\n",
       "       'Peoples Jewellers', 'Off-White', 'Dior Beauty', 'Aperol',\n",
       "       'Sculptra', 'Revanesse', 'MARVEL', 'Blancpain', 'Atkins',\n",
       "       'Chipotle', 'Li Ning', 'Quiksilver', 'Ellus', 'Cheesecake Factory',\n",
       "       \"Domino's Pizza\", 'Wella', 'Asos', 'Life by Vivara',\n",
       "       'VR Collezioni', 'Ted Baker', 'A. Lange & Soehne', 'Noosa',\n",
       "       'About You', 'Christian Louboutin Beauty', 'Stonyfield Farm',\n",
       "       'Alice & Olivia', 'Neiman Marcus Last Call', 'Tecate',\n",
       "       'Outdoor Voices', 'Marc Jacobs Beauty', \"Beck's\", 'La Mer',\n",
       "       'Theory', \"Dick's Sporting Goods\", 'VO5', 'No Evil Foods',\n",
       "       'Lightlife', 'SkinCeuticals', 'Charlotte Tilbury',\n",
       "       'The Very Good Butchers', 'Build A Bear', \"Papa John's\",\n",
       "       'Bell & Ross', 'Izod', 'Popeyes', 'NV', 'Wolaco', 'Rumble Boxing',\n",
       "       'Corello', 'Cris Barros', 'Gymshark', 'Merrell', 'Timex',\n",
       "       'Kay Jewelers', 'Anacapri', 'Celsius', 'Crocs', 'Maybelline',\n",
       "       'HomeGoods', 'Yves Veggie Cuisine', 'Citizen', 'Rogue Fitness',\n",
       "       'e.l.f.', 'Lancome', 'Zegna', \"Nando's\", 'Schutz', 'Aerie',\n",
       "       'Bo.Bo', 'Hydro Flask', 'Fendi', 'Rag & Bone', 'Redken',\n",
       "       'Johnston & Murphy', 'CSR', 'Uniqlo', 'Hublot', 'Dsquared2',\n",
       "       'La Roche-Posay', 'SOREL', 'Rolex', 'J Crew', 'Hamilton Watch',\n",
       "       'Big Lots', 'SSENSE', 'Cle de Peau Beaute', 'Silk', 'FARM',\n",
       "       'American Eagle', 'Ragu', 'Amaro', 'Belotero', 'Timberland',\n",
       "       'John Frieda', 'Kurt Geiger', 'Rockstar', 'Stella McCartney',\n",
       "       'Torpedo 7', 'CCC Shoes', 'Kenzo Beauty', 'Five Below', 'SHEIN',\n",
       "       'In-N-Out Burger', 'Sanrio', 'Jameson', 'VICTORIA Beer',\n",
       "       'Balenciaga', 'Nordstrom Rack', 'Superdry', \"Wendy's\", 'Dockers',\n",
       "       'Loewe Beauty', 'Eisenbahn', 'Chanel', 'Sleep Number',\n",
       "       'Almond Breeze', 'Monte Carlo', 'Nasty Gal', 'Anthropologie',\n",
       "       'Sizeer', \"Applebee's\", 'AllSaints', 'Claudie Pierlot',\n",
       "       'Sweet Earth', 'Zara', \"L'Oreal Professionnel\", 'Woolworths',\n",
       "       'Zalando', 'Laura Mercier', 'Anastasia Beverly Hills', 'Starbucks',\n",
       "       'The North Face', 'Juicy Couture', 'Impossible Foods',\n",
       "       'Gucci Beauty', 'Budweiser', 'City Chic', 'Carta Blanca Beer',\n",
       "       'Nike', 'Rado', 'ThredUp', 'Chick-fil-A', 'Morningstar Farms',\n",
       "       'Sweetgreen', 'Shake Shack', 'Spaten', 'Suunto',\n",
       "       'IWC Schaffhausen', 'IGLOO', 'Mytheresa', \"Tod's\", 'Dysport',\n",
       "       'Casio Watch', 'Bang', 'The Body Shop', 'Rachael Ray Nutrish',\n",
       "       'Omega', 'Vince Camuto', 'Equinox', 'La Prairie', 'Boohoo',\n",
       "       'J. C. Penney', 'Madewell', 'Itaipava', 'Leesa',\n",
       "       \"L'OCCITANE au Bresil\", 'Tudor', 'Old Navy', 'Purina', 'Arezzo',\n",
       "       'Blaze Pizza', 'Moncler', 'Peloton', 'Larabar', 'Pepsi',\n",
       "       'Brooks Brothers', \"BJ's Restaurant & Brewhouse\", 'Tory Burch',\n",
       "       'Sperry', 'Dior', 'Taco Bell', 'Ecovacs', \"O'Neill\", 'Garmin',\n",
       "       'Vivara', 'Seiko', 'Poshmark', 'Royal Canin', 'Yoplait', 'Darphin',\n",
       "       'Otto GmbH', 'Field Roast', 'Ray Ban', 'Dr.Jart', 'Fitplan',\n",
       "       'Ulta Beauty', \"Dunkin' Donuts\", 'Clinique', 'Dove',\n",
       "       'Canada Goose', 'Glashutte Original', 'Richard Mille', 'Rosa Cha',\n",
       "       'Softsheen-Carson', 'Rude Health', 'Jared The Galleria of Jewelry',\n",
       "       'ANIMALE', 'Hoka One One', 'Daniel Wellington', 'Under Armour',\n",
       "       'KFC', 'Guarana Antarctica', 'Net-a-Porter', 'Celine', \"Levi's\",\n",
       "       'The Kooples', 'Antarctica', 'Wrangler', 'Morphe', 'NARS',\n",
       "       'Tiffany & Co.', 'Virgin Active', 'Allbirds', 'Fabletics',\n",
       "       'Rent the Runway', 'Restylane', \"The Children's Place\", 'Fage',\n",
       "       'Casamigos', 'Healthy Human', 'John John Denim', 'Corona',\n",
       "       'Whataburger', 'Vacheron Constantin', \"L'OCCITANE\", 'Stitch Fix',\n",
       "       'O Boticario', 'Barneys New York', 'Givenchy Beauty', 'Bertolli',\n",
       "       'Califia Farms', 'SPRITE', 'Capodarte', 'Proenza Schouler',\n",
       "       'SmileDirectClub', 'JD Sports', 'Bath & Body Works', 'Tissot',\n",
       "       'Michelob Ultra', 'Boss', 'Pretty Little Thing', 'Blue Buffalo',\n",
       "       'Trask', \"L'Oreal Paris\", 'Piercing Pagoda', 'Le Coq Sportif',\n",
       "       'Forever 21', 'Gucci', 'Panerai', 'Fenty Beauty', \"McDonald's\",\n",
       "       'My Shoes', 'Cerveza Patagonia', 'Vans', 'GAF', \"Upton's Naturals\",\n",
       "       'Ninja Kitchen', 'Thom Browne', 'Schwarzkopf', 'Barilla',\n",
       "       'Abercrombie & Fitch', 'ClassPass', 'Max Mara', 'Tommy Hilfiger',\n",
       "       'Garden Gourmet', 'Stella Artois', 'Foxton', 'Cole Haan', 'COS',\n",
       "       'REI', 'iRobot', 'Whiskas', 'Finish Line', \"Macy's\", 'Tobi',\n",
       "       'Buckle', 'Tonica Antarctica', 'shopDisney', 'Noodles & Company',\n",
       "       'Oboz', 'Aeropostale', 'Citi Trends', 'Sweaty Betty', 'Pandora',\n",
       "       'Journeys', 'Buitoni', 'Schweppes', 'Montblanc', 'Olive Garden',\n",
       "       'Bulgari', 'Invisalign', 'Urban Decay Cosmetics', 'Tatcha',\n",
       "       'Dollar General', 'Puma', 'Maje', 'Ultracor', 'Shoe Palace',\n",
       "       'Carol Bassi', 'UGG', 'Pure Protein', 'Dr Pepper', 'Champion',\n",
       "       'Pull&Bear', 'Lacoste', 'Calvin Klein', 'Syoss', 'So Delicious',\n",
       "       'Carla Amorim', 'Lojas Renner', 'NordicTrack',\n",
       "       'Ross Dress For Less', 'Pacifico', 'Xeomin', 'Dr. Martens', 'Est',\n",
       "       'Carmen Steffens', 'Foot Locker', 'Pizza Hut', 'Tuft & Needle',\n",
       "       'Uterque', \"Carter's\", 'Roborock', 'Baw Clothing', 'Marisa',\n",
       "       'Saucony', 'TIGI', 'Hugo', 'Roger Vivier', 'Nautica', 'GlamGlow',\n",
       "       'Mizuno', 'Klean Kanteen'], dtype=object)"
      ]
     },
     "execution_count": 79,
     "metadata": {},
     "output_type": "execute_result"
    }
   ],
   "source": [
    "# business_entity_doing_business_as_name\n",
    "# unique names\n",
    "df['business_entity_doing_business_as_name'].unique()"
   ]
  },
  {
   "cell_type": "code",
   "execution_count": 80,
   "metadata": {},
   "outputs": [
    {
     "data": {
      "text/plain": [
       "705"
      ]
     },
     "execution_count": 80,
     "metadata": {},
     "output_type": "execute_result"
    }
   ],
   "source": [
    "# count of unique names\n",
    "df['business_entity_doing_business_as_name'].nunique()"
   ]
  },
  {
   "cell_type": "markdown",
   "metadata": {},
   "source": [
    "### check for duplicates"
   ]
  },
  {
   "cell_type": "code",
   "execution_count": 81,
   "metadata": {},
   "outputs": [
    {
     "name": "stdout",
     "output_type": "stream",
     "text": [
      "len(df): 676558\n",
      "dup: 378518\n"
     ]
    }
   ],
   "source": [
    "# check for duplicate rows\n",
    "print(\"len(df):\", len(df))\n",
    "dup = df.duplicated().sum()\n",
    "print(\"dup:\", dup)\n",
    "\n",
    "# drop duplicates\n",
    "df.drop_duplicates(inplace=True)"
   ]
  },
  {
   "cell_type": "code",
   "execution_count": 82,
   "metadata": {},
   "outputs": [
    {
     "name": "stdout",
     "output_type": "stream",
     "text": [
      "len(df): 298040\n",
      "dup: 0\n"
     ]
    }
   ],
   "source": [
    "print(\"len(df):\", len(df))\n",
    "dup = df.duplicated().sum()\n",
    "print(\"dup:\", dup)"
   ]
  },
  {
   "cell_type": "code",
   "execution_count": 83,
   "metadata": {},
   "outputs": [
    {
     "data": {
      "text/html": [
       "<div>\n",
       "<style scoped>\n",
       "    .dataframe tbody tr th:only-of-type {\n",
       "        vertical-align: middle;\n",
       "    }\n",
       "\n",
       "    .dataframe tbody tr th {\n",
       "        vertical-align: top;\n",
       "    }\n",
       "\n",
       "    .dataframe thead th {\n",
       "        text-align: right;\n",
       "    }\n",
       "</style>\n",
       "<table border=\"1\" class=\"dataframe\">\n",
       "  <thead>\n",
       "    <tr style=\"text-align: right;\">\n",
       "      <th></th>\n",
       "      <th>period_end_date</th>\n",
       "      <th>business_entity_doing_business_as_name</th>\n",
       "      <th>followers</th>\n",
       "      <th>pictures</th>\n",
       "      <th>videos</th>\n",
       "      <th>comments</th>\n",
       "      <th>likes</th>\n",
       "      <th>compset_group_Beauty &amp; Personal Care</th>\n",
       "      <th>compset_group_Food &amp; Beverages</th>\n",
       "      <th>compset_group_Home Improvement &amp; Appliances</th>\n",
       "      <th>compset_group_Luxury &amp; Premium &amp; Mainstream &amp; Entertainment</th>\n",
       "      <th>compset_group_Retail</th>\n",
       "    </tr>\n",
       "  </thead>\n",
       "  <tbody>\n",
       "    <tr>\n",
       "      <th>0</th>\n",
       "      <td>2019-12-07</td>\n",
       "      <td>Versace</td>\n",
       "      <td>22066189.0</td>\n",
       "      <td>97.0</td>\n",
       "      <td>13.0</td>\n",
       "      <td>16239.0</td>\n",
       "      <td>6112205.0</td>\n",
       "      <td>0</td>\n",
       "      <td>0</td>\n",
       "      <td>0</td>\n",
       "      <td>1</td>\n",
       "      <td>0</td>\n",
       "    </tr>\n",
       "    <tr>\n",
       "      <th>1</th>\n",
       "      <td>2021-01-30</td>\n",
       "      <td>Versace</td>\n",
       "      <td>24289963.0</td>\n",
       "      <td>54.0</td>\n",
       "      <td>2.0</td>\n",
       "      <td>13358.0</td>\n",
       "      <td>3189144.0</td>\n",
       "      <td>0</td>\n",
       "      <td>0</td>\n",
       "      <td>0</td>\n",
       "      <td>1</td>\n",
       "      <td>0</td>\n",
       "    </tr>\n",
       "    <tr>\n",
       "      <th>2</th>\n",
       "      <td>2016-05-14</td>\n",
       "      <td>Versace</td>\n",
       "      <td>7137442.0</td>\n",
       "      <td>42.0</td>\n",
       "      <td>8.0</td>\n",
       "      <td>15894.0</td>\n",
       "      <td>2152955.0</td>\n",
       "      <td>0</td>\n",
       "      <td>0</td>\n",
       "      <td>0</td>\n",
       "      <td>1</td>\n",
       "      <td>0</td>\n",
       "    </tr>\n",
       "    <tr>\n",
       "      <th>3</th>\n",
       "      <td>2019-04-20</td>\n",
       "      <td>Versace</td>\n",
       "      <td>18901125.0</td>\n",
       "      <td>73.0</td>\n",
       "      <td>9.0</td>\n",
       "      <td>26762.0</td>\n",
       "      <td>5224916.0</td>\n",
       "      <td>0</td>\n",
       "      <td>0</td>\n",
       "      <td>0</td>\n",
       "      <td>1</td>\n",
       "      <td>0</td>\n",
       "    </tr>\n",
       "    <tr>\n",
       "      <th>4</th>\n",
       "      <td>2023-03-25</td>\n",
       "      <td>Versace</td>\n",
       "      <td>30251374.0</td>\n",
       "      <td>54.0</td>\n",
       "      <td>10.0</td>\n",
       "      <td>25681.0</td>\n",
       "      <td>5760987.0</td>\n",
       "      <td>0</td>\n",
       "      <td>0</td>\n",
       "      <td>0</td>\n",
       "      <td>1</td>\n",
       "      <td>0</td>\n",
       "    </tr>\n",
       "  </tbody>\n",
       "</table>\n",
       "</div>"
      ],
      "text/plain": [
       "  period_end_date business_entity_doing_business_as_name   followers  \\\n",
       "0      2019-12-07                                Versace  22066189.0   \n",
       "1      2021-01-30                                Versace  24289963.0   \n",
       "2      2016-05-14                                Versace   7137442.0   \n",
       "3      2019-04-20                                Versace  18901125.0   \n",
       "4      2023-03-25                                Versace  30251374.0   \n",
       "\n",
       "   pictures  videos  comments      likes  \\\n",
       "0      97.0    13.0   16239.0  6112205.0   \n",
       "1      54.0     2.0   13358.0  3189144.0   \n",
       "2      42.0     8.0   15894.0  2152955.0   \n",
       "3      73.0     9.0   26762.0  5224916.0   \n",
       "4      54.0    10.0   25681.0  5760987.0   \n",
       "\n",
       "   compset_group_Beauty & Personal Care  compset_group_Food & Beverages  \\\n",
       "0                                     0                               0   \n",
       "1                                     0                               0   \n",
       "2                                     0                               0   \n",
       "3                                     0                               0   \n",
       "4                                     0                               0   \n",
       "\n",
       "   compset_group_Home Improvement & Appliances  \\\n",
       "0                                            0   \n",
       "1                                            0   \n",
       "2                                            0   \n",
       "3                                            0   \n",
       "4                                            0   \n",
       "\n",
       "   compset_group_Luxury & Premium & Mainstream & Entertainment  \\\n",
       "0                                                  1             \n",
       "1                                                  1             \n",
       "2                                                  1             \n",
       "3                                                  1             \n",
       "4                                                  1             \n",
       "\n",
       "   compset_group_Retail  \n",
       "0                     0  \n",
       "1                     0  \n",
       "2                     0  \n",
       "3                     0  \n",
       "4                     0  "
      ]
     },
     "execution_count": 83,
     "metadata": {},
     "output_type": "execute_result"
    }
   ],
   "source": [
    "df.head()"
   ]
  },
  {
   "cell_type": "code",
   "execution_count": 84,
   "metadata": {},
   "outputs": [
    {
     "name": "stdout",
     "output_type": "stream",
     "text": [
      "<class 'pandas.core.frame.DataFrame'>\n",
      "Int64Index: 298040 entries, 0 to 704312\n",
      "Data columns (total 12 columns):\n",
      " #   Column                                                       Non-Null Count   Dtype         \n",
      "---  ------                                                       --------------   -----         \n",
      " 0   period_end_date                                              298040 non-null  datetime64[ns]\n",
      " 1   business_entity_doing_business_as_name                       298040 non-null  object        \n",
      " 2   followers                                                    236313 non-null  float64       \n",
      " 3   pictures                                                     294176 non-null  float64       \n",
      " 4   videos                                                       288438 non-null  float64       \n",
      " 5   comments                                                     293958 non-null  float64       \n",
      " 6   likes                                                        294288 non-null  float64       \n",
      " 7   compset_group_Beauty & Personal Care                         298040 non-null  uint8         \n",
      " 8   compset_group_Food & Beverages                               298040 non-null  uint8         \n",
      " 9   compset_group_Home Improvement & Appliances                  298040 non-null  uint8         \n",
      " 10  compset_group_Luxury & Premium & Mainstream & Entertainment  298040 non-null  uint8         \n",
      " 11  compset_group_Retail                                         298040 non-null  uint8         \n",
      "dtypes: datetime64[ns](1), float64(5), object(1), uint8(5)\n",
      "memory usage: 19.6+ MB\n"
     ]
    }
   ],
   "source": [
    "df.info()"
   ]
  },
  {
   "cell_type": "code",
   "execution_count": 85,
   "metadata": {},
   "outputs": [],
   "source": [
    "# sort df company and date\n",
    "df.sort_values(by=[\"business_entity_doing_business_as_name\", \"period_end_date\"], inplace=True)"
   ]
  },
  {
   "cell_type": "markdown",
   "metadata": {},
   "source": [
    "## numerical features\n",
    "\n",
    "For numerical data we want to know where missing values appear, and where exactly before proceding.\n",
    "\n",
    "We start with checking the period_end_dates (x-axis) now that the dataset is clean."
   ]
  },
  {
   "cell_type": "code",
   "execution_count": 86,
   "metadata": {},
   "outputs": [
    {
     "name": "stdout",
     "output_type": "stream",
     "text": [
      "26\n",
      "455\n"
     ]
    },
    {
     "data": {
      "image/png": "[encoded data removed]",
      "text/plain": [
       "<Figure size 640x480 with 1 Axes>"
      ]
     },
     "metadata": {},
     "output_type": "display_data"
    }
   ],
   "source": [
    "# create df with count of end dates per business_entity_doing_business_as_name\n",
    "temp = df.groupby(\"business_entity_doing_business_as_name\")[\"period_end_date\"].count().reset_index()\n",
    "\n",
    "# histogram of end dates\n",
    "temp[\"period_end_date\"].plot(kind=\"hist\")\n",
    "\n",
    "temp \n",
    "\n",
    "# min and max count of end dates\n",
    "print(temp[\"period_end_date\"].min())\n",
    "print(temp[\"period_end_date\"].max())"
   ]
  },
  {
   "cell_type": "markdown",
   "metadata": {},
   "source": [
    "To provide useful insides we drop companies that have too little amount of entries.\n",
    "We set the trashold at 100."
   ]
  },
  {
   "cell_type": "code",
   "execution_count": 87,
   "metadata": {},
   "outputs": [
    {
     "name": "stdout",
     "output_type": "stream",
     "text": [
      "Dropped 173 rows\n"
     ]
    }
   ],
   "source": [
    "# To provide useful insides we drop companies that have too little amount of entries. We set the trashold at 100. This on the main df:\n",
    "length = len(df)\n",
    "df = df[df[\"business_entity_doing_business_as_name\"].isin(temp[temp[\"period_end_date\"] > 100][\"business_entity_doing_business_as_name\"])]\n",
    "print(\"Dropped\", length - len(df), \"rows\")"
   ]
  },
  {
   "cell_type": "code",
   "execution_count": 88,
   "metadata": {},
   "outputs": [
    {
     "name": "stdout",
     "output_type": "stream",
     "text": [
      "2015-01-03 00:00:00\n",
      "2023-09-16 00:00:00\n"
     ]
    }
   ],
   "source": [
    "# time period covered by the data\n",
    "print(df[\"period_end_date\"].min())\n",
    "print(df[\"period_end_date\"].max())"
   ]
  },
  {
   "cell_type": "markdown",
   "metadata": {},
   "source": [
    "### numerical cols"
   ]
  },
  {
   "cell_type": "code",
   "execution_count": 89,
   "metadata": {},
   "outputs": [
    {
     "data": {
      "text/plain": [
       "297867"
      ]
     },
     "execution_count": 89,
     "metadata": {},
     "output_type": "execute_result"
    }
   ],
   "source": [
    "len(df)"
   ]
  },
  {
   "cell_type": "code",
   "execution_count": 90,
   "metadata": {},
   "outputs": [
    {
     "name": "stdout",
     "output_type": "stream",
     "text": [
      "followers: 61680\n",
      "pictures: 3837\n",
      "videos: 9560\n",
      "comments: 4055\n",
      "likes: 3725\n"
     ]
    }
   ],
   "source": [
    "numerical_cols = [\"followers\", \"pictures\", \"videos\", \"comments\", \"likes\"]\n",
    "\n",
    "# missing values per column\n",
    "for col in numerical_cols:\n",
    "    print(f\"{col}: {df[col].isnull().sum()}\")"
   ]
  },
  {
   "cell_type": "code",
   "execution_count": 91,
   "metadata": {},
   "outputs": [],
   "source": [
    "# for each brand we want to know the starting row where afterwards we do not have missing values\n",
    "# and keep only what comes afterwards\n",
    "\n",
    "# Loop through each unique business entity\n",
    "businesses = df['business_entity_doing_business_as_name'].unique()\n",
    "cleaned_dfs = []\n",
    "\n",
    "for business in businesses:\n",
    "    business_df = df[df['business_entity_doing_business_as_name'] == business]\n",
    "    business_df.reset_index(drop=True, inplace=True)  # Reset index for safe slicing\n",
    "    \n",
    "    # Finding the last row with any NaN values in the specified columns\n",
    "    if business_df[numerical_cols].isnull().any(axis=1).any():\n",
    "        last_na_position = business_df[numerical_cols].isnull().any(axis=1).cumsum().idxmax()\n",
    "        # Proceed only if the last NA position is not the last row in DataFrame\n",
    "        if last_na_position < len(business_df) - 1:\n",
    "            clean_df = business_df.loc[last_na_position + 1:]\n",
    "        else:\n",
    "            continue  # Skip adding to cleaned_dfs if all rows contain NAs till the end\n",
    "    else:\n",
    "        clean_df = business_df  # No NAs at all\n",
    "\n",
    "    cleaned_dfs.append(clean_df)\n",
    "\n",
    "# Combine all cleaned dataframes back into a single dataframe\n",
    "result_df = pd.concat(cleaned_dfs, ignore_index=True)"
   ]
  },
  {
   "cell_type": "code",
   "execution_count": 92,
   "metadata": {},
   "outputs": [
    {
     "data": {
      "text/plain": [
       "230809"
      ]
     },
     "execution_count": 92,
     "metadata": {},
     "output_type": "execute_result"
    }
   ],
   "source": [
    "len(result_df)"
   ]
  },
  {
   "cell_type": "code",
   "execution_count": 93,
   "metadata": {},
   "outputs": [
    {
     "name": "stdout",
     "output_type": "stream",
     "text": [
      "followers: 0\n",
      "pictures: 0\n",
      "videos: 0\n",
      "comments: 0\n",
      "likes: 0\n"
     ]
    }
   ],
   "source": [
    "# check for remaining missing values\n",
    "for col in numerical_cols:\n",
    "    print(f\"{col}: {result_df[col].isnull().sum()}\")"
   ]
  },
  {
   "cell_type": "code",
   "execution_count": 94,
   "metadata": {},
   "outputs": [
    {
     "data": {
      "text/html": [
       "<div>\n",
       "<style scoped>\n",
       "    .dataframe tbody tr th:only-of-type {\n",
       "        vertical-align: middle;\n",
       "    }\n",
       "\n",
       "    .dataframe tbody tr th {\n",
       "        vertical-align: top;\n",
       "    }\n",
       "\n",
       "    .dataframe thead th {\n",
       "        text-align: right;\n",
       "    }\n",
       "</style>\n",
       "<table border=\"1\" class=\"dataframe\">\n",
       "  <thead>\n",
       "    <tr style=\"text-align: right;\">\n",
       "      <th></th>\n",
       "      <th>period_end_date</th>\n",
       "      <th>business_entity_doing_business_as_name</th>\n",
       "      <th>followers</th>\n",
       "      <th>pictures</th>\n",
       "      <th>videos</th>\n",
       "      <th>comments</th>\n",
       "      <th>likes</th>\n",
       "      <th>compset_group_Beauty &amp; Personal Care</th>\n",
       "      <th>compset_group_Food &amp; Beverages</th>\n",
       "      <th>compset_group_Home Improvement &amp; Appliances</th>\n",
       "      <th>compset_group_Luxury &amp; Premium &amp; Mainstream &amp; Entertainment</th>\n",
       "      <th>compset_group_Retail</th>\n",
       "    </tr>\n",
       "  </thead>\n",
       "  <tbody>\n",
       "    <tr>\n",
       "      <th>194816</th>\n",
       "      <td>2016-01-02</td>\n",
       "      <td>Zales</td>\n",
       "      <td>NaN</td>\n",
       "      <td>NaN</td>\n",
       "      <td>NaN</td>\n",
       "      <td>NaN</td>\n",
       "      <td>NaN</td>\n",
       "      <td>0</td>\n",
       "      <td>0</td>\n",
       "      <td>0</td>\n",
       "      <td>1</td>\n",
       "      <td>0</td>\n",
       "    </tr>\n",
       "    <tr>\n",
       "      <th>194922</th>\n",
       "      <td>2016-01-09</td>\n",
       "      <td>Zales</td>\n",
       "      <td>NaN</td>\n",
       "      <td>NaN</td>\n",
       "      <td>1.0</td>\n",
       "      <td>14.0</td>\n",
       "      <td>378.0</td>\n",
       "      <td>0</td>\n",
       "      <td>0</td>\n",
       "      <td>0</td>\n",
       "      <td>1</td>\n",
       "      <td>0</td>\n",
       "    </tr>\n",
       "    <tr>\n",
       "      <th>194439</th>\n",
       "      <td>2016-01-16</td>\n",
       "      <td>Zales</td>\n",
       "      <td>NaN</td>\n",
       "      <td>2.0</td>\n",
       "      <td>1.0</td>\n",
       "      <td>35.0</td>\n",
       "      <td>1184.0</td>\n",
       "      <td>0</td>\n",
       "      <td>0</td>\n",
       "      <td>0</td>\n",
       "      <td>1</td>\n",
       "      <td>0</td>\n",
       "    </tr>\n",
       "    <tr>\n",
       "      <th>194727</th>\n",
       "      <td>2016-01-23</td>\n",
       "      <td>Zales</td>\n",
       "      <td>NaN</td>\n",
       "      <td>3.0</td>\n",
       "      <td>2.0</td>\n",
       "      <td>52.0</td>\n",
       "      <td>1906.0</td>\n",
       "      <td>0</td>\n",
       "      <td>0</td>\n",
       "      <td>0</td>\n",
       "      <td>1</td>\n",
       "      <td>0</td>\n",
       "    </tr>\n",
       "    <tr>\n",
       "      <th>194704</th>\n",
       "      <td>2016-01-30</td>\n",
       "      <td>Zales</td>\n",
       "      <td>NaN</td>\n",
       "      <td>4.0</td>\n",
       "      <td>2.0</td>\n",
       "      <td>58.0</td>\n",
       "      <td>2250.0</td>\n",
       "      <td>0</td>\n",
       "      <td>0</td>\n",
       "      <td>0</td>\n",
       "      <td>1</td>\n",
       "      <td>0</td>\n",
       "    </tr>\n",
       "    <tr>\n",
       "      <th>...</th>\n",
       "      <td>...</td>\n",
       "      <td>...</td>\n",
       "      <td>...</td>\n",
       "      <td>...</td>\n",
       "      <td>...</td>\n",
       "      <td>...</td>\n",
       "      <td>...</td>\n",
       "      <td>...</td>\n",
       "      <td>...</td>\n",
       "      <td>...</td>\n",
       "      <td>...</td>\n",
       "      <td>...</td>\n",
       "    </tr>\n",
       "    <tr>\n",
       "      <th>194539</th>\n",
       "      <td>2023-08-19</td>\n",
       "      <td>Zales</td>\n",
       "      <td>225156.0</td>\n",
       "      <td>14.0</td>\n",
       "      <td>2.0</td>\n",
       "      <td>66.0</td>\n",
       "      <td>1642.0</td>\n",
       "      <td>0</td>\n",
       "      <td>0</td>\n",
       "      <td>0</td>\n",
       "      <td>1</td>\n",
       "      <td>0</td>\n",
       "    </tr>\n",
       "    <tr>\n",
       "      <th>194859</th>\n",
       "      <td>2023-08-26</td>\n",
       "      <td>Zales</td>\n",
       "      <td>225555.0</td>\n",
       "      <td>11.0</td>\n",
       "      <td>1.0</td>\n",
       "      <td>58.0</td>\n",
       "      <td>1362.0</td>\n",
       "      <td>0</td>\n",
       "      <td>0</td>\n",
       "      <td>0</td>\n",
       "      <td>1</td>\n",
       "      <td>0</td>\n",
       "    </tr>\n",
       "    <tr>\n",
       "      <th>194430</th>\n",
       "      <td>2023-09-02</td>\n",
       "      <td>Zales</td>\n",
       "      <td>225606.0</td>\n",
       "      <td>7.0</td>\n",
       "      <td>3.0</td>\n",
       "      <td>58.0</td>\n",
       "      <td>1337.0</td>\n",
       "      <td>0</td>\n",
       "      <td>0</td>\n",
       "      <td>0</td>\n",
       "      <td>1</td>\n",
       "      <td>0</td>\n",
       "    </tr>\n",
       "    <tr>\n",
       "      <th>195022</th>\n",
       "      <td>2023-09-09</td>\n",
       "      <td>Zales</td>\n",
       "      <td>225696.0</td>\n",
       "      <td>5.0</td>\n",
       "      <td>3.0</td>\n",
       "      <td>29.0</td>\n",
       "      <td>952.0</td>\n",
       "      <td>0</td>\n",
       "      <td>0</td>\n",
       "      <td>0</td>\n",
       "      <td>1</td>\n",
       "      <td>0</td>\n",
       "    </tr>\n",
       "    <tr>\n",
       "      <th>194455</th>\n",
       "      <td>2023-09-16</td>\n",
       "      <td>Zales</td>\n",
       "      <td>225761.0</td>\n",
       "      <td>4.0</td>\n",
       "      <td>4.0</td>\n",
       "      <td>24.0</td>\n",
       "      <td>958.0</td>\n",
       "      <td>0</td>\n",
       "      <td>0</td>\n",
       "      <td>0</td>\n",
       "      <td>1</td>\n",
       "      <td>0</td>\n",
       "    </tr>\n",
       "  </tbody>\n",
       "</table>\n",
       "<p>403 rows × 12 columns</p>\n",
       "</div>"
      ],
      "text/plain": [
       "       period_end_date business_entity_doing_business_as_name  followers  \\\n",
       "194816      2016-01-02                                  Zales        NaN   \n",
       "194922      2016-01-09                                  Zales        NaN   \n",
       "194439      2016-01-16                                  Zales        NaN   \n",
       "194727      2016-01-23                                  Zales        NaN   \n",
       "194704      2016-01-30                                  Zales        NaN   \n",
       "...                ...                                    ...        ...   \n",
       "194539      2023-08-19                                  Zales   225156.0   \n",
       "194859      2023-08-26                                  Zales   225555.0   \n",
       "194430      2023-09-02                                  Zales   225606.0   \n",
       "195022      2023-09-09                                  Zales   225696.0   \n",
       "194455      2023-09-16                                  Zales   225761.0   \n",
       "\n",
       "        pictures  videos  comments   likes  \\\n",
       "194816       NaN     NaN       NaN     NaN   \n",
       "194922       NaN     1.0      14.0   378.0   \n",
       "194439       2.0     1.0      35.0  1184.0   \n",
       "194727       3.0     2.0      52.0  1906.0   \n",
       "194704       4.0     2.0      58.0  2250.0   \n",
       "...          ...     ...       ...     ...   \n",
       "194539      14.0     2.0      66.0  1642.0   \n",
       "194859      11.0     1.0      58.0  1362.0   \n",
       "194430       7.0     3.0      58.0  1337.0   \n",
       "195022       5.0     3.0      29.0   952.0   \n",
       "194455       4.0     4.0      24.0   958.0   \n",
       "\n",
       "        compset_group_Beauty & Personal Care  compset_group_Food & Beverages  \\\n",
       "194816                                     0                               0   \n",
       "194922                                     0                               0   \n",
       "194439                                     0                               0   \n",
       "194727                                     0                               0   \n",
       "194704                                     0                               0   \n",
       "...                                      ...                             ...   \n",
       "194539                                     0                               0   \n",
       "194859                                     0                               0   \n",
       "194430                                     0                               0   \n",
       "195022                                     0                               0   \n",
       "194455                                     0                               0   \n",
       "\n",
       "        compset_group_Home Improvement & Appliances  \\\n",
       "194816                                            0   \n",
       "194922                                            0   \n",
       "194439                                            0   \n",
       "194727                                            0   \n",
       "194704                                            0   \n",
       "...                                             ...   \n",
       "194539                                            0   \n",
       "194859                                            0   \n",
       "194430                                            0   \n",
       "195022                                            0   \n",
       "194455                                            0   \n",
       "\n",
       "        compset_group_Luxury & Premium & Mainstream & Entertainment  \\\n",
       "194816                                                  1             \n",
       "194922                                                  1             \n",
       "194439                                                  1             \n",
       "194727                                                  1             \n",
       "194704                                                  1             \n",
       "...                                                   ...             \n",
       "194539                                                  1             \n",
       "194859                                                  1             \n",
       "194430                                                  1             \n",
       "195022                                                  1             \n",
       "194455                                                  1             \n",
       "\n",
       "        compset_group_Retail  \n",
       "194816                     0  \n",
       "194922                     0  \n",
       "194439                     0  \n",
       "194727                     0  \n",
       "194704                     0  \n",
       "...                      ...  \n",
       "194539                     0  \n",
       "194859                     0  \n",
       "194430                     0  \n",
       "195022                     0  \n",
       "194455                     0  \n",
       "\n",
       "[403 rows x 12 columns]"
      ]
     },
     "execution_count": 94,
     "metadata": {},
     "output_type": "execute_result"
    }
   ],
   "source": [
    "df[df['business_entity_doing_business_as_name'] == 'Zales']"
   ]
  },
  {
   "cell_type": "code",
   "execution_count": 95,
   "metadata": {},
   "outputs": [
    {
     "data": {
      "text/plain": [
       "<Axes: ylabel='Frequency'>"
      ]
     },
     "execution_count": 95,
     "metadata": {},
     "output_type": "execute_result"
    },
    {
     "data": {
      "image/png": "[encoded data removed]",
      "text/plain": [
       "<Figure size 640x480 with 1 Axes>"
      ]
     },
     "metadata": {},
     "output_type": "display_data"
    }
   ],
   "source": [
    "# missing values per brand\n",
    "missing_values = df.groupby(\"business_entity_doing_business_as_name\").apply(lambda x: x.isnull().sum()).sum(axis=1)\n",
    "\n",
    "# hist\n",
    "missing_values.plot(kind=\"hist\", bins=50)"
   ]
  },
  {
   "cell_type": "code",
   "execution_count": 96,
   "metadata": {},
   "outputs": [
    {
     "data": {
      "text/plain": [
       "<Axes: ylabel='Frequency'>"
      ]
     },
     "execution_count": 96,
     "metadata": {},
     "output_type": "execute_result"
    },
    {
     "data": {
      "image/png": "[encoded data removed]",
      "text/plain": [
       "<Figure size 640x480 with 1 Axes>"
      ]
     },
     "metadata": {},
     "output_type": "display_data"
    }
   ],
   "source": [
    "# missing values per brand in column followers\n",
    "missing_followers = df.groupby(\"business_entity_doing_business_as_name\")[\"followers\"].apply(lambda x: x.isnull().sum())\n",
    "\n",
    "# hist\n",
    "missing_followers.plot(kind=\"hist\", bins=50)"
   ]
  },
  {
   "cell_type": "code",
   "execution_count": 97,
   "metadata": {},
   "outputs": [
    {
     "data": {
      "text/plain": [
       "<Axes: ylabel='Frequency'>"
      ]
     },
     "execution_count": 97,
     "metadata": {},
     "output_type": "execute_result"
    },
    {
     "data": {
      "image/png": "[encoded data removed]",
      "text/plain": [
       "<Figure size 640x480 with 1 Axes>"
      ]
     },
     "metadata": {},
     "output_type": "display_data"
    }
   ],
   "source": [
    "# missing values per brand in column pictures\n",
    "missing_pictures = df.groupby(\"business_entity_doing_business_as_name\")[\"pictures\"].apply(lambda x: x.isnull().sum())\n",
    "\n",
    "# hist\n",
    "missing_pictures.plot(kind=\"hist\", bins=50)"
   ]
  },
  {
   "cell_type": "code",
   "execution_count": 98,
   "metadata": {},
   "outputs": [
    {
     "data": {
      "text/plain": [
       "<Axes: ylabel='Frequency'>"
      ]
     },
     "execution_count": 98,
     "metadata": {},
     "output_type": "execute_result"
    },
    {
     "data": {
      "image/png": "[encoded data removed]",
      "text/plain": [
       "<Figure size 640x480 with 1 Axes>"
      ]
     },
     "metadata": {},
     "output_type": "display_data"
    }
   ],
   "source": [
    "# missing values per brand in column videos\n",
    "missing_videos = df.groupby(\"business_entity_doing_business_as_name\")[\"videos\"].apply(lambda x: x.isnull().sum())\n",
    "\n",
    "# hist\n",
    "missing_videos.plot(kind=\"hist\", bins=50)"
   ]
  },
  {
   "cell_type": "code",
   "execution_count": 99,
   "metadata": {},
   "outputs": [
    {
     "data": {
      "text/plain": [
       "<Axes: ylabel='Frequency'>"
      ]
     },
     "execution_count": 99,
     "metadata": {},
     "output_type": "execute_result"
    },
    {
     "data": {
      "image/png": "[encoded data removed]",
      "text/plain": [
       "<Figure size 640x480 with 1 Axes>"
      ]
     },
     "metadata": {},
     "output_type": "display_data"
    }
   ],
   "source": [
    "# missing values per brand in column comments\n",
    "missing_comments = df.groupby(\"business_entity_doing_business_as_name\")[\"comments\"].apply(lambda x: x.isnull().sum())\n",
    "\n",
    "# hist\n",
    "missing_comments.plot(kind=\"hist\", bins=50)"
   ]
  },
  {
   "cell_type": "code",
   "execution_count": null,
   "metadata": {},
   "outputs": [],
   "source": [
    "# group by date and legal_entity_name and sum for numerical columns, dropping the column business_entity_doing_business_as_name\n",
    "df_grouped = df.groupby([\"period_end_date\", \"business_entity_doing_business_as_name\"])[numerical_cols].sum().reset_index()"
   ]
  },
  {
   "cell_type": "code",
   "execution_count": 100,
   "metadata": {},
   "outputs": [
    {
     "ename": "NameError",
     "evalue": "name 'df_grouped' is not defined",
     "output_type": "error",
     "traceback": [
      "\u001b[0;31m---------------------------------------------------------------------------\u001b[0m",
      "\u001b[0;31mNameError\u001b[0m                                 Traceback (most recent call last)",
      "Cell \u001b[0;32mIn[100], line 2\u001b[0m\n\u001b[1;32m      1\u001b[0m \u001b[38;5;66;03m# for one legal entity name print the period covered for each of the individual brands\u001b[39;00m\n\u001b[0;32m----> 2\u001b[0m \u001b[43mdf_grouped\u001b[49m[df_grouped[\u001b[38;5;124m\"\u001b[39m\u001b[38;5;124mbusiness_entity_doing_business_as_name\u001b[39m\u001b[38;5;124m\"\u001b[39m] \u001b[38;5;241m==\u001b[39m \u001b[38;5;124m\"\u001b[39m\u001b[38;5;124mZales\u001b[39m\u001b[38;5;124m\"\u001b[39m]\n",
      "\u001b[0;31mNameError\u001b[0m: name 'df_grouped' is not defined"
     ]
    }
   ],
   "source": [
    "# for one legal entity name print the period covered for each of the individual brands\n",
    "\n",
    "# Specify the legal entity\n",
    "specific_entity = 'Entity1'\n",
    "\n",
    "# Filter DataFrame for the specified legal entity\n",
    "entity_df = df[df['legal_entity_name'] == specific_entity]\n",
    "\n",
    "# Group by brand within the specified entity and find min and max dates\n",
    "brand_periods = entity_df.groupby('business_entity_doing_business_as_name')['period_end_date'].agg([min, max])\n",
    "\n",
    "print(f\"Period covered for each brand within {specific_entity}:\")\n",
    "print(brand_periods)"
   ]
  },
  {
   "cell_type": "code",
   "execution_count": null,
   "metadata": {},
   "outputs": [],
   "source": []
  }
 ],
 "metadata": {
  "kernelspec": {
   "display_name": "Python 3",
   "language": "python",
   "name": "python3"
  },
  "language_info": {
   "codemirror_mode": {
    "name": "ipython",
    "version": 3
   },
   "file_extension": ".py",
   "mimetype": "text/x-python",
   "name": "python",
   "nbconvert_exporter": "python",
   "pygments_lexer": "ipython3",
   "version": "3.9.6"
  }
 },
 "nbformat": 4,
 "nbformat_minor": 2
}
