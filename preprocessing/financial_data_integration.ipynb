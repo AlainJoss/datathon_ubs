{
 "cells": [
  {
   "cell_type": "markdown",
   "id": "4309f864",
   "metadata": {},
   "source": [
    "# Financial Data Integration\n",
    "\n",
    "In this notebook we integrate financial data for public traded companies.\n",
    "\n",
    "For this purpose we keep the legal entities, sum the values of the brands holded by them, and finally drop the brands.\n"
   ]
  },
  {
   "cell_type": "code",
   "execution_count": 83,
   "id": "94313f1c",
   "metadata": {},
   "outputs": [],
   "source": [
    "import pandas as pd\n",
    "import yfinance as yf"
   ]
  },
  {
   "cell_type": "code",
   "execution_count": 84,
   "id": "fc944126",
   "metadata": {},
   "outputs": [],
   "source": [
    "# Clean data from previous notebook and ticks for public companies\n",
    "clean_df = pd.read_csv(\"../clean_data/clean_data.csv\")\n",
    "companies = pd.read_csv(\"../scraped_data/public-companies.csv\")"
   ]
  },
  {
   "cell_type": "code",
   "execution_count": 85,
   "id": "ddbca8fb",
   "metadata": {},
   "outputs": [
    {
     "data": {
      "text/html": [
       "<div>\n",
       "<style scoped>\n",
       "    .dataframe tbody tr th:only-of-type {\n",
       "        vertical-align: middle;\n",
       "    }\n",
       "\n",
       "    .dataframe tbody tr th {\n",
       "        vertical-align: top;\n",
       "    }\n",
       "\n",
       "    .dataframe thead th {\n",
       "        text-align: right;\n",
       "    }\n",
       "</style>\n",
       "<table border=\"1\" class=\"dataframe\">\n",
       "  <thead>\n",
       "    <tr style=\"text-align: right;\">\n",
       "      <th></th>\n",
       "      <th>date</th>\n",
       "      <th>brand</th>\n",
       "      <th>legal_entity</th>\n",
       "      <th>followers</th>\n",
       "      <th>pictures</th>\n",
       "      <th>videos</th>\n",
       "      <th>comments</th>\n",
       "      <th>likes</th>\n",
       "    </tr>\n",
       "  </thead>\n",
       "  <tbody>\n",
       "    <tr>\n",
       "      <th>0</th>\n",
       "      <td>2017-09-23</td>\n",
       "      <td>24S</td>\n",
       "      <td>LVMH Moet Hennessy Louis Vuitton SE</td>\n",
       "      <td>19140.0</td>\n",
       "      <td>75.0</td>\n",
       "      <td>10.0</td>\n",
       "      <td>196.0</td>\n",
       "      <td>18853.0</td>\n",
       "    </tr>\n",
       "  </tbody>\n",
       "</table>\n",
       "</div>"
      ],
      "text/plain": [
       "         date brand                         legal_entity  followers  pictures  \\\n",
       "0  2017-09-23   24S  LVMH Moet Hennessy Louis Vuitton SE    19140.0      75.0   \n",
       "\n",
       "   videos  comments    likes  \n",
       "0    10.0     196.0  18853.0  "
      ]
     },
     "execution_count": 85,
     "metadata": {},
     "output_type": "execute_result"
    }
   ],
   "source": [
    "clean_df.head(1)"
   ]
  },
  {
   "cell_type": "code",
   "execution_count": 86,
   "id": "bd3b048c",
   "metadata": {},
   "outputs": [
    {
     "data": {
      "text/html": [
       "<div>\n",
       "<style scoped>\n",
       "    .dataframe tbody tr th:only-of-type {\n",
       "        vertical-align: middle;\n",
       "    }\n",
       "\n",
       "    .dataframe tbody tr th {\n",
       "        vertical-align: top;\n",
       "    }\n",
       "\n",
       "    .dataframe thead th {\n",
       "        text-align: right;\n",
       "    }\n",
       "</style>\n",
       "<table border=\"1\" class=\"dataframe\">\n",
       "  <thead>\n",
       "    <tr style=\"text-align: right;\">\n",
       "      <th></th>\n",
       "      <th>company_name</th>\n",
       "      <th>ticker</th>\n",
       "    </tr>\n",
       "  </thead>\n",
       "  <tbody>\n",
       "    <tr>\n",
       "      <th>0</th>\n",
       "      <td>Capri Holdings</td>\n",
       "      <td>CPRI</td>\n",
       "    </tr>\n",
       "  </tbody>\n",
       "</table>\n",
       "</div>"
      ],
      "text/plain": [
       "     company_name ticker\n",
       "0  Capri Holdings   CPRI"
      ]
     },
     "execution_count": 86,
     "metadata": {},
     "output_type": "execute_result"
    }
   ],
   "source": [
    "companies.head(1)"
   ]
  },
  {
   "cell_type": "code",
   "execution_count": 87,
   "id": "a3a14a0c",
   "metadata": {},
   "outputs": [
    {
     "data": {
      "text/html": [
       "<div>\n",
       "<style scoped>\n",
       "    .dataframe tbody tr th:only-of-type {\n",
       "        vertical-align: middle;\n",
       "    }\n",
       "\n",
       "    .dataframe tbody tr th {\n",
       "        vertical-align: top;\n",
       "    }\n",
       "\n",
       "    .dataframe thead th {\n",
       "        text-align: right;\n",
       "    }\n",
       "</style>\n",
       "<table border=\"1\" class=\"dataframe\">\n",
       "  <thead>\n",
       "    <tr style=\"text-align: right;\">\n",
       "      <th></th>\n",
       "      <th>legal_entity</th>\n",
       "      <th>date</th>\n",
       "      <th>ticker</th>\n",
       "      <th>followers</th>\n",
       "      <th>pictures</th>\n",
       "      <th>videos</th>\n",
       "      <th>comments</th>\n",
       "      <th>likes</th>\n",
       "    </tr>\n",
       "  </thead>\n",
       "  <tbody>\n",
       "    <tr>\n",
       "      <th>0</th>\n",
       "      <td>Abercrombie &amp; Fitch</td>\n",
       "      <td>2015-01-03</td>\n",
       "      <td>ANF</td>\n",
       "      <td>1669930.0</td>\n",
       "      <td>5.0</td>\n",
       "      <td>1.0</td>\n",
       "      <td>908.0</td>\n",
       "      <td>43976.0</td>\n",
       "    </tr>\n",
       "  </tbody>\n",
       "</table>\n",
       "</div>"
      ],
      "text/plain": [
       "          legal_entity        date ticker  followers  pictures  videos  \\\n",
       "0  Abercrombie & Fitch  2015-01-03    ANF  1669930.0       5.0     1.0   \n",
       "\n",
       "   comments    likes  \n",
       "0     908.0  43976.0  "
      ]
     },
     "execution_count": 87,
     "metadata": {},
     "output_type": "execute_result"
    }
   ],
   "source": [
    "# Merge public companies with data\n",
    "public_companies = pd.merge(companies, clean_df, left_on='company_name', right_on='legal_entity', how='inner')\n",
    "\n",
    "# Using an aggregation dictionary to include both sum for numeric data and 'first' for the ticker\n",
    "df = public_companies.groupby([\"legal_entity\", 'date'], as_index=False).agg({\n",
    "    'ticker': 'first',  # Keeps the first instance of 'ticker' for each group\n",
    "\n",
    "    # Add other numeric fields here and specify 'sum' or other appropriate aggregation methods\n",
    "    'followers': 'sum',\n",
    "    'pictures': 'sum',\n",
    "    'videos': 'sum',\n",
    "    'comments': 'sum',\n",
    "    'likes': 'sum'\n",
    "})\n",
    "\n",
    "# Display the first row to check the output\n",
    "df.head(1)"
   ]
  },
  {
   "cell_type": "code",
   "execution_count": 88,
   "id": "78fc8af3",
   "metadata": {},
   "outputs": [],
   "source": [
    "# Date to datetime\n",
    "df['date'] = pd.to_datetime(df['date'])"
   ]
  },
  {
   "cell_type": "code",
   "execution_count": 89,
   "id": "869efb78",
   "metadata": {},
   "outputs": [],
   "source": [
    "def fetch_yahoo_finance_data(ticker, start_date, end_date):\n",
    "    stock = yf.Ticker(ticker)\n",
    "    # Fetch historical data within the specified date range and interval\n",
    "    hist = stock.history(start=start_date, end=end_date, interval=\"1wk\")\n",
    "    hist.reset_index(inplace=True)\n",
    "    hist[\"Ticker\"] = ticker  # Add a column to identify the ticker\n",
    "    return hist"
   ]
  },
  {
   "cell_type": "code",
   "execution_count": 90,
   "id": "429d503d",
   "metadata": {},
   "outputs": [
    {
     "data": {
      "text/html": [
       "<div>\n",
       "<style scoped>\n",
       "    .dataframe tbody tr th:only-of-type {\n",
       "        vertical-align: middle;\n",
       "    }\n",
       "\n",
       "    .dataframe tbody tr th {\n",
       "        vertical-align: top;\n",
       "    }\n",
       "\n",
       "    .dataframe thead th {\n",
       "        text-align: right;\n",
       "    }\n",
       "</style>\n",
       "<table border=\"1\" class=\"dataframe\">\n",
       "  <thead>\n",
       "    <tr style=\"text-align: right;\">\n",
       "      <th></th>\n",
       "      <th>Date</th>\n",
       "      <th>Open</th>\n",
       "      <th>High</th>\n",
       "      <th>Low</th>\n",
       "      <th>Close</th>\n",
       "      <th>Volume</th>\n",
       "      <th>Dividends</th>\n",
       "      <th>Stock Splits</th>\n",
       "      <th>Ticker</th>\n",
       "      <th>Capital Gains</th>\n",
       "    </tr>\n",
       "  </thead>\n",
       "  <tbody>\n",
       "    <tr>\n",
       "      <th>0</th>\n",
       "      <td>2015-01-01 00:00:00-05:00</td>\n",
       "      <td>22.424204</td>\n",
       "      <td>23.613186</td>\n",
       "      <td>22.130921</td>\n",
       "      <td>23.248564</td>\n",
       "      <td>9830400</td>\n",
       "      <td>0.0</td>\n",
       "      <td>0.0</td>\n",
       "      <td>ANF</td>\n",
       "      <td>NaN</td>\n",
       "    </tr>\n",
       "    <tr>\n",
       "      <th>1</th>\n",
       "      <td>2015-01-08 00:00:00-05:00</td>\n",
       "      <td>23.589407</td>\n",
       "      <td>23.858909</td>\n",
       "      <td>21.893126</td>\n",
       "      <td>22.471764</td>\n",
       "      <td>9245200</td>\n",
       "      <td>0.0</td>\n",
       "      <td>0.0</td>\n",
       "      <td>ANF</td>\n",
       "      <td>NaN</td>\n",
       "    </tr>\n",
       "    <tr>\n",
       "      <th>2</th>\n",
       "      <td>2015-01-15 00:00:00-05:00</td>\n",
       "      <td>22.400424</td>\n",
       "      <td>22.590661</td>\n",
       "      <td>20.180990</td>\n",
       "      <td>20.799261</td>\n",
       "      <td>8034600</td>\n",
       "      <td>0.0</td>\n",
       "      <td>0.0</td>\n",
       "      <td>ANF</td>\n",
       "      <td>NaN</td>\n",
       "    </tr>\n",
       "    <tr>\n",
       "      <th>3</th>\n",
       "      <td>2015-01-22 00:00:00-05:00</td>\n",
       "      <td>20.838899</td>\n",
       "      <td>21.671186</td>\n",
       "      <td>20.577321</td>\n",
       "      <td>20.704147</td>\n",
       "      <td>7314100</td>\n",
       "      <td>0.0</td>\n",
       "      <td>0.0</td>\n",
       "      <td>ANF</td>\n",
       "      <td>NaN</td>\n",
       "    </tr>\n",
       "    <tr>\n",
       "      <th>4</th>\n",
       "      <td>2015-01-29 00:00:00-05:00</td>\n",
       "      <td>20.783413</td>\n",
       "      <td>20.870605</td>\n",
       "      <td>18.960307</td>\n",
       "      <td>20.212702</td>\n",
       "      <td>13216200</td>\n",
       "      <td>0.0</td>\n",
       "      <td>0.0</td>\n",
       "      <td>ANF</td>\n",
       "      <td>NaN</td>\n",
       "    </tr>\n",
       "  </tbody>\n",
       "</table>\n",
       "</div>"
      ],
      "text/plain": [
       "                        Date       Open       High        Low      Close  \\\n",
       "0  2015-01-01 00:00:00-05:00  22.424204  23.613186  22.130921  23.248564   \n",
       "1  2015-01-08 00:00:00-05:00  23.589407  23.858909  21.893126  22.471764   \n",
       "2  2015-01-15 00:00:00-05:00  22.400424  22.590661  20.180990  20.799261   \n",
       "3  2015-01-22 00:00:00-05:00  20.838899  21.671186  20.577321  20.704147   \n",
       "4  2015-01-29 00:00:00-05:00  20.783413  20.870605  18.960307  20.212702   \n",
       "\n",
       "     Volume  Dividends  Stock Splits Ticker  Capital Gains  \n",
       "0   9830400        0.0           0.0    ANF            NaN  \n",
       "1   9245200        0.0           0.0    ANF            NaN  \n",
       "2   8034600        0.0           0.0    ANF            NaN  \n",
       "3   7314100        0.0           0.0    ANF            NaN  \n",
       "4  13216200        0.0           0.0    ANF            NaN  "
      ]
     },
     "execution_count": 90,
     "metadata": {},
     "output_type": "execute_result"
    }
   ],
   "source": [
    "# Fetch data for each ticker from Yahoo Finance\n",
    "\n",
    "tickers = df[\"ticker\"].unique()\n",
    "finance_data = []\n",
    "\n",
    "for ticker in tickers:\n",
    "    dates_of_interest = df[df[\"ticker\"]==ticker][\"date\"]\n",
    "    yahoo_data = fetch_yahoo_finance_data(ticker, min(dates_of_interest), max(dates_of_interest) + pd.Timedelta(days=3))\n",
    "    finance_data.append(yahoo_data)\n",
    "\n",
    "finance_data = pd.concat(finance_data, ignore_index=True)\n",
    "finance_data.head(5)"
   ]
  },
  {
   "cell_type": "code",
   "execution_count": 91,
   "id": "626cf127",
   "metadata": {},
   "outputs": [
    {
     "data": {
      "text/html": [
       "<div>\n",
       "<style scoped>\n",
       "    .dataframe tbody tr th:only-of-type {\n",
       "        vertical-align: middle;\n",
       "    }\n",
       "\n",
       "    .dataframe tbody tr th {\n",
       "        vertical-align: top;\n",
       "    }\n",
       "\n",
       "    .dataframe thead th {\n",
       "        text-align: right;\n",
       "    }\n",
       "</style>\n",
       "<table border=\"1\" class=\"dataframe\">\n",
       "  <thead>\n",
       "    <tr style=\"text-align: right;\">\n",
       "      <th></th>\n",
       "      <th>Date</th>\n",
       "      <th>Open</th>\n",
       "      <th>High</th>\n",
       "      <th>Low</th>\n",
       "      <th>Close</th>\n",
       "      <th>Volume</th>\n",
       "      <th>Dividends</th>\n",
       "      <th>Stock Splits</th>\n",
       "      <th>Ticker</th>\n",
       "      <th>Capital Gains</th>\n",
       "    </tr>\n",
       "  </thead>\n",
       "  <tbody>\n",
       "    <tr>\n",
       "      <th>0</th>\n",
       "      <td>2015-01-01</td>\n",
       "      <td>22.424204</td>\n",
       "      <td>23.613186</td>\n",
       "      <td>22.130921</td>\n",
       "      <td>23.248564</td>\n",
       "      <td>9830400</td>\n",
       "      <td>0.0</td>\n",
       "      <td>0.0</td>\n",
       "      <td>ANF</td>\n",
       "      <td>NaN</td>\n",
       "    </tr>\n",
       "  </tbody>\n",
       "</table>\n",
       "</div>"
      ],
      "text/plain": [
       "         Date       Open       High        Low      Close   Volume  Dividends  \\\n",
       "0  2015-01-01  22.424204  23.613186  22.130921  23.248564  9830400        0.0   \n",
       "\n",
       "   Stock Splits Ticker  Capital Gains  \n",
       "0           0.0    ANF            NaN  "
      ]
     },
     "execution_count": 91,
     "metadata": {},
     "output_type": "execute_result"
    }
   ],
   "source": [
    " # Let´s only keep the Closing price (of \"next monday\") for predicting purposes and Date, with some transformations\n",
    "finance_data[\"Date\"] = finance_data[\"Date\"].map(lambda x: str(x).split(\" \")[0])\n",
    "finance_data.head(1)"
   ]
  },
  {
   "cell_type": "code",
   "execution_count": 92,
   "id": "f03abac8",
   "metadata": {},
   "outputs": [
    {
     "data": {
      "text/html": [
       "<div>\n",
       "<style scoped>\n",
       "    .dataframe tbody tr th:only-of-type {\n",
       "        vertical-align: middle;\n",
       "    }\n",
       "\n",
       "    .dataframe tbody tr th {\n",
       "        vertical-align: top;\n",
       "    }\n",
       "\n",
       "    .dataframe thead th {\n",
       "        text-align: right;\n",
       "    }\n",
       "</style>\n",
       "<table border=\"1\" class=\"dataframe\">\n",
       "  <thead>\n",
       "    <tr style=\"text-align: right;\">\n",
       "      <th></th>\n",
       "      <th>Date</th>\n",
       "      <th>Close</th>\n",
       "      <th>Ticker</th>\n",
       "    </tr>\n",
       "  </thead>\n",
       "  <tbody>\n",
       "    <tr>\n",
       "      <th>0</th>\n",
       "      <td>2015-01-01</td>\n",
       "      <td>23.248564</td>\n",
       "      <td>ANF</td>\n",
       "    </tr>\n",
       "  </tbody>\n",
       "</table>\n",
       "</div>"
      ],
      "text/plain": [
       "         Date      Close Ticker\n",
       "0  2015-01-01  23.248564    ANF"
      ]
     },
     "execution_count": 92,
     "metadata": {},
     "output_type": "execute_result"
    }
   ],
   "source": [
    "finance_data = finance_data[[\"Date\", \"Close\", \"Ticker\"]]\n",
    "finance_data.head(1)"
   ]
  },
  {
   "cell_type": "code",
   "execution_count": 93,
   "id": "12bd61bc",
   "metadata": {},
   "outputs": [],
   "source": [
    "finance_data['Date'] = pd.to_datetime(finance_data['Date'])"
   ]
  },
  {
   "cell_type": "code",
   "execution_count": 94,
   "id": "d018087e",
   "metadata": {},
   "outputs": [],
   "source": [
    "# Add 2 days to 'period_end_date' in cleaned_df to account for the delay\n",
    "df['date_adjusted'] = df['date'] + pd.Timedelta(days=9)"
   ]
  },
  {
   "cell_type": "code",
   "execution_count": 111,
   "id": "9de9250f",
   "metadata": {},
   "outputs": [],
   "source": [
    "# Merge df with finance_data using the adjusted dates and ticker matching\n",
    "# The 'inner' join means the result will only include rows that have matching values in both DataFrames\n",
    "merged_df = pd.merge(df, finance_data, left_on=['ticker', 'date_adjusted'], right_on=['Ticker', 'Date'], how='inner')"
   ]
  },
  {
   "cell_type": "code",
   "execution_count": 112,
   "id": "d0b4717f",
   "metadata": {},
   "outputs": [
    {
     "data": {
      "text/html": [
       "<div>\n",
       "<style scoped>\n",
       "    .dataframe tbody tr th:only-of-type {\n",
       "        vertical-align: middle;\n",
       "    }\n",
       "\n",
       "    .dataframe tbody tr th {\n",
       "        vertical-align: top;\n",
       "    }\n",
       "\n",
       "    .dataframe thead th {\n",
       "        text-align: right;\n",
       "    }\n",
       "</style>\n",
       "<table border=\"1\" class=\"dataframe\">\n",
       "  <thead>\n",
       "    <tr style=\"text-align: right;\">\n",
       "      <th></th>\n",
       "      <th>legal_entity</th>\n",
       "      <th>date</th>\n",
       "      <th>ticker</th>\n",
       "      <th>followers</th>\n",
       "      <th>pictures</th>\n",
       "      <th>videos</th>\n",
       "      <th>comments</th>\n",
       "      <th>likes</th>\n",
       "      <th>date_adjusted</th>\n",
       "      <th>Date_x</th>\n",
       "      <th>Close_x</th>\n",
       "      <th>Ticker_x</th>\n",
       "      <th>Date_y</th>\n",
       "      <th>Close_y</th>\n",
       "      <th>Ticker_y</th>\n",
       "    </tr>\n",
       "  </thead>\n",
       "  <tbody>\n",
       "    <tr>\n",
       "      <th>0</th>\n",
       "      <td>Academy Sports + Outdoors</td>\n",
       "      <td>2020-09-19</td>\n",
       "      <td>ASO</td>\n",
       "      <td>168956.0</td>\n",
       "      <td>8.0</td>\n",
       "      <td>5.0</td>\n",
       "      <td>485.0</td>\n",
       "      <td>7592.0</td>\n",
       "      <td>2020-09-28</td>\n",
       "      <td>2020-09-28</td>\n",
       "      <td>12.789742</td>\n",
       "      <td>ASO</td>\n",
       "      <td>2020-09-28</td>\n",
       "      <td>12.789742</td>\n",
       "      <td>ASO</td>\n",
       "    </tr>\n",
       "  </tbody>\n",
       "</table>\n",
       "</div>"
      ],
      "text/plain": [
       "                legal_entity       date ticker  followers  pictures  videos  \\\n",
       "0  Academy Sports + Outdoors 2020-09-19    ASO   168956.0       8.0     5.0   \n",
       "\n",
       "   comments   likes date_adjusted     Date_x    Close_x Ticker_x     Date_y  \\\n",
       "0     485.0  7592.0    2020-09-28 2020-09-28  12.789742      ASO 2020-09-28   \n",
       "\n",
       "     Close_y Ticker_y  \n",
       "0  12.789742      ASO  "
      ]
     },
     "execution_count": 112,
     "metadata": {},
     "output_type": "execute_result"
    }
   ],
   "source": [
    "merged_df.head(1)"
   ]
  },
  {
   "cell_type": "code",
   "execution_count": 113,
   "id": "155bfb2c",
   "metadata": {},
   "outputs": [
    {
     "data": {
      "text/html": [
       "<div>\n",
       "<style scoped>\n",
       "    .dataframe tbody tr th:only-of-type {\n",
       "        vertical-align: middle;\n",
       "    }\n",
       "\n",
       "    .dataframe tbody tr th {\n",
       "        vertical-align: top;\n",
       "    }\n",
       "\n",
       "    .dataframe thead th {\n",
       "        text-align: right;\n",
       "    }\n",
       "</style>\n",
       "<table border=\"1\" class=\"dataframe\">\n",
       "  <thead>\n",
       "    <tr style=\"text-align: right;\">\n",
       "      <th></th>\n",
       "      <th>legal_entity</th>\n",
       "      <th>date</th>\n",
       "      <th>followers</th>\n",
       "      <th>pictures</th>\n",
       "      <th>videos</th>\n",
       "      <th>comments</th>\n",
       "      <th>likes</th>\n",
       "      <th>close</th>\n",
       "    </tr>\n",
       "  </thead>\n",
       "  <tbody>\n",
       "    <tr>\n",
       "      <th>0</th>\n",
       "      <td>Academy Sports + Outdoors</td>\n",
       "      <td>2020-09-19</td>\n",
       "      <td>168956.0</td>\n",
       "      <td>8.0</td>\n",
       "      <td>5.0</td>\n",
       "      <td>485.0</td>\n",
       "      <td>7592.0</td>\n",
       "      <td>12.789742</td>\n",
       "    </tr>\n",
       "  </tbody>\n",
       "</table>\n",
       "</div>"
      ],
      "text/plain": [
       "                legal_entity       date  followers  pictures  videos  \\\n",
       "0  Academy Sports + Outdoors 2020-09-19   168956.0       8.0     5.0   \n",
       "\n",
       "   comments   likes      close  \n",
       "0     485.0  7592.0  12.789742  "
      ]
     },
     "execution_count": 113,
     "metadata": {},
     "output_type": "execute_result"
    }
   ],
   "source": [
    "# rename Close_x to close:\n",
    "merged_df.rename(columns={'Close_x': 'close'}, inplace=True)\n",
    "cols_to_drop = ['ticker', 'date_adjusted', \"Date_x\", \"Ticker_x\", \"Date_y\", \"Close_y\", \"Ticker_y\"]\n",
    "# Drop columns that are not needed for the model\n",
    "merged_df.drop(columns=cols_to_drop, inplace=True)\n",
    "merged_df.head(1)"
   ]
  },
  {
   "cell_type": "code",
   "execution_count": 116,
   "id": "fd7ba17b",
   "metadata": {},
   "outputs": [],
   "source": [
    "# save data to csv\n",
    "merged_df.to_csv(\"../clean_data/financial_data_integrated.csv\", index=False)"
   ]
  },
  {
   "cell_type": "code",
   "execution_count": null,
   "id": "410b1ed4",
   "metadata": {},
   "outputs": [],
   "source": []
  }
 ],
 "metadata": {
  "kernelspec": {
   "display_name": "Python 3 (ipykernel)",
   "language": "python",
   "name": "python3"
  },
  "language_info": {
   "codemirror_mode": {
    "name": "ipython",
    "version": 3
   },
   "file_extension": ".py",
   "mimetype": "text/x-python",
   "name": "python",
   "nbconvert_exporter": "python",
   "pygments_lexer": "ipython3",
   "version": "3.9.6"
  }
 },
 "nbformat": 4,
 "nbformat_minor": 5
}
