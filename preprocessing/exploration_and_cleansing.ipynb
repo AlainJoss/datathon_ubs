{
 "cells": [
  {
   "cell_type": "markdown",
   "metadata": {},
   "source": [
    "# Exploration and Cleansing\n",
    "\n",
    "In this notebook we perform a basic exploration of the data and prepare it on the spot for future analysis.\n",
    "\n",
    "For each feature we do the following:\n",
    "- Drop or keep\n",
    "- Check for anomalies\n",
    "- Check for NAs and where they appear\n",
    "- Change data type if needed\n",
    "- Drop any duplicates\n",
    "- Group data\n",
    "- etc. \n",
    "\n",
    "At each step we motivate the applied changes and introduce the next step to follow.\n",
    "\n",
    "At the end of the notebook we create a csv with the clean data, which is going to be the starting point of the next processing step, in the *financial_data_integration* notebook."
   ]
  },
  {
   "cell_type": "code",
   "execution_count": 1,
   "metadata": {},
   "outputs": [
    {
     "data": {
      "text/html": [
       "<div>\n",
       "<style scoped>\n",
       "    .dataframe tbody tr th:only-of-type {\n",
       "        vertical-align: middle;\n",
       "    }\n",
       "\n",
       "    .dataframe tbody tr th {\n",
       "        vertical-align: top;\n",
       "    }\n",
       "\n",
       "    .dataframe thead th {\n",
       "        text-align: right;\n",
       "    }\n",
       "</style>\n",
       "<table border=\"1\" class=\"dataframe\">\n",
       "  <thead>\n",
       "    <tr style=\"text-align: right;\">\n",
       "      <th></th>\n",
       "      <th>period</th>\n",
       "      <th>period_end_date</th>\n",
       "      <th>compset_group</th>\n",
       "      <th>compset</th>\n",
       "      <th>business_entity_doing_business_as_name</th>\n",
       "      <th>legal_entity_name</th>\n",
       "      <th>domicile_country_name</th>\n",
       "      <th>ultimate_parent_legal_entity_name</th>\n",
       "      <th>primary_exchange_name</th>\n",
       "      <th>calculation_type</th>\n",
       "      <th>followers</th>\n",
       "      <th>pictures</th>\n",
       "      <th>videos</th>\n",
       "      <th>comments</th>\n",
       "      <th>likes</th>\n",
       "    </tr>\n",
       "  </thead>\n",
       "  <tbody>\n",
       "    <tr>\n",
       "      <th>0</th>\n",
       "      <td>Weekly</td>\n",
       "      <td>2019-12-07</td>\n",
       "      <td>Luxury &amp; Premium &amp; Mainstream</td>\n",
       "      <td>Soft Luxury</td>\n",
       "      <td>Versace</td>\n",
       "      <td>Capri Holdings</td>\n",
       "      <td>United States of America</td>\n",
       "      <td>Capri Holdings</td>\n",
       "      <td>New York Stock Exchange</td>\n",
       "      <td>Metric Value</td>\n",
       "      <td>22066189.0</td>\n",
       "      <td>97.0</td>\n",
       "      <td>13.0</td>\n",
       "      <td>16239.0</td>\n",
       "      <td>6112205.0</td>\n",
       "    </tr>\n",
       "    <tr>\n",
       "      <th>1</th>\n",
       "      <td>Weekly</td>\n",
       "      <td>2021-01-30</td>\n",
       "      <td>Luxury &amp; Premium &amp; Mainstream</td>\n",
       "      <td>Luxury &amp; Premium &amp; Mainstream</td>\n",
       "      <td>Versace</td>\n",
       "      <td>Capri Holdings</td>\n",
       "      <td>United States of America</td>\n",
       "      <td>Capri Holdings</td>\n",
       "      <td>New York Stock Exchange</td>\n",
       "      <td>Metric Value</td>\n",
       "      <td>24289963.0</td>\n",
       "      <td>54.0</td>\n",
       "      <td>2.0</td>\n",
       "      <td>13358.0</td>\n",
       "      <td>3189144.0</td>\n",
       "    </tr>\n",
       "    <tr>\n",
       "      <th>2</th>\n",
       "      <td>Weekly</td>\n",
       "      <td>2016-05-14</td>\n",
       "      <td>Luxury &amp; Premium &amp; Mainstream</td>\n",
       "      <td>Soft Luxury</td>\n",
       "      <td>Versace</td>\n",
       "      <td>Capri Holdings</td>\n",
       "      <td>United States of America</td>\n",
       "      <td>Capri Holdings</td>\n",
       "      <td>New York Stock Exchange</td>\n",
       "      <td>Metric Value</td>\n",
       "      <td>7137442.0</td>\n",
       "      <td>42.0</td>\n",
       "      <td>8.0</td>\n",
       "      <td>15894.0</td>\n",
       "      <td>2152955.0</td>\n",
       "    </tr>\n",
       "    <tr>\n",
       "      <th>3</th>\n",
       "      <td>Weekly</td>\n",
       "      <td>2019-04-20</td>\n",
       "      <td>Luxury &amp; Premium &amp; Mainstream</td>\n",
       "      <td>Luxury &amp; Premium &amp; Mainstream</td>\n",
       "      <td>Versace</td>\n",
       "      <td>Capri Holdings</td>\n",
       "      <td>United States of America</td>\n",
       "      <td>Capri Holdings</td>\n",
       "      <td>New York Stock Exchange</td>\n",
       "      <td>Metric Value</td>\n",
       "      <td>18901125.0</td>\n",
       "      <td>73.0</td>\n",
       "      <td>9.0</td>\n",
       "      <td>26762.0</td>\n",
       "      <td>5224916.0</td>\n",
       "    </tr>\n",
       "    <tr>\n",
       "      <th>4</th>\n",
       "      <td>Weekly</td>\n",
       "      <td>2023-03-25</td>\n",
       "      <td>Luxury &amp; Premium &amp; Mainstream</td>\n",
       "      <td>US Softlines Analyst Interest List</td>\n",
       "      <td>Versace</td>\n",
       "      <td>Capri Holdings</td>\n",
       "      <td>United States of America</td>\n",
       "      <td>Capri Holdings</td>\n",
       "      <td>New York Stock Exchange</td>\n",
       "      <td>Metric Value</td>\n",
       "      <td>30251374.0</td>\n",
       "      <td>54.0</td>\n",
       "      <td>10.0</td>\n",
       "      <td>25681.0</td>\n",
       "      <td>5760987.0</td>\n",
       "    </tr>\n",
       "  </tbody>\n",
       "</table>\n",
       "</div>"
      ],
      "text/plain": [
       "   period period_end_date                  compset_group  \\\n",
       "0  Weekly      2019-12-07  Luxury & Premium & Mainstream   \n",
       "1  Weekly      2021-01-30  Luxury & Premium & Mainstream   \n",
       "2  Weekly      2016-05-14  Luxury & Premium & Mainstream   \n",
       "3  Weekly      2019-04-20  Luxury & Premium & Mainstream   \n",
       "4  Weekly      2023-03-25  Luxury & Premium & Mainstream   \n",
       "\n",
       "                              compset business_entity_doing_business_as_name  \\\n",
       "0                         Soft Luxury                                Versace   \n",
       "1       Luxury & Premium & Mainstream                                Versace   \n",
       "2                         Soft Luxury                                Versace   \n",
       "3       Luxury & Premium & Mainstream                                Versace   \n",
       "4  US Softlines Analyst Interest List                                Versace   \n",
       "\n",
       "  legal_entity_name     domicile_country_name  \\\n",
       "0    Capri Holdings  United States of America   \n",
       "1    Capri Holdings  United States of America   \n",
       "2    Capri Holdings  United States of America   \n",
       "3    Capri Holdings  United States of America   \n",
       "4    Capri Holdings  United States of America   \n",
       "\n",
       "  ultimate_parent_legal_entity_name    primary_exchange_name calculation_type  \\\n",
       "0                    Capri Holdings  New York Stock Exchange     Metric Value   \n",
       "1                    Capri Holdings  New York Stock Exchange     Metric Value   \n",
       "2                    Capri Holdings  New York Stock Exchange     Metric Value   \n",
       "3                    Capri Holdings  New York Stock Exchange     Metric Value   \n",
       "4                    Capri Holdings  New York Stock Exchange     Metric Value   \n",
       "\n",
       "    followers  pictures  videos  comments      likes  \n",
       "0  22066189.0      97.0    13.0   16239.0  6112205.0  \n",
       "1  24289963.0      54.0     2.0   13358.0  3189144.0  \n",
       "2   7137442.0      42.0     8.0   15894.0  2152955.0  \n",
       "3  18901125.0      73.0     9.0   26762.0  5224916.0  \n",
       "4  30251374.0      54.0    10.0   25681.0  5760987.0  "
      ]
     },
     "execution_count": 1,
     "metadata": {},
     "output_type": "execute_result"
    }
   ],
   "source": [
    "# Load the dataset\n",
    "import pandas as pd\n",
    "df = pd.read_csv(\"../raw_data/skylab_instagram_datathon_dataset.csv\", delimiter=\";\")\n",
    "df.head()"
   ]
  },
  {
   "cell_type": "code",
   "execution_count": 2,
   "metadata": {},
   "outputs": [
    {
     "name": "stdout",
     "output_type": "stream",
     "text": [
      "<class 'pandas.core.frame.DataFrame'>\n",
      "RangeIndex: 704313 entries, 0 to 704312\n",
      "Data columns (total 15 columns):\n",
      " #   Column                                  Non-Null Count   Dtype  \n",
      "---  ------                                  --------------   -----  \n",
      " 0   period                                  704313 non-null  object \n",
      " 1   period_end_date                         704313 non-null  object \n",
      " 2   compset_group                           704313 non-null  object \n",
      " 3   compset                                 704313 non-null  object \n",
      " 4   business_entity_doing_business_as_name  704313 non-null  object \n",
      " 5   legal_entity_name                       676558 non-null  object \n",
      " 6   domicile_country_name                   458589 non-null  object \n",
      " 7   ultimate_parent_legal_entity_name       676558 non-null  object \n",
      " 8   primary_exchange_name                   458589 non-null  object \n",
      " 9   calculation_type                        704313 non-null  object \n",
      " 10  followers                               579258 non-null  float64\n",
      " 11  pictures                                695803 non-null  float64\n",
      " 12  videos                                  684349 non-null  float64\n",
      " 13  comments                                695343 non-null  float64\n",
      " 14  likes                                   695977 non-null  float64\n",
      "dtypes: float64(5), object(10)\n",
      "memory usage: 80.6+ MB\n"
     ]
    }
   ],
   "source": [
    "# Retrieve the most possible information about the dataset\n",
    "df.info()"
   ]
  },
  {
   "cell_type": "code",
   "execution_count": 3,
   "metadata": {},
   "outputs": [],
   "source": [
    "# Strip all columns with string values\n",
    "df = df.apply(lambda x: x.str.strip() if x.dtype == \"object\" else x)"
   ]
  },
  {
   "cell_type": "code",
   "execution_count": 4,
   "metadata": {},
   "outputs": [
    {
     "data": {
      "text/plain": [
       "period                                         0\n",
       "period_end_date                                0\n",
       "compset_group                                  0\n",
       "compset                                        0\n",
       "business_entity_doing_business_as_name         0\n",
       "legal_entity_name                          27755\n",
       "domicile_country_name                     245724\n",
       "ultimate_parent_legal_entity_name          27755\n",
       "primary_exchange_name                     245724\n",
       "calculation_type                               0\n",
       "followers                                 125055\n",
       "pictures                                    8510\n",
       "videos                                     19964\n",
       "comments                                    8970\n",
       "likes                                       8336\n",
       "dtype: int64"
      ]
     },
     "execution_count": 4,
     "metadata": {},
     "output_type": "execute_result"
    }
   ],
   "source": [
    "# Missing values per column\n",
    "df.isnull().sum()"
   ]
  },
  {
   "cell_type": "markdown",
   "metadata": {},
   "source": [
    "Given the amount of missing values we drop following features:\n",
    "- domicile_country_name          \n",
    "- ultimate_parent_legal_entity_name        \n",
    "- primary_exchange_name"
   ]
  },
  {
   "cell_type": "code",
   "execution_count": 5,
   "metadata": {},
   "outputs": [],
   "source": [
    "# Drop cols with too many missing values\n",
    "df = df.drop(columns=[\"domicile_country_name\", \"ultimate_parent_legal_entity_name\", \"primary_exchange_name\"])"
   ]
  },
  {
   "cell_type": "code",
   "execution_count": 6,
   "metadata": {},
   "outputs": [
    {
     "data": {
      "text/plain": [
       "period                                         1\n",
       "period_end_date                              455\n",
       "compset_group                                 20\n",
       "compset                                       54\n",
       "business_entity_doing_business_as_name       706\n",
       "legal_entity_name                            423\n",
       "calculation_type                               1\n",
       "followers                                 243231\n",
       "pictures                                    8190\n",
       "videos                                      3748\n",
       "comments                                   52500\n",
       "likes                                     197943\n",
       "dtype: int64"
      ]
     },
     "execution_count": 6,
     "metadata": {},
     "output_type": "execute_result"
    }
   ],
   "source": [
    "# Unique values in each column\n",
    "df.nunique()"
   ]
  },
  {
   "cell_type": "markdown",
   "metadata": {},
   "source": [
    "Given that they have a unique value we drop the following columns:\n",
    "- period\n",
    "- calculation_type"
   ]
  },
  {
   "cell_type": "code",
   "execution_count": 7,
   "metadata": {},
   "outputs": [],
   "source": [
    "# drop cols with one unique value\n",
    "df.drop(columns=[\"period\", \"calculation_type\"], inplace=True)"
   ]
  },
  {
   "cell_type": "markdown",
   "metadata": {},
   "source": [
    "### feature: period_end_date"
   ]
  },
  {
   "cell_type": "code",
   "execution_count": 8,
   "metadata": {},
   "outputs": [],
   "source": [
    "# Convert data type to datetime\n",
    "df[\"period_end_date\"] = pd.to_datetime(df[\"period_end_date\"])\n",
    "\n",
    "# Change name\n",
    "df.rename(columns={\"period_end_date\": \"date\"}, inplace=True)"
   ]
  },
  {
   "cell_type": "code",
   "execution_count": 9,
   "metadata": {},
   "outputs": [
    {
     "name": "stdout",
     "output_type": "stream",
     "text": [
      "2015-01-03 00:00:00\n",
      "2023-09-16 00:00:00\n"
     ]
    }
   ],
   "source": [
    "# Time period covered by the data\n",
    "print(df[\"date\"].min())\n",
    "print(df[\"date\"].max())"
   ]
  },
  {
   "cell_type": "markdown",
   "metadata": {},
   "source": [
    "### feature: compset_group"
   ]
  },
  {
   "cell_type": "code",
   "execution_count": 10,
   "metadata": {},
   "outputs": [
    {
     "data": {
      "text/plain": [
       "array(['Luxury & Premium & Mainstream', 'Restaurants', 'Beverages',\n",
       "       'Apparel Retail', 'Food Products', 'Sporting Goods',\n",
       "       'Sportswear & Athleisure', 'Beauty & Boutique',\n",
       "       'Building Products', 'Petcare', 'Toys & Collectibles', 'Mattress',\n",
       "       'Fitness & Exercise', 'Food Retail', 'Discount Retailers',\n",
       "       'Outdoor Gear', 'Dermatology and Orthodontics', 'Entertainment',\n",
       "       'Home Appliances', 'Study (All Brands)'], dtype=object)"
      ]
     },
     "execution_count": 10,
     "metadata": {},
     "output_type": "execute_result"
    }
   ],
   "source": [
    "# Unique values\n",
    "df['compset_group'].unique()"
   ]
  },
  {
   "cell_type": "markdown",
   "metadata": {},
   "source": [
    "We could one-hot-encode the compset_group feature, but we decide to drop it for simplicity."
   ]
  },
  {
   "cell_type": "code",
   "execution_count": 11,
   "metadata": {},
   "outputs": [],
   "source": [
    "# Drop feature\n",
    "df.drop(columns=[\"compset_group\"], inplace=True)"
   ]
  },
  {
   "cell_type": "markdown",
   "metadata": {},
   "source": [
    "### feature: compset"
   ]
  },
  {
   "cell_type": "code",
   "execution_count": 12,
   "metadata": {},
   "outputs": [
    {
     "data": {
      "text/plain": [
       "54"
      ]
     },
     "execution_count": 12,
     "metadata": {},
     "output_type": "execute_result"
    }
   ],
   "source": [
    "# Count unique values compset \n",
    "df['compset'].nunique()"
   ]
  },
  {
   "cell_type": "markdown",
   "metadata": {},
   "source": [
    "We choose to drop the feature because of the amount of unique values, instead of one-hot-encoding it."
   ]
  },
  {
   "cell_type": "code",
   "execution_count": 13,
   "metadata": {},
   "outputs": [],
   "source": [
    "# Drop feature\n",
    "df.drop(columns=[\"compset\"], inplace=True)"
   ]
  },
  {
   "cell_type": "markdown",
   "metadata": {},
   "source": [
    "### feature 5: business_entity_doing_business_as_name"
   ]
  },
  {
   "cell_type": "code",
   "execution_count": 14,
   "metadata": {},
   "outputs": [
    {
     "data": {
      "text/plain": [
       "array(['Versace', \"Tim Horton's\", 'Gatorade', 'Monster Energy', 'Aritzia',\n",
       "       'Lovisa', 'Saks Fifth Avenue', 'Ferragamo', 'Riachuelo',\n",
       "       'Louis Vuitton', 'Nature Valley', \"Rao's\", 'YesStyle',\n",
       "       'Academy Sports + Outdoors', 'Outback Steakhouse', 'Cartier',\n",
       "       'Costa Coffee', 'Lululemon', 'Clif Bar', 'Richards',\n",
       "       'Steve Madden', 'DTLR', 'IL MAKIAGE', 'Topshop', 'Boral',\n",
       "       'Skechers', 'Balmain Beauty', 'Meow Mix', 'Michael Kors', 'Chloe',\n",
       "       'Wingstop', 'Absolut', 'Miniso', 'TAG Heuer', 'Helix',\n",
       "       'C&A Brasil', 'YSL Beauty', 'C&A', 'Saint Laurent', 'Mirror',\n",
       "       'Dermalogica', 'Saks Off Fifth', 'LORO PIANA', 'Topman', 'Garnier',\n",
       "       'The RealReal', 'Beyond Meat', 'Volcom', 'Hourglass',\n",
       "       'Pure Farmland', 'Esprit', 'Buffalo Wild Wings', 'Boozt', 'Aldi',\n",
       "       'Banana Republic', 'Sam Edelman', 'Lord + Taylor', 'Blink Fitness',\n",
       "       'BodyArmor', 'Tempur', 'Dollar Tree', 'MVMT', 'Champs Sports',\n",
       "       'Macpac', 'Burberry', 'Certina', 'Nine West', 'Sofina', 'Alme',\n",
       "       'Hoegaarden', 'Eddie Bauer', 'Minor Figures', 'Pure Group',\n",
       "       'CertainTeed', 'Mango', 'Nectar', 'Fabula', 'Brahma', 'Hering',\n",
       "       'Nordstrom', 'Audemars Piguet', 'Shu Uemura', 'Drunk Elephant',\n",
       "       'Kathmandu', 'SuitSupply', 'Jack in the Box',\n",
       "       'LP Building Products', 'Miu Miu', 'Ralph Lauren', 'Boot Barn',\n",
       "       'Erborian', 'Missguided', 'Skol', 'Stradivarius',\n",
       "       'Brunello Cucinelli', 'Armani', 'Billabong', 'DKNY', 'NIVEA',\n",
       "       'Dumond', \"Macy's Backstage\", \"Hill's\", 'Athleta',\n",
       "       'Kylie Cosmetics', 'Juvederm', 'P.E Nation', \"Bloomingdale's\",\n",
       "       'Tofurky', 'Lilys Kitchen', 'Reserva', 'Hermes',\n",
       "       'The Meatless Farm', 'Hollister', \"Cabela's\", 'Bobbi Brown',\n",
       "       'Etsy', 'Longines', 'Starwars', 'Boca', 'Esalon', 'Saatva', 'RTIC',\n",
       "       'Adidas', 'Asics', 'Gardein', 'Hylete', \"Barry's Bootcamp\",\n",
       "       'Olaplex', 'Bass Pro Shops', 'Jaeger-LeCoultre', 'Breitling',\n",
       "       \"Siggi's Dairy\", 'KIND', 'Supreme', 'Grown Alchemist', 'Primark',\n",
       "       \"Cheddar's Scratch Kitchen\", 'Breguet', 'Sonic', 'Jeuveau',\n",
       "       'Shark Home', 'Melvita', 'James Hardie Industries',\n",
       "       'Neiman Marcus', 'Tom Ford Beauty', 'Stone Island',\n",
       "       \"OshKosh B'gosh\", 'Troc', 'LimeLife', 'Avon', \"dd's Discounts\",\n",
       "       'Madison Reed', 'Coca-Cola', 'Patagonia', 'Vince',\n",
       "       'Manolo Blahnik', 'Dune', 'Lidl', 'East Bay', 'Wish', 'Aveda',\n",
       "       'Benefit', 'Patek Philippe', \"Dillard's\", 'Foot Action',\n",
       "       'Diane Von Furstenberg', 'Bottega Veneta', 'Clairol', 'Chopard',\n",
       "       'Donna Karan', 'Target', 'NOBULL', 'Vegetarian Butcher', 'Fiever',\n",
       "       'Salinas', 'Valentino', 'Tarte Cosmetics', 'Mido', 'Disney',\n",
       "       \"Kiehl's\", 'Runnerspoint', 'Farfetch', 'Roberto Cavalli',\n",
       "       'Pantene', 'Skip Hop', 'CamelBak', 'H Stern', 'Maria Filo',\n",
       "       'Fashion Nova', 'Planet Fitness', 'Prada', 'Burger King',\n",
       "       'TGI Fridays', 'YETI', 'Botox', 'Aldo', 'Elemis', 'Hibbett Sports',\n",
       "       'Purple', 'Chobani', 'Kenzo', 'MAC Cosmetics', 'SoulCycle',\n",
       "       'Powerade', 'Bjorg', 'Zales', 'Acne Studios', 'Marc Jacobs',\n",
       "       'FWRD', 'Muji', 'Rip Curl', 'Alexander Wang', 'Dos Equis XX',\n",
       "       'Red Bull', 'Red Robin', 'Fila', 'Harry Winston', 'Rolife',\n",
       "       'Shoulder', 'Temu', 'Anta', 'CEMEX', 'Bumble and bumble',\n",
       "       'Chaumet', 'Sephora', 'Tesco Supermarket', 'On Running',\n",
       "       'Colorado', \"Chili's\", 'Amstel', 'Cannuka', 'Montejo',\n",
       "       'Matchesfashion', 'Natura', 'Becca', 'Eudora', 'Dudalina',\n",
       "       'Zenith', 'Goose Island', 'Orangetheory', 'Coles', 'Quorn',\n",
       "       'REVOLVE', 'Smirnoff', 'Tineco', 'Value Village', 'Lorna Jane',\n",
       "       'NYX', 'Flywheel Sports', 'Dafiti', 'Serta', 'Mountain Dew',\n",
       "       'Roger Dubuis', 'Chanel Beauty', 'Garancia',\n",
       "       'Burlington Coat Factory', 'Funko', '24S', 'ONE Brands',\n",
       "       'Bergdorf Goodman', 'Alexander McQueen', 'Vidal Sassoon', 'Swatch',\n",
       "       'Lucky', 'Reebok', 'New Balance', 'Mary Kay', 'Revlon',\n",
       "       'Remy Martin', 'Huffer', 'Oysho', 'TRX', 'ORCA', 'Sharkbite',\n",
       "       'Shopbop', 'Balmain', 'Le Lis Blanc', 'Bobstore', 'Santa Lolla',\n",
       "       'IT Cosmetics', 'Designer Shoe Warehouse', 'Sol', 'Oatly',\n",
       "       'Royal Building Products', 'Estee Lauder', 'Main Event',\n",
       "       'Breville', 'Armani Beauty', 'Quest Nutrition', 'Casper',\n",
       "       'Doyoueven', 'Ollies Bargain Outlet', 'Piaget', 'Texas Roadhouse',\n",
       "       '3CE', 'Modelo', 'Alo Yoga', 'Pedigree', 'Alexandre Birman',\n",
       "       'Massimo Dutti', 'Loewe', 'Devassa', 'Kerastase',\n",
       "       'Burberry Beauty', 'Fitness First', 'ColourPop', 'Dolce & Gabbana',\n",
       "       'Bershka', 'Sol de Janeiro', 'Givenchy', 'Sandro', 'Provamel',\n",
       "       'Jimmy Choo', 'Alpro', 'Tom Ford', 'SK-II', 'Coach', 'Simmons',\n",
       "       'bareMinerals', 'Bulgari Beauty', 'Dunlop Sports',\n",
       "       '3.1 Phillip Lim', 'Roxy', \"Dave & Buster's\",\n",
       "       'LongHorn Steakhouse', \"Kohl's\", 'Kate Spade', \"Marshall's\",\n",
       "       'TJ Maxx', 'Ivy Park', 'Hey Dude', 'ShopGoodwill',\n",
       "       'Van Cleef & Arpels', 'Urban Outfitters', 'Inov-8',\n",
       "       'Columbia Sportswear', 'Christian Louboutin', 'Lee',\n",
       "       'Moda Operandi', 'Owens Corning', 'IAMS', 'RokFit', 'YOOX',\n",
       "       'Smashbox', 'Sensai', 'H&M', 'INDIO', 'Finding Unicorn',\n",
       "       'Savage X Fenty', 'Crown Royal', 'Origins', 'Coleman', 'Kanebo',\n",
       "       'Wahoo Fitness', 'Gap', \"Victoria's Secret\", 'Too Faced', 'Schuh',\n",
       "       'Carolina Herrera', 'Superdown', 'Knight & Wilson', 'Pop Mart',\n",
       "       'Peoples Jewellers', 'Off-White', 'Dior Beauty', 'Aperol',\n",
       "       'Sculptra', 'Revanesse', 'MARVEL', 'Blancpain', 'Atkins',\n",
       "       'Chipotle', 'Li Ning', 'Quiksilver', 'Ellus', 'Cheesecake Factory',\n",
       "       \"Domino's Pizza\", 'Wella', 'Asos', 'Life by Vivara',\n",
       "       'VR Collezioni', 'Ted Baker', 'A. Lange & Soehne', 'Noosa',\n",
       "       'About You', 'Christian Louboutin Beauty', 'Stonyfield Farm',\n",
       "       'Alice & Olivia', 'Neiman Marcus Last Call', 'Tecate',\n",
       "       'Outdoor Voices', 'Marc Jacobs Beauty', 'All Brands', \"Beck's\",\n",
       "       'La Mer', 'Theory', \"Dick's Sporting Goods\", 'VO5',\n",
       "       'No Evil Foods', 'Lightlife', 'SkinCeuticals', 'Charlotte Tilbury',\n",
       "       'The Very Good Butchers', 'Build A Bear', \"Papa John's\",\n",
       "       'Bell & Ross', 'Izod', 'Popeyes', 'NV', 'Wolaco', 'Rumble Boxing',\n",
       "       'Corello', 'Cris Barros', 'Gymshark', 'Merrell', 'Timex',\n",
       "       'Kay Jewelers', 'Anacapri', 'Celsius', 'Crocs', 'Maybelline',\n",
       "       'HomeGoods', 'Yves Veggie Cuisine', 'Citizen', 'Rogue Fitness',\n",
       "       'e.l.f.', 'Lancome', 'Zegna', \"Nando's\", 'Schutz', 'Aerie',\n",
       "       'Bo.Bo', 'Hydro Flask', 'Fendi', 'Rag & Bone', 'Redken',\n",
       "       'Johnston & Murphy', 'CSR', 'Uniqlo', 'Hublot', 'Dsquared2',\n",
       "       'La Roche-Posay', 'SOREL', 'Rolex', 'J Crew', 'Hamilton Watch',\n",
       "       'Big Lots', 'SSENSE', 'Cle de Peau Beaute', 'Silk', 'FARM',\n",
       "       'American Eagle', 'Ragu', 'Amaro', 'Belotero', 'Timberland',\n",
       "       'John Frieda', 'Kurt Geiger', 'Rockstar', 'Stella McCartney',\n",
       "       'Torpedo 7', 'CCC Shoes', 'Kenzo Beauty', 'Five Below', 'SHEIN',\n",
       "       'In-N-Out Burger', 'Sanrio', 'Jameson', 'VICTORIA Beer',\n",
       "       'Balenciaga', 'Nordstrom Rack', 'Superdry', \"Wendy's\", 'Dockers',\n",
       "       'Loewe Beauty', 'Eisenbahn', 'Chanel', 'Sleep Number',\n",
       "       'Almond Breeze', 'Monte Carlo', 'Nasty Gal', 'Anthropologie',\n",
       "       'Sizeer', \"Applebee's\", 'AllSaints', 'Claudie Pierlot',\n",
       "       'Sweet Earth', 'Zara', \"L'Oreal Professionnel\", 'Woolworths',\n",
       "       'Zalando', 'Laura Mercier', 'Anastasia Beverly Hills', 'Starbucks',\n",
       "       'The North Face', 'Juicy Couture', 'Impossible Foods',\n",
       "       'Gucci Beauty', 'Budweiser', 'City Chic', 'Carta Blanca Beer',\n",
       "       'Nike', 'Rado', 'ThredUp', 'Chick-fil-A', 'Morningstar Farms',\n",
       "       'Sweetgreen', 'Shake Shack', 'Spaten', 'Suunto',\n",
       "       'IWC Schaffhausen', 'IGLOO', 'Mytheresa', \"Tod's\", 'Dysport',\n",
       "       'Casio Watch', 'Bang', 'The Body Shop', 'Rachael Ray Nutrish',\n",
       "       'Omega', 'Vince Camuto', 'Equinox', 'La Prairie', 'Boohoo',\n",
       "       'J. C. Penney', 'Madewell', 'Itaipava', 'Leesa',\n",
       "       \"L'OCCITANE au Bresil\", 'Tudor', 'Old Navy', 'Purina', 'Arezzo',\n",
       "       'Blaze Pizza', 'Moncler', 'Peloton', 'Larabar', 'Pepsi',\n",
       "       'Brooks Brothers', \"BJ's Restaurant & Brewhouse\", 'Tory Burch',\n",
       "       'Sperry', 'Dior', 'Taco Bell', 'Ecovacs', \"O'Neill\", 'Garmin',\n",
       "       'Vivara', 'Seiko', 'Poshmark', 'Royal Canin', 'Yoplait', 'Darphin',\n",
       "       'Otto GmbH', 'Field Roast', 'Ray Ban', 'Dr.Jart', 'Fitplan',\n",
       "       'Ulta Beauty', \"Dunkin' Donuts\", 'Clinique', 'Dove',\n",
       "       'Canada Goose', 'Glashutte Original', 'Richard Mille', 'Rosa Cha',\n",
       "       'Softsheen-Carson', 'Rude Health', 'Jared The Galleria of Jewelry',\n",
       "       'ANIMALE', 'Hoka One One', 'Daniel Wellington', 'Under Armour',\n",
       "       'KFC', 'Guarana Antarctica', 'Net-a-Porter', 'Celine', \"Levi's\",\n",
       "       'The Kooples', 'Antarctica', 'Wrangler', 'Morphe', 'NARS',\n",
       "       'Tiffany & Co.', 'Virgin Active', 'Allbirds', 'Fabletics',\n",
       "       'Rent the Runway', 'Restylane', \"The Children's Place\", 'Fage',\n",
       "       'Casamigos', 'Healthy Human', 'John John Denim', 'Corona',\n",
       "       'Whataburger', 'Vacheron Constantin', \"L'OCCITANE\", 'Stitch Fix',\n",
       "       'O Boticario', 'Barneys New York', 'Givenchy Beauty', 'Bertolli',\n",
       "       'Califia Farms', 'SPRITE', 'Capodarte', 'Proenza Schouler',\n",
       "       'SmileDirectClub', 'JD Sports', 'Bath & Body Works', 'Tissot',\n",
       "       'Michelob Ultra', 'Boss', 'Pretty Little Thing', 'Blue Buffalo',\n",
       "       'Trask', \"L'Oreal Paris\", 'Piercing Pagoda', 'Le Coq Sportif',\n",
       "       'Forever 21', 'Gucci', 'Panerai', 'Fenty Beauty', \"McDonald's\",\n",
       "       'My Shoes', 'Cerveza Patagonia', 'Vans', 'GAF', \"Upton's Naturals\",\n",
       "       'Ninja Kitchen', 'Thom Browne', 'Schwarzkopf', 'Barilla',\n",
       "       'Abercrombie & Fitch', 'ClassPass', 'Max Mara', 'Tommy Hilfiger',\n",
       "       'Garden Gourmet', 'Stella Artois', 'Foxton', 'Cole Haan', 'COS',\n",
       "       'REI', 'iRobot', 'Whiskas', 'Finish Line', \"Macy's\", 'Tobi',\n",
       "       'Buckle', 'Tonica Antarctica', 'shopDisney', 'Noodles & Company',\n",
       "       'Oboz', 'Aeropostale', 'Citi Trends', 'Sweaty Betty', 'Pandora',\n",
       "       'Journeys', 'Buitoni', 'Schweppes', 'Montblanc', 'Olive Garden',\n",
       "       'Bulgari', 'Invisalign', 'Urban Decay Cosmetics', 'Tatcha',\n",
       "       'Dollar General', 'Puma', 'Maje', 'Ultracor', 'Shoe Palace',\n",
       "       'Carol Bassi', 'UGG', 'Pure Protein', 'Dr Pepper', 'Champion',\n",
       "       'Pull&Bear', 'Lacoste', 'Calvin Klein', 'Syoss', 'So Delicious',\n",
       "       'Carla Amorim', 'Lojas Renner', 'NordicTrack',\n",
       "       'Ross Dress For Less', 'Pacifico', 'Xeomin', 'Dr. Martens', 'Est',\n",
       "       'Carmen Steffens', 'Foot Locker', 'Pizza Hut', 'Tuft & Needle',\n",
       "       'Uterque', \"Carter's\", 'Roborock', 'Baw Clothing', 'Marisa',\n",
       "       'Saucony', 'TIGI', 'Hugo', 'Roger Vivier', 'Nautica', 'GlamGlow',\n",
       "       'Mizuno', 'Klean Kanteen'], dtype=object)"
      ]
     },
     "execution_count": 14,
     "metadata": {},
     "output_type": "execute_result"
    }
   ],
   "source": [
    "# Unique values\n",
    "df['business_entity_doing_business_as_name'].unique()"
   ]
  },
  {
   "cell_type": "code",
   "execution_count": 15,
   "metadata": {},
   "outputs": [
    {
     "data": {
      "text/plain": [
       "706"
      ]
     },
     "execution_count": 15,
     "metadata": {},
     "output_type": "execute_result"
    }
   ],
   "source": [
    "# Count of unique values\n",
    "df['business_entity_doing_business_as_name'].nunique()"
   ]
  },
  {
   "cell_type": "code",
   "execution_count": 16,
   "metadata": {},
   "outputs": [],
   "source": [
    "# Change name\n",
    "df.rename(columns={\"business_entity_doing_business_as_name\": \"brand\"}, inplace=True)"
   ]
  },
  {
   "cell_type": "markdown",
   "metadata": {},
   "source": [
    "### feature: legal_entity_name"
   ]
  },
  {
   "cell_type": "code",
   "execution_count": 17,
   "metadata": {},
   "outputs": [
    {
     "data": {
      "text/plain": [
       "27755"
      ]
     },
     "execution_count": 17,
     "metadata": {},
     "output_type": "execute_result"
    }
   ],
   "source": [
    "# Missing values\n",
    "df['legal_entity_name'].isnull().sum()"
   ]
  },
  {
   "cell_type": "code",
   "execution_count": 18,
   "metadata": {},
   "outputs": [
    {
     "name": "stdout",
     "output_type": "stream",
     "text": [
      "['Capri Holdings' 'Restaurant Brands International' 'Pepsi'\n",
      " 'Monster Energy' 'Aritzia' 'Lovisa' 'Saks Fifth Avenue'\n",
      " 'Salvatore Ferragamo' 'Guararapes' 'LVMH Moet Hennessy Louis Vuitton SE'\n",
      " 'General Mills' 'Sovos Brands Intermediate Inc' 'YesAsia Holdings Ltd'\n",
      " 'Academy Sports + Outdoors' 'Outback Steakhouse' 'Richemont' 'Coca-Cola'\n",
      " 'Lululemon' 'Clif Bar & Co' 'Inbrands SA' 'Steve Madden' 'JD Sports'\n",
      " 'Il Makiage Ltd' 'Asos' 'Boral' 'Skechers' 'Mayhoola for Investments Spc'\n",
      " 'J M Smucker Co' 'Wingstop Inc' 'Pernod Ricard'\n",
      " 'MINISO Group Holding Ltd' 'Helix Sleep Inc' 'C&A MODAS SA' \"L'Oreal\"\n",
      " 'COFRA Holding AG' 'Kering' 'Unilever NV' \"Hudson's Bay\" 'The RealReal'\n",
      " 'Beyond Meat' 'Authentic Brands Group LLC' 'Hour Glass Ltd'\n",
      " 'Pure Farmland' 'Esprit Holdings Ltd' 'Buffalo Wild Wings' 'Boozt AB'\n",
      " 'Aldi' 'Gap' 'Caleres Inc' 'Le Tote Inc' 'THE RELATED COMPANIES, L.P.'\n",
      " 'BA Sports Nutrition LLC' 'Tempur Sealy International Inc' 'Dollar Tree'\n",
      " 'Movado Group Inc' 'Foot Locker' 'Super Retail Group Ltd' 'Burberry'\n",
      " 'Swatch' 'Premier Brands' 'KAO' 'Arezzo Industria e Comercio SA'\n",
      " 'Anheuser-Busch' 'Eddie Bauer' 'Minor Figures Ltd' 'Pure Group'\n",
      " 'St. Gobain' 'Mango' 'Sainsburys Supermarket' 'GRUPO DE MODA SOMA SA'\n",
      " 'Hering' 'Nordstrom' 'Audemars Piguet Holding SA' 'Shiseido'\n",
      " 'Kathmandu (NZ)' 'Suit Supply' 'Jack in the Box' 'Louisiana-Pacific Corp'\n",
      " 'Prada' 'Ralph Lauren' 'Boot Barn Holdings' \"L'Occitane International SA\"\n",
      " 'MGL Realisations 2022 Ltd' 'Inditex SA' 'Brunello Cucinelli SpA'\n",
      " 'Armani' 'Boardriders Inc' 'G-III Apparel Group' 'Beiersdorf'\n",
      " 'Paquetá Calçados Ltda' \"Macy's\" 'Colgate-Palmolive' 'Coty' 'Allergan'\n",
      " 'P.E Nation' \"Bloomingdale's\" 'Turtle Island Foods Inc' 'Nestle'\n",
      " 'Tiferet Comercio de Roupas Ltda' 'Hermes International'\n",
      " 'The Meatless Farm' 'Abercrombie & Fitch' 'BPS Direct, L.L.C'\n",
      " 'Estee Lauder' 'Etsy' 'Disney' 'Kraft Heinz Co' 'Henkel AG & Co KgaA'\n",
      " 'Sattva Co' 'RTIC Outdoors LLC' 'Adidas' 'Asics Corp' 'Conagra Brands'\n",
      " 'Hylete Inc' 'Fitness & Lifestyle Group Topco Pty Ltd'\n",
      " 'Olaplex Holdings Inc' 'Breitling SA' 'Lactalis' 'Kind LLC'\n",
      " 'VF Corporation' 'Primark' \"Cheddar's Scratch Kitchen\" 'Sonic'\n",
      " 'Evolus Inc' 'JS Global' 'James Hardie Industries' 'Neiman Marcus Group'\n",
      " 'Moncler' \"Carter's\" 'Avon Products Inc' 'Ross Stores' 'Madison Reed'\n",
      " 'Patagonia, Inc.' 'Vince Holding Corp' 'Manolo Blahnik International Ltd'\n",
      " 'Browning Enterprises Ltd' 'Lidl' 'ContextLogic Inc' 'Patek Philippe SA'\n",
      " \"Dillard's\" 'Diane von Furstenberg Studio LP'\n",
      " 'Le Petit-Fils de LU Chopard Cie SA' 'Target' 'NOBULL, LLC' 'Unilever'\n",
      " 'Valentino' 'Kose' 'Farfetch' 'Roberto Cavalli S.p.A.' 'Procter & Gamble'\n",
      " 'Vista Outdoor Inc' 'H Stern Jewelers Inc' 'Fashion Nova Inc'\n",
      " 'Planet Fitness Holdings, LLC' 'TGI Fridays' 'YETI Holdings Inc'\n",
      " 'Aldo Group Inc/The' 'Hibbett Inc' 'Purple' 'Chobani' 'Equinox Group'\n",
      " 'Bjorg Bonneterre Et Compagnie SASU' 'Signet Jewelers Ltd'\n",
      " 'Alice + Olivia LLC' 'Revolve Group Inc' 'Ryohin Keikaku'\n",
      " 'Alexander Wang Inc' 'Heineken' 'Red Bull' 'Red Robin Gourmet Burgers'\n",
      " 'Anta' 'Robotime Technology (Suzhou) Co., Ltd.'\n",
      " 'Shoulder Industria e Comercio de Confeccoes Ltda' 'WhaleCo Inc' 'CEMEX'\n",
      " 'Tesco' 'On Holding AG' \"Chili's\" 'Green Light Holdings LLC'\n",
      " 'Apax Partners LLP' 'Natura' 'Grupo Boticario' 'Dudalina SA'\n",
      " 'Ultimate Fitness Group LLC' 'Coles' 'Monde Nissin' 'Diageo'\n",
      " 'Tineco Intelligent Technology Co., Ltd' 'Savers Value Village Inc'\n",
      " 'Lorna Jane Pty Ltd' 'Flywheel Sports Inc' 'Global Fashion Group SA'\n",
      " 'Serta Simmons Bedding LLC' 'Chanel' 'Burlington Stores'\n",
      " 'Funko Holdings LLC' 'Hershey Co' 'Federated Department Stores' 'Lucky'\n",
      " 'New Balance' 'Mary Kay Inc' 'Revlon Inc' 'St Rémy'\n",
      " 'Huffer Direct Limited' 'Fitness Anywhere LLC'\n",
      " 'MacNeill Pride Group Corp' 'Reliance Worldwide' 'Amazon' 'Balmain SA'\n",
      " 'Veste S.A. Estilo' 'Sports Direct International Ltd' 'Santa Lolla' 'DSW'\n",
      " 'Oatly' 'Royal Building Products' 'Main Event Entertainment Holdings Inc'\n",
      " 'Breville' 'Simply Good Foods' 'Casper' 'Doyoueven Ltd' \"Ollie's Outlet\"\n",
      " 'Texas Roadhouse' 'Color Image Apparel Inc' 'Mars' 'DW Sports Fitness'\n",
      " 'Seed Beauty' 'Dolce & Gabbana Srl' 'SMCP SA' 'Danone'\n",
      " 'Tom Ford International, LLC' 'Tapestry' 'DUNLOP SPORTS CO LTD'\n",
      " \"Dave & Buster's\" 'LongHorn Steakhouse' \"Kohl's\" 'The TJX Companies'\n",
      " 'Parkwood Topshop Athletic;Parkwood Entertainment, LLC' 'Crocs'\n",
      " 'Goodwill Industries of Orange County' 'Urban Outfitters'\n",
      " 'Columbia Sportswear' 'Christian Louboutin' 'Kontoor Brands'\n",
      " 'Moda Operandi Inc' 'Owens Corning' 'RokFit, Inc.' 'H&M'\n",
      " 'Shenzhen Seulin Culture & Entertainment Co., Ltd'\n",
      " 'Intelligent Beauty Inc' 'Newell Brands' 'Wahoo Fitness, LLC'\n",
      " \"Victoria's Secret & Co\" 'Genesco Inc' 'Puig Beauty & Fashion Group S.L.'\n",
      " 'Knight & Wilson' 'Pop Mart International Group Ltd'\n",
      " 'New Guards Group Holding SPA' 'Christian Dior SE' 'Campari'\n",
      " 'Galderma Pharma SA' 'Prollenium Medical Technologies Inc' 'Aga Marvel'\n",
      " 'Chipotle Mexican Grill' 'Li Ning' 'Cheesecake Factory' \"Domino's Pizza\"\n",
      " 'Vivara' 'Ted Baker' 'Otto GmbH & Co KG' 'Outdoor Voices Inc' nan\n",
      " 'Fast Retailing Co Ltd' \"Dick's Sporting Goods\" 'No Evil Foods'\n",
      " 'Maple Leaf Foods Inc' 'Very Good Food Company Inc'\n",
      " 'Build-A-Bear Workshop Inc' \"Papa John's\" 'Bell & Ross' 'PVH Corporation'\n",
      " 'Popeyes' 'Way of Life Athletic, inc.' 'Rumble Fitness LLC' 'Corello'\n",
      " 'Gymshark Ltd' 'Wolverine World Wide Inc' 'Timex Group USA Inc'\n",
      " 'Celsius Holdings Inc' 'Hain Celestial Group Inc/The'\n",
      " 'Citizen Watch Co Ltd' 'Coulter Ventures LLC' 'elf Beauty Inc'\n",
      " 'Ermenegildo Zegna' \"Nando's\"\n",
      " 'Schutz Shoes Design Comercio de Calcados Ltda' 'American Eagle'\n",
      " 'Helen of Troy Ltd' 'CSR'\n",
      " 'Shandong Handu Yishe E-Commerce Group Co. Ltd.' 'Rolex' 'J Crew'\n",
      " 'Big Lots Inc' 'Groupe Atallah Inc.' 'Mizkan Group' 'AMARO FASHION LTDA'\n",
      " 'Merz Pharma GmbH Co KGaA' 'Cinven Group Ltd' 'Warehouse Group Ltd/The'\n",
      " 'CCC SA' 'Five Below' 'Nanjing Lingtian Information Technology Co., Ltd'\n",
      " 'In-N-Out Burger' 'Sanrio Co Ltd' 'Superdry' \"Wendy's\"\n",
      " 'Levi Strauss & Co.' 'Sleep Number' 'HP Hood LLC'\n",
      " 'MC Via Parque Comercio de Relogios LTDA' 'Boohoo' 'Anthropologie'\n",
      " \"Applebee's\" 'Lion Capital LLP' 'Woolworths' 'Zalando'\n",
      " 'Anastasia Beverly Hills' 'Starbucks' 'Juicy Couture'\n",
      " 'Impossible Foods Inc' 'City Chic Collective Ltd' 'Nike' 'ThredUp Inc'\n",
      " 'Chick-fil-A' 'Kellogg' 'Shake Shack' 'Suunto Oy' 'ACON Investments LLC'\n",
      " 'MYT Netherlands' \"Tod's\" 'AbbVie' 'Casio Computer Co Ltd'\n",
      " 'Vital Pharmaceuticals Inc' \"Natura;L'Oreal\" 'JC Penney'\n",
      " 'Grupo Petropolis' 'Leesa Sleep LLC' 'Blaze Pizza LLC' 'Peloton'\n",
      " 'Brooks Brothers' \"BJ's Restaurant & Brewhouse\" 'Tory Burch' 'Taco Bell'\n",
      " 'Ecovacs' 'La Jolla Group Inc' 'Garmin Ltd' 'Seiko Group Corp' 'Poshmark'\n",
      " 'Otto Clothing Pvt Ltd' 'EssilorLuxottica' 'Fitplan Technologies Inc'\n",
      " 'Ulta Beauty' 'Dunkin Brands Group' 'Canada Goose' 'Horométrie SA'\n",
      " 'Rosa Cha USA LLC' 'Rude Health Foods Ltd' 'Deckers Outdoor Corp'\n",
      " 'Daniel Wellington AB' 'Under Armour' 'KFC' 'The Kooples Diffusion SAS'\n",
      " 'Anheuser-Busch;Cia Antarctica Paulista-Industria Brasileira de Bebidas e Conexos'\n",
      " 'Virgin Group Holdings Ltd' 'Allbirds Inc' 'Forever 21'\n",
      " 'Rent the Runway Inc' \"Children's Place\" 'Fage International SA'\n",
      " 'HUMAN Healthy Vending LLC' 'Whatabrands LLC' 'Stitch Fix'\n",
      " 'Barneys New York' 'Califia Farms LLC' 'Luíza Marchiori'\n",
      " 'Proenza Schouler LLC' 'Smile Direct Club' 'Bath & Body Works'\n",
      " 'Hugo Boss' 'Airesis SA' \"McDonald's\" 'Standard Industries Inc'\n",
      " 'Uptons Naturals Co.' 'Barilla Holding SpA' 'Classpass UK Ltd'\n",
      " 'Max Mara Fashion Group - Srl' 'Gruppo Coin SpA' 'REI' 'iRobot Corp'\n",
      " 'Finish Line' 'Tobi.Com LLC' 'Buckle' 'Noodles & Company' 'Aeropostale'\n",
      " 'Citi Trends Inc' 'Maus Freres Holding AG' 'Pandora Jewelry'\n",
      " 'Olive Garden' 'Align Technology' 'Dollar General' 'Puma' 'Ultracor Inc'\n",
      " 'Carlyle Group LP' 'Keurig Dr Pepper' 'HanesBrands'\n",
      " 'CK Amorim Comércio de Artefatos de Metais Ltda' 'Lojas Renner' 'iFIT'\n",
      " 'Dr. Martens Plc' 'Carmen Steffens' 'Yum! Brands' 'Roborock;Xiaomi'\n",
      " 'Marisa Lojas SA' 'Mizuno Corp' 'Klean Kanteen Inc']\n",
      "N-unique: 423\n"
     ]
    }
   ],
   "source": [
    "# Unique values\n",
    "print(df['legal_entity_name'].unique())\n",
    "\n",
    "print(\"N-unique:\",df['legal_entity_name'].nunique())"
   ]
  },
  {
   "cell_type": "code",
   "execution_count": 19,
   "metadata": {},
   "outputs": [],
   "source": [
    "# Change name\n",
    "df.rename(columns={\"legal_entity_name\": \"legal_entity\"}, inplace=True)"
   ]
  },
  {
   "cell_type": "markdown",
   "metadata": {},
   "source": [
    "### numerical features"
   ]
  },
  {
   "cell_type": "code",
   "execution_count": 20,
   "metadata": {},
   "outputs": [
    {
     "name": "stdout",
     "output_type": "stream",
     "text": [
      "followers: 125055\n",
      "pictures: 8510\n",
      "videos: 19964\n",
      "comments: 8970\n",
      "likes: 8336\n"
     ]
    }
   ],
   "source": [
    "numerical_cols = [\"followers\", \"pictures\", \"videos\", \"comments\", \"likes\"]\n",
    "\n",
    "# Missing values per feature\n",
    "for col in numerical_cols:\n",
    "    print(f\"{col}: {df[col].isnull().sum()}\")"
   ]
  },
  {
   "cell_type": "code",
   "execution_count": 21,
   "metadata": {},
   "outputs": [],
   "source": [
    "# We drop all rows with missing values in columns followers\n",
    "df.dropna(subset=['followers'], inplace=True)"
   ]
  },
  {
   "cell_type": "code",
   "execution_count": 22,
   "metadata": {},
   "outputs": [],
   "source": [
    "# When we have missing values in all rows at the same time for pictures, videos, comments, likes, we drop them\n",
    "df = df.dropna(subset=['pictures', 'videos', 'comments', 'likes'], how='all')"
   ]
  },
  {
   "cell_type": "code",
   "execution_count": 23,
   "metadata": {},
   "outputs": [
    {
     "name": "stdout",
     "output_type": "stream",
     "text": [
      "followers: 0\n",
      "pictures: 86\n",
      "videos: 1747\n",
      "comments: 347\n",
      "likes: 0\n"
     ]
    }
   ],
   "source": [
    "# Check again missing values per feature\n",
    "for col in numerical_cols:\n",
    "    print(f\"{col}: {df[col].isnull().sum()}\")"
   ]
  },
  {
   "cell_type": "markdown",
   "metadata": {},
   "source": [
    "We still have missing values in pictures, videos and comments.\n",
    "\n",
    "Since these are relatively a small amount, we backward fill them, or forward fill if the last value is missing.\n",
    "If a brand has only missing values in any column, all its data should be dropped."
   ]
  },
  {
   "cell_type": "code",
   "execution_count": 24,
   "metadata": {},
   "outputs": [],
   "source": [
    "columns_to_fill = ['comments', 'videos', 'pictures']\n",
    "brands_to_drop = []  # List to keep track of brands to drop\n",
    "\n",
    "for column in columns_to_fill:\n",
    "    for company in df[\"brand\"].unique():\n",
    "        company_mask = df[\"brand\"] == company\n",
    "        column_data = df.loc[company_mask, column]\n",
    "        \n",
    "        # Check if the column data contains only null values\n",
    "        if column_data.isnull().all():\n",
    "            # Log the brand for removal\n",
    "            if company not in brands_to_drop:\n",
    "                brands_to_drop.append(company)\n",
    "        else:\n",
    "            # Fill remaining missing values using backward fill and then forward fill\n",
    "            df.loc[company_mask, column] = column_data.bfill().ffill()\n",
    "\n",
    "# Drop rows where the brand has any entirely null columns\n",
    "if brands_to_drop:\n",
    "    df = df[~df['brand'].isin(brands_to_drop)]"
   ]
  },
  {
   "cell_type": "code",
   "execution_count": 25,
   "metadata": {},
   "outputs": [
    {
     "name": "stdout",
     "output_type": "stream",
     "text": [
      "followers: 0\n",
      "pictures: 0\n",
      "videos: 0\n",
      "comments: 0\n",
      "likes: 0\n"
     ]
    }
   ],
   "source": [
    "# Check again missing values per feature\n",
    "for col in numerical_cols:\n",
    "    print(f\"{col}: {df[col].isnull().sum()}\")"
   ]
  },
  {
   "cell_type": "markdown",
   "metadata": {},
   "source": [
    "### Generate csv"
   ]
  },
  {
   "cell_type": "code",
   "execution_count": 26,
   "metadata": {},
   "outputs": [
    {
     "name": "stdout",
     "output_type": "stream",
     "text": [
      "315480\n"
     ]
    }
   ],
   "source": [
    "# Check for duplicates and drop them\n",
    "print(df.duplicated().sum())\n",
    "\n",
    "df.drop_duplicates(inplace=True)"
   ]
  },
  {
   "cell_type": "code",
   "execution_count": 27,
   "metadata": {},
   "outputs": [
    {
     "data": {
      "text/plain": [
       "256028"
      ]
     },
     "execution_count": 27,
     "metadata": {},
     "output_type": "execute_result"
    }
   ],
   "source": [
    "# Check length of the dataset\n",
    "len(df)"
   ]
  },
  {
   "cell_type": "code",
   "execution_count": 28,
   "metadata": {},
   "outputs": [],
   "source": [
    "# Sort by brand and date\n",
    "df = df.sort_values(by=[\"brand\", \"date\"])"
   ]
  },
  {
   "cell_type": "code",
   "execution_count": 29,
   "metadata": {},
   "outputs": [],
   "source": [
    "# Generate clean csv\n",
    "df.to_csv(\"../clean_data/clean_data.csv\", index=False)"
   ]
  },
  {
   "cell_type": "markdown",
   "metadata": {},
   "source": [
    "### We now proceed processing the data on the financial_data_integration notebook"
   ]
  }
 ],
 "metadata": {
  "kernelspec": {
   "display_name": "Python 3 (ipykernel)",
   "language": "python",
   "name": "python3"
  },
  "language_info": {
   "codemirror_mode": {
    "name": "ipython",
    "version": 3
   },
   "file_extension": ".py",
   "mimetype": "text/x-python",
   "name": "python",
   "nbconvert_exporter": "python",
   "pygments_lexer": "ipython3",
   "version": "3.9.6"
  }
 },
 "nbformat": 4,
 "nbformat_minor": 2
}
