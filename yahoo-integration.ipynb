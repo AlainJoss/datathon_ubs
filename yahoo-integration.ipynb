{
 "cells": [
  {
   "cell_type": "code",
   "execution_count": 85,
   "id": "initial_id",
   "metadata": {
    "collapsed": true,
    "ExecuteTime": {
     "end_time": "2024-04-27T14:47:22.845316Z",
     "start_time": "2024-04-27T14:47:21.454749100Z"
    }
   },
   "outputs": [],
   "source": [
    "import pandas as pd\n",
    "\n",
    "# Load the dataset\n",
    "file_path = 'skylab_instagram_datathon_dataset.csv'\n",
    "data = pd.read_csv(file_path, delimiter=';')"
   ]
  },
  {
   "cell_type": "markdown",
   "source": [
    "# Clean the data"
   ],
   "metadata": {
    "collapsed": false
   },
   "id": "3cd3b4163d03805b"
  },
  {
   "cell_type": "code",
   "execution_count": 86,
   "outputs": [],
   "source": [
    "data.dropna(subset=['followers'], inplace=True)\n",
    "unique = data[\"business_entity_doing_business_as_name\"].unique()\n",
    "data['period_end_date'] = pd.to_datetime(data['period_end_date'])\n",
    "data.set_index('period_end_date', inplace=True)\n",
    "# interpolate\n",
    "columns_to_fill = ['likes', 'videos', 'pictures']\n",
    "# Iterate over each column to fill missing values\n",
    "for column in columns_to_fill:\n",
    "    # Iterate over unique companies\n",
    "    for company in unique:\n",
    "        # Create a mask for the current company\n",
    "        company_mask = data[\"business_entity_doing_business_as_name\"] == company\n",
    "        # Interpolate missing values using time-based method\n",
    "        data.loc[company_mask, column] = data.loc[company_mask, column].interpolate(method='time')\n",
    "        # Fill remaining missing values using forward fill and backward fill\n",
    "        data.loc[company_mask, column] = data.loc[company_mask, column].ffill().bfill()"
   ],
   "metadata": {
    "collapsed": false,
    "ExecuteTime": {
     "end_time": "2024-04-27T14:48:39.636780Z",
     "start_time": "2024-04-27T14:47:22.847767500Z"
    }
   },
   "id": "abbeddbb888da5d0"
  },
  {
   "cell_type": "code",
   "execution_count": 87,
   "outputs": [
    {
     "data": {
      "text/plain": "                 period                  compset_group  \\\nperiod_end_date                                          \n2019-12-07       Weekly  Luxury & Premium & Mainstream   \n2021-01-30       Weekly  Luxury & Premium & Mainstream   \n2016-05-14       Weekly  Luxury & Premium & Mainstream   \n2019-04-20       Weekly  Luxury & Premium & Mainstream   \n2023-03-25       Weekly  Luxury & Premium & Mainstream   \n...                 ...                            ...   \n2020-03-21       Weekly                   Outdoor Gear   \n2018-10-27       Weekly                   Outdoor Gear   \n2023-08-05       Weekly                   Outdoor Gear   \n2019-11-02       Weekly                   Outdoor Gear   \n2023-02-25       Weekly                   Outdoor Gear   \n\n                                            compset  \\\nperiod_end_date                                       \n2019-12-07                              Soft Luxury   \n2021-01-30            Luxury & Premium & Mainstream   \n2016-05-14                              Soft Luxury   \n2019-04-20            Luxury & Premium & Mainstream   \n2023-03-25       US Softlines Analyst Interest List   \n...                                             ...   \n2020-03-21                             Outdoor Gear   \n2018-10-27                             Outdoor Gear   \n2023-08-05                             Outdoor Gear   \n2019-11-02                             Outdoor Gear   \n2023-02-25                             Outdoor Gear   \n\n                business_entity_doing_business_as_name  legal_entity_name  \\\nperiod_end_date                                                             \n2019-12-07                                     Versace     Capri Holdings   \n2021-01-30                                     Versace     Capri Holdings   \n2016-05-14                                     Versace     Capri Holdings   \n2019-04-20                                     Versace     Capri Holdings   \n2023-03-25                                     Versace     Capri Holdings   \n...                                                ...                ...   \n2020-03-21                               Klean Kanteen  Klean Kanteen Inc   \n2018-10-27                               Klean Kanteen  Klean Kanteen Inc   \n2023-08-05                               Klean Kanteen  Klean Kanteen Inc   \n2019-11-02                               Klean Kanteen  Klean Kanteen Inc   \n2023-02-25                               Klean Kanteen  Klean Kanteen Inc   \n\n                    domicile_country_name ultimate_parent_legal_entity_name  \\\nperiod_end_date                                                               \n2019-12-07       United States of America                    Capri Holdings   \n2021-01-30       United States of America                    Capri Holdings   \n2016-05-14       United States of America                    Capri Holdings   \n2019-04-20       United States of America                    Capri Holdings   \n2023-03-25       United States of America                    Capri Holdings   \n...                                   ...                               ...   \n2020-03-21                            NaN                 Klean Kanteen Inc   \n2018-10-27                            NaN                 Klean Kanteen Inc   \n2023-08-05                            NaN                 Klean Kanteen Inc   \n2019-11-02                            NaN                 Klean Kanteen Inc   \n2023-02-25                            NaN                 Klean Kanteen Inc   \n\n                   primary_exchange_name calculation_type   followers  \\\nperiod_end_date                                                         \n2019-12-07       New York Stock Exchange     Metric Value  22066189.0   \n2021-01-30       New York Stock Exchange     Metric Value  24289963.0   \n2016-05-14       New York Stock Exchange     Metric Value   7137442.0   \n2019-04-20       New York Stock Exchange     Metric Value  18901125.0   \n2023-03-25       New York Stock Exchange     Metric Value  30251374.0   \n...                                  ...              ...         ...   \n2020-03-21                           NaN     Metric Value    242415.0   \n2018-10-27                           NaN     Metric Value    163873.0   \n2023-08-05                           NaN     Metric Value    319485.0   \n2019-11-02                           NaN     Metric Value    228699.0   \n2023-02-25                           NaN     Metric Value    310895.0   \n\n                 pictures  videos  comments      likes  \nperiod_end_date                                         \n2019-12-07           97.0    13.0   16239.0  6112205.0  \n2021-01-30           54.0     2.0   13358.0  3189144.0  \n2016-05-14           42.0     8.0   15894.0  2152955.0  \n2019-04-20           73.0     9.0   26762.0  5224916.0  \n2023-03-25           54.0    10.0   25681.0  5760987.0  \n...                   ...     ...       ...        ...  \n2020-03-21          173.0     4.0    1847.0    27145.0  \n2018-10-27          125.0     2.0    1764.0    34188.0  \n2023-08-05          118.0    35.0    1697.0     6328.0  \n2019-11-02          129.0     2.0    1972.0    29174.0  \n2023-02-25          128.0    33.0    2606.0    10960.0  \n\n[579258 rows x 14 columns]",
      "text/html": "<div>\n<style scoped>\n    .dataframe tbody tr th:only-of-type {\n        vertical-align: middle;\n    }\n\n    .dataframe tbody tr th {\n        vertical-align: top;\n    }\n\n    .dataframe thead th {\n        text-align: right;\n    }\n</style>\n<table border=\"1\" class=\"dataframe\">\n  <thead>\n    <tr style=\"text-align: right;\">\n      <th></th>\n      <th>period</th>\n      <th>compset_group</th>\n      <th>compset</th>\n      <th>business_entity_doing_business_as_name</th>\n      <th>legal_entity_name</th>\n      <th>domicile_country_name</th>\n      <th>ultimate_parent_legal_entity_name</th>\n      <th>primary_exchange_name</th>\n      <th>calculation_type</th>\n      <th>followers</th>\n      <th>pictures</th>\n      <th>videos</th>\n      <th>comments</th>\n      <th>likes</th>\n    </tr>\n    <tr>\n      <th>period_end_date</th>\n      <th></th>\n      <th></th>\n      <th></th>\n      <th></th>\n      <th></th>\n      <th></th>\n      <th></th>\n      <th></th>\n      <th></th>\n      <th></th>\n      <th></th>\n      <th></th>\n      <th></th>\n      <th></th>\n    </tr>\n  </thead>\n  <tbody>\n    <tr>\n      <th>2019-12-07</th>\n      <td>Weekly</td>\n      <td>Luxury &amp; Premium &amp; Mainstream</td>\n      <td>Soft Luxury</td>\n      <td>Versace</td>\n      <td>Capri Holdings</td>\n      <td>United States of America</td>\n      <td>Capri Holdings</td>\n      <td>New York Stock Exchange</td>\n      <td>Metric Value</td>\n      <td>22066189.0</td>\n      <td>97.0</td>\n      <td>13.0</td>\n      <td>16239.0</td>\n      <td>6112205.0</td>\n    </tr>\n    <tr>\n      <th>2021-01-30</th>\n      <td>Weekly</td>\n      <td>Luxury &amp; Premium &amp; Mainstream</td>\n      <td>Luxury &amp; Premium &amp; Mainstream</td>\n      <td>Versace</td>\n      <td>Capri Holdings</td>\n      <td>United States of America</td>\n      <td>Capri Holdings</td>\n      <td>New York Stock Exchange</td>\n      <td>Metric Value</td>\n      <td>24289963.0</td>\n      <td>54.0</td>\n      <td>2.0</td>\n      <td>13358.0</td>\n      <td>3189144.0</td>\n    </tr>\n    <tr>\n      <th>2016-05-14</th>\n      <td>Weekly</td>\n      <td>Luxury &amp; Premium &amp; Mainstream</td>\n      <td>Soft Luxury</td>\n      <td>Versace</td>\n      <td>Capri Holdings</td>\n      <td>United States of America</td>\n      <td>Capri Holdings</td>\n      <td>New York Stock Exchange</td>\n      <td>Metric Value</td>\n      <td>7137442.0</td>\n      <td>42.0</td>\n      <td>8.0</td>\n      <td>15894.0</td>\n      <td>2152955.0</td>\n    </tr>\n    <tr>\n      <th>2019-04-20</th>\n      <td>Weekly</td>\n      <td>Luxury &amp; Premium &amp; Mainstream</td>\n      <td>Luxury &amp; Premium &amp; Mainstream</td>\n      <td>Versace</td>\n      <td>Capri Holdings</td>\n      <td>United States of America</td>\n      <td>Capri Holdings</td>\n      <td>New York Stock Exchange</td>\n      <td>Metric Value</td>\n      <td>18901125.0</td>\n      <td>73.0</td>\n      <td>9.0</td>\n      <td>26762.0</td>\n      <td>5224916.0</td>\n    </tr>\n    <tr>\n      <th>2023-03-25</th>\n      <td>Weekly</td>\n      <td>Luxury &amp; Premium &amp; Mainstream</td>\n      <td>US Softlines Analyst Interest List</td>\n      <td>Versace</td>\n      <td>Capri Holdings</td>\n      <td>United States of America</td>\n      <td>Capri Holdings</td>\n      <td>New York Stock Exchange</td>\n      <td>Metric Value</td>\n      <td>30251374.0</td>\n      <td>54.0</td>\n      <td>10.0</td>\n      <td>25681.0</td>\n      <td>5760987.0</td>\n    </tr>\n    <tr>\n      <th>...</th>\n      <td>...</td>\n      <td>...</td>\n      <td>...</td>\n      <td>...</td>\n      <td>...</td>\n      <td>...</td>\n      <td>...</td>\n      <td>...</td>\n      <td>...</td>\n      <td>...</td>\n      <td>...</td>\n      <td>...</td>\n      <td>...</td>\n      <td>...</td>\n    </tr>\n    <tr>\n      <th>2020-03-21</th>\n      <td>Weekly</td>\n      <td>Outdoor Gear</td>\n      <td>Outdoor Gear</td>\n      <td>Klean Kanteen</td>\n      <td>Klean Kanteen Inc</td>\n      <td>NaN</td>\n      <td>Klean Kanteen Inc</td>\n      <td>NaN</td>\n      <td>Metric Value</td>\n      <td>242415.0</td>\n      <td>173.0</td>\n      <td>4.0</td>\n      <td>1847.0</td>\n      <td>27145.0</td>\n    </tr>\n    <tr>\n      <th>2018-10-27</th>\n      <td>Weekly</td>\n      <td>Outdoor Gear</td>\n      <td>Outdoor Gear</td>\n      <td>Klean Kanteen</td>\n      <td>Klean Kanteen Inc</td>\n      <td>NaN</td>\n      <td>Klean Kanteen Inc</td>\n      <td>NaN</td>\n      <td>Metric Value</td>\n      <td>163873.0</td>\n      <td>125.0</td>\n      <td>2.0</td>\n      <td>1764.0</td>\n      <td>34188.0</td>\n    </tr>\n    <tr>\n      <th>2023-08-05</th>\n      <td>Weekly</td>\n      <td>Outdoor Gear</td>\n      <td>Outdoor Gear</td>\n      <td>Klean Kanteen</td>\n      <td>Klean Kanteen Inc</td>\n      <td>NaN</td>\n      <td>Klean Kanteen Inc</td>\n      <td>NaN</td>\n      <td>Metric Value</td>\n      <td>319485.0</td>\n      <td>118.0</td>\n      <td>35.0</td>\n      <td>1697.0</td>\n      <td>6328.0</td>\n    </tr>\n    <tr>\n      <th>2019-11-02</th>\n      <td>Weekly</td>\n      <td>Outdoor Gear</td>\n      <td>Outdoor Gear</td>\n      <td>Klean Kanteen</td>\n      <td>Klean Kanteen Inc</td>\n      <td>NaN</td>\n      <td>Klean Kanteen Inc</td>\n      <td>NaN</td>\n      <td>Metric Value</td>\n      <td>228699.0</td>\n      <td>129.0</td>\n      <td>2.0</td>\n      <td>1972.0</td>\n      <td>29174.0</td>\n    </tr>\n    <tr>\n      <th>2023-02-25</th>\n      <td>Weekly</td>\n      <td>Outdoor Gear</td>\n      <td>Outdoor Gear</td>\n      <td>Klean Kanteen</td>\n      <td>Klean Kanteen Inc</td>\n      <td>NaN</td>\n      <td>Klean Kanteen Inc</td>\n      <td>NaN</td>\n      <td>Metric Value</td>\n      <td>310895.0</td>\n      <td>128.0</td>\n      <td>33.0</td>\n      <td>2606.0</td>\n      <td>10960.0</td>\n    </tr>\n  </tbody>\n</table>\n<p>579258 rows × 14 columns</p>\n</div>"
     },
     "execution_count": 87,
     "metadata": {},
     "output_type": "execute_result"
    }
   ],
   "source": [
    "data"
   ],
   "metadata": {
    "collapsed": false,
    "ExecuteTime": {
     "end_time": "2024-04-27T14:48:39.656254600Z",
     "start_time": "2024-04-27T14:48:39.636780Z"
    }
   },
   "id": "980b0669175b87"
  },
  {
   "cell_type": "markdown",
   "source": [
    "# Load the public companies data"
   ],
   "metadata": {
    "collapsed": false
   },
   "id": "329b3707d2479fd0"
  },
  {
   "cell_type": "code",
   "execution_count": 88,
   "outputs": [],
   "source": [
    "file_path = 'public-companies.csv'\n",
    "companies = pd.read_csv(file_path, delimiter=',')"
   ],
   "metadata": {
    "collapsed": false,
    "ExecuteTime": {
     "end_time": "2024-04-27T14:48:39.671451100Z",
     "start_time": "2024-04-27T14:48:39.658601700Z"
    }
   },
   "id": "8ebc2746f73c76ab"
  },
  {
   "cell_type": "code",
   "execution_count": 89,
   "outputs": [
    {
     "data": {
      "text/plain": "                        Company Name    Ticker\n0                     Capri Holdings      CPRI\n1    Restaurant Brands International       QSR\n2                              Pepsi       PEP\n3                     Monster Energy      MNST\n4                            Aritzia     ATZAF\n..                               ...       ...\n202                      HanesBrands       HBI\n203                     Lojas Renner  LREN3.SA\n204                  Dr. Martens Plc    DOCS.L\n205                      Yum! Brands       YUM\n206                      Mizuno Corp    8022.T\n\n[207 rows x 2 columns]",
      "text/html": "<div>\n<style scoped>\n    .dataframe tbody tr th:only-of-type {\n        vertical-align: middle;\n    }\n\n    .dataframe tbody tr th {\n        vertical-align: top;\n    }\n\n    .dataframe thead th {\n        text-align: right;\n    }\n</style>\n<table border=\"1\" class=\"dataframe\">\n  <thead>\n    <tr style=\"text-align: right;\">\n      <th></th>\n      <th>Company Name</th>\n      <th>Ticker</th>\n    </tr>\n  </thead>\n  <tbody>\n    <tr>\n      <th>0</th>\n      <td>Capri Holdings</td>\n      <td>CPRI</td>\n    </tr>\n    <tr>\n      <th>1</th>\n      <td>Restaurant Brands International</td>\n      <td>QSR</td>\n    </tr>\n    <tr>\n      <th>2</th>\n      <td>Pepsi</td>\n      <td>PEP</td>\n    </tr>\n    <tr>\n      <th>3</th>\n      <td>Monster Energy</td>\n      <td>MNST</td>\n    </tr>\n    <tr>\n      <th>4</th>\n      <td>Aritzia</td>\n      <td>ATZAF</td>\n    </tr>\n    <tr>\n      <th>...</th>\n      <td>...</td>\n      <td>...</td>\n    </tr>\n    <tr>\n      <th>202</th>\n      <td>HanesBrands</td>\n      <td>HBI</td>\n    </tr>\n    <tr>\n      <th>203</th>\n      <td>Lojas Renner</td>\n      <td>LREN3.SA</td>\n    </tr>\n    <tr>\n      <th>204</th>\n      <td>Dr. Martens Plc</td>\n      <td>DOCS.L</td>\n    </tr>\n    <tr>\n      <th>205</th>\n      <td>Yum! Brands</td>\n      <td>YUM</td>\n    </tr>\n    <tr>\n      <th>206</th>\n      <td>Mizuno Corp</td>\n      <td>8022.T</td>\n    </tr>\n  </tbody>\n</table>\n<p>207 rows × 2 columns</p>\n</div>"
     },
     "execution_count": 89,
     "metadata": {},
     "output_type": "execute_result"
    }
   ],
   "source": [
    "companies"
   ],
   "metadata": {
    "collapsed": false,
    "ExecuteTime": {
     "end_time": "2024-04-27T14:48:39.764886700Z",
     "start_time": "2024-04-27T14:48:39.671451100Z"
    }
   },
   "id": "f3305a2953eae034"
  },
  {
   "cell_type": "markdown",
   "source": [
    "# Merge the data"
   ],
   "metadata": {
    "collapsed": false
   },
   "id": "781c6d5721313833"
  },
  {
   "cell_type": "code",
   "execution_count": 90,
   "outputs": [],
   "source": [
    "data = data.reset_index() \n",
    "public_companies = pd.merge(companies, data, left_on='Company Name', right_on='legal_entity_name')\n",
    "public_companies = public_companies.drop(columns=\"Company Name\")\n",
    "public_companies = public_companies.rename(columns={\"Ticker\": \"ticker\"})"
   ],
   "metadata": {
    "collapsed": false,
    "ExecuteTime": {
     "end_time": "2024-04-27T14:48:40.078245400Z",
     "start_time": "2024-04-27T14:48:39.685449700Z"
    }
   },
   "id": "2fadaaad8a696d43"
  },
  {
   "cell_type": "code",
   "execution_count": 91,
   "outputs": [
    {
     "name": "stdout",
     "output_type": "stream",
     "text": [
      "<class 'pandas.core.frame.DataFrame'>\n",
      "RangeIndex: 367113 entries, 0 to 367112\n",
      "Data columns (total 16 columns):\n",
      " #   Column                                  Non-Null Count   Dtype         \n",
      "---  ------                                  --------------   -----         \n",
      " 0   ticker                                  367113 non-null  object        \n",
      " 1   period_end_date                         367113 non-null  datetime64[ns]\n",
      " 2   period                                  367113 non-null  object        \n",
      " 3   compset_group                           367113 non-null  object        \n",
      " 4   compset                                 367113 non-null  object        \n",
      " 5   business_entity_doing_business_as_name  367113 non-null  object        \n",
      " 6   legal_entity_name                       367113 non-null  object        \n",
      " 7   domicile_country_name                   356228 non-null  object        \n",
      " 8   ultimate_parent_legal_entity_name       367113 non-null  object        \n",
      " 9   primary_exchange_name                   356228 non-null  object        \n",
      " 10  calculation_type                        367113 non-null  object        \n",
      " 11  followers                               367113 non-null  float64       \n",
      " 12  pictures                                367113 non-null  float64       \n",
      " 13  videos                                  367113 non-null  float64       \n",
      " 14  comments                                360727 non-null  float64       \n",
      " 15  likes                                   367113 non-null  float64       \n",
      "dtypes: datetime64[ns](1), float64(5), object(10)\n",
      "memory usage: 44.8+ MB\n"
     ]
    }
   ],
   "source": [
    "public_companies.info()"
   ],
   "metadata": {
    "collapsed": false,
    "ExecuteTime": {
     "end_time": "2024-04-27T14:48:40.226787900Z",
     "start_time": "2024-04-27T14:48:40.080474Z"
    }
   },
   "id": "80a07119a193301"
  },
  {
   "cell_type": "markdown",
   "source": [
    "# Load and Merge Yahoo Finance Data"
   ],
   "metadata": {
    "collapsed": false
   },
   "id": "ca4a2ee812187b12"
  },
  {
   "cell_type": "code",
   "execution_count": 92,
   "outputs": [
    {
     "data": {
      "text/plain": "                            Date         Open         High          Low  \\\n0      2015-01-01 00:00:00-05:00    74.320000    74.320000    65.120003   \n1      2015-01-08 00:00:00-05:00    69.099998    70.529999    65.099998   \n2      2015-01-15 00:00:00-05:00    67.360001    69.199997    65.419998   \n3      2015-01-22 00:00:00-05:00    68.779999    71.370003    68.000000   \n4      2015-01-29 00:00:00-05:00    72.470001    73.000000    69.680000   \n...                          ...          ...          ...          ...   \n65759  2023-08-14 00:00:00+09:00  4211.702139  4476.157854  4187.215498   \n65760  2023-08-21 00:00:00+09:00  4348.827535  4627.975248  4290.059595   \n65761  2023-08-28 00:00:00+09:00  4539.823195  4618.180446  4441.876632   \n65762  2023-09-04 00:00:00+09:00  4593.693818  4676.948397  4407.595348   \n65763  2023-09-11 00:00:00+09:00  4451.671453  4676.948556  4324.340916   \n\n             Close    Volume  Dividends  Stock Splits  ticker  Capital Gains  \n0        68.709999  28971500        0.0           0.0    CPRI            NaN  \n1        66.519997  17120300        0.0           0.0    CPRI            NaN  \n2        68.500000  13004200        0.0           0.0    CPRI            NaN  \n3        69.989998  13725800        0.0           0.0    CPRI            NaN  \n4        71.379997  18057400        0.0           0.0    CPRI            NaN  \n...            ...       ...        ...           ...     ...            ...  \n65759  4373.313965   1171800        0.0           0.0  8022.T            NaN  \n65760  4471.260742    901500        0.0           0.0  8022.T            NaN  \n65761  4574.104492    466100        0.0           0.0  8022.T            NaN  \n65762  4412.492676    455100        0.0           0.0  8022.T            NaN  \n65763  4652.461914    691700        0.0           0.0  8022.T            NaN  \n\n[65764 rows x 10 columns]",
      "text/html": "<div>\n<style scoped>\n    .dataframe tbody tr th:only-of-type {\n        vertical-align: middle;\n    }\n\n    .dataframe tbody tr th {\n        vertical-align: top;\n    }\n\n    .dataframe thead th {\n        text-align: right;\n    }\n</style>\n<table border=\"1\" class=\"dataframe\">\n  <thead>\n    <tr style=\"text-align: right;\">\n      <th></th>\n      <th>Date</th>\n      <th>Open</th>\n      <th>High</th>\n      <th>Low</th>\n      <th>Close</th>\n      <th>Volume</th>\n      <th>Dividends</th>\n      <th>Stock Splits</th>\n      <th>ticker</th>\n      <th>Capital Gains</th>\n    </tr>\n  </thead>\n  <tbody>\n    <tr>\n      <th>0</th>\n      <td>2015-01-01 00:00:00-05:00</td>\n      <td>74.320000</td>\n      <td>74.320000</td>\n      <td>65.120003</td>\n      <td>68.709999</td>\n      <td>28971500</td>\n      <td>0.0</td>\n      <td>0.0</td>\n      <td>CPRI</td>\n      <td>NaN</td>\n    </tr>\n    <tr>\n      <th>1</th>\n      <td>2015-01-08 00:00:00-05:00</td>\n      <td>69.099998</td>\n      <td>70.529999</td>\n      <td>65.099998</td>\n      <td>66.519997</td>\n      <td>17120300</td>\n      <td>0.0</td>\n      <td>0.0</td>\n      <td>CPRI</td>\n      <td>NaN</td>\n    </tr>\n    <tr>\n      <th>2</th>\n      <td>2015-01-15 00:00:00-05:00</td>\n      <td>67.360001</td>\n      <td>69.199997</td>\n      <td>65.419998</td>\n      <td>68.500000</td>\n      <td>13004200</td>\n      <td>0.0</td>\n      <td>0.0</td>\n      <td>CPRI</td>\n      <td>NaN</td>\n    </tr>\n    <tr>\n      <th>3</th>\n      <td>2015-01-22 00:00:00-05:00</td>\n      <td>68.779999</td>\n      <td>71.370003</td>\n      <td>68.000000</td>\n      <td>69.989998</td>\n      <td>13725800</td>\n      <td>0.0</td>\n      <td>0.0</td>\n      <td>CPRI</td>\n      <td>NaN</td>\n    </tr>\n    <tr>\n      <th>4</th>\n      <td>2015-01-29 00:00:00-05:00</td>\n      <td>72.470001</td>\n      <td>73.000000</td>\n      <td>69.680000</td>\n      <td>71.379997</td>\n      <td>18057400</td>\n      <td>0.0</td>\n      <td>0.0</td>\n      <td>CPRI</td>\n      <td>NaN</td>\n    </tr>\n    <tr>\n      <th>...</th>\n      <td>...</td>\n      <td>...</td>\n      <td>...</td>\n      <td>...</td>\n      <td>...</td>\n      <td>...</td>\n      <td>...</td>\n      <td>...</td>\n      <td>...</td>\n      <td>...</td>\n    </tr>\n    <tr>\n      <th>65759</th>\n      <td>2023-08-14 00:00:00+09:00</td>\n      <td>4211.702139</td>\n      <td>4476.157854</td>\n      <td>4187.215498</td>\n      <td>4373.313965</td>\n      <td>1171800</td>\n      <td>0.0</td>\n      <td>0.0</td>\n      <td>8022.T</td>\n      <td>NaN</td>\n    </tr>\n    <tr>\n      <th>65760</th>\n      <td>2023-08-21 00:00:00+09:00</td>\n      <td>4348.827535</td>\n      <td>4627.975248</td>\n      <td>4290.059595</td>\n      <td>4471.260742</td>\n      <td>901500</td>\n      <td>0.0</td>\n      <td>0.0</td>\n      <td>8022.T</td>\n      <td>NaN</td>\n    </tr>\n    <tr>\n      <th>65761</th>\n      <td>2023-08-28 00:00:00+09:00</td>\n      <td>4539.823195</td>\n      <td>4618.180446</td>\n      <td>4441.876632</td>\n      <td>4574.104492</td>\n      <td>466100</td>\n      <td>0.0</td>\n      <td>0.0</td>\n      <td>8022.T</td>\n      <td>NaN</td>\n    </tr>\n    <tr>\n      <th>65762</th>\n      <td>2023-09-04 00:00:00+09:00</td>\n      <td>4593.693818</td>\n      <td>4676.948397</td>\n      <td>4407.595348</td>\n      <td>4412.492676</td>\n      <td>455100</td>\n      <td>0.0</td>\n      <td>0.0</td>\n      <td>8022.T</td>\n      <td>NaN</td>\n    </tr>\n    <tr>\n      <th>65763</th>\n      <td>2023-09-11 00:00:00+09:00</td>\n      <td>4451.671453</td>\n      <td>4676.948556</td>\n      <td>4324.340916</td>\n      <td>4652.461914</td>\n      <td>691700</td>\n      <td>0.0</td>\n      <td>0.0</td>\n      <td>8022.T</td>\n      <td>NaN</td>\n    </tr>\n  </tbody>\n</table>\n<p>65764 rows × 10 columns</p>\n</div>"
     },
     "execution_count": 92,
     "metadata": {},
     "output_type": "execute_result"
    }
   ],
   "source": [
    "import yfinance as yf\n",
    "\n",
    "# Function to fetch data from Yahoo Finance\n",
    "def fetch_yahoo_finance_data(ticker, start_date, end_date):\n",
    "    stock = yf.Ticker(ticker)\n",
    "    # Fetch historical data within the specified date range and interval\n",
    "    hist = stock.history(start=start_date, end=end_date, interval=\"1wk\")\n",
    "    hist.reset_index(inplace=True)\n",
    "    hist[\"ticker\"] = ticker  # Add a column to identify the ticker\n",
    "    return hist\n",
    "\n",
    "tickers = public_companies[\"ticker\"].unique()\n",
    "\n",
    "finance_data = []\n",
    "\n",
    "for ticker in tickers:\n",
    "    dates_of_interest = public_companies[public_companies[\"ticker\"]==ticker][\"period_end_date\"]\n",
    "    yahoo_data = fetch_yahoo_finance_data(ticker, min(dates_of_interest), max(dates_of_interest))\n",
    "    finance_data.append(yahoo_data)\n",
    "\n",
    "# Concatenate all dataframes into a single dataframe\n",
    "finance_data = pd.concat(finance_data, ignore_index=True)\n",
    "\n",
    "finance_data"
   ],
   "metadata": {
    "collapsed": false,
    "ExecuteTime": {
     "end_time": "2024-04-27T14:49:12.657549700Z",
     "start_time": "2024-04-27T14:48:40.240306300Z"
    }
   },
   "id": "b23e96d35ac0eef3"
  },
  {
   "cell_type": "code",
   "execution_count": 93,
   "outputs": [
    {
     "data": {
      "text/plain": "Timestamp('2015-01-03 00:00:00')"
     },
     "execution_count": 93,
     "metadata": {},
     "output_type": "execute_result"
    }
   ],
   "source": [
    "\n",
    "min(public_companies[public_companies[\"ticker\"]==\"CPRI\"][\"period_end_date\"])"
   ],
   "metadata": {
    "collapsed": false,
    "ExecuteTime": {
     "end_time": "2024-04-27T14:49:12.751631800Z",
     "start_time": "2024-04-27T14:49:12.657549700Z"
    }
   },
   "id": "99e0c4acad38bd0c"
  },
  {
   "cell_type": "code",
   "execution_count": 96,
   "outputs": [],
   "source": [
    "finance_data.to_csv(\"finance_data.csv\", index=False)"
   ],
   "metadata": {
    "collapsed": false,
    "ExecuteTime": {
     "end_time": "2024-04-27T14:54:19.988576500Z",
     "start_time": "2024-04-27T14:54:19.072390100Z"
    }
   },
   "id": "e50a20062730d3c6"
  },
  {
   "cell_type": "code",
   "execution_count": 95,
   "outputs": [],
   "source": [],
   "metadata": {
    "collapsed": false,
    "ExecuteTime": {
     "end_time": "2024-04-27T14:49:16.530812800Z",
     "start_time": "2024-04-27T14:49:16.512803500Z"
    }
   },
   "id": "c79ecfbd98e50208"
  }
 ],
 "metadata": {
  "kernelspec": {
   "display_name": "Python 3",
   "language": "python",
   "name": "python3"
  },
  "language_info": {
   "codemirror_mode": {
    "name": "ipython",
    "version": 2
   },
   "file_extension": ".py",
   "mimetype": "text/x-python",
   "name": "python",
   "nbconvert_exporter": "python",
   "pygments_lexer": "ipython2",
   "version": "2.7.6"
  }
 },
 "nbformat": 4,
 "nbformat_minor": 5
}
