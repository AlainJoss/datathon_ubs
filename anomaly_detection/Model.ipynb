{
 "cells": [
  {
   "cell_type": "markdown",
   "id": "a0be101c",
   "metadata": {},
   "source": [
    "<h1 style=\"color:DarkRed;\">UBS Challenge 4ML: Model</h1>"
   ]
  },
  {
   "cell_type": "code",
   "execution_count": 12,
   "id": "e6d33396",
   "metadata": {
    "ExecuteTime": {
     "end_time": "2024-04-28T09:05:11.011551700Z",
     "start_time": "2024-04-28T09:05:10.920580400Z"
    }
   },
   "outputs": [],
   "source": [
    "import pandas as pd\n",
    "from sklearn.ensemble import IsolationForest\n",
    "from sklearn.preprocessing import StandardScaler\n",
    "import matplotlib.pyplot as plt\n",
    "from collections import Counter\n",
    "import torch\n",
    "import torch.nn as nn\n",
    "from torch.utils.data import DataLoader, TensorDataset\n",
    "from torch.optim import Adam\n",
    "import numpy as np"
   ]
  },
  {
   "cell_type": "code",
   "execution_count": 13,
   "id": "14ba2ada",
   "metadata": {
    "ExecuteTime": {
     "end_time": "2024-04-28T09:05:11.202763500Z",
     "start_time": "2024-04-28T09:05:10.929617100Z"
    }
   },
   "outputs": [],
   "source": [
    "df = pd.read_csv(\"../processed.csv\")"
   ]
  },
  {
   "cell_type": "markdown",
   "id": "c65970b6",
   "metadata": {},
   "source": [
    "We will start with a simple machine learning method and then advancing to more complex deep learning models makes sense for anomaly detection in an unsupervised setting. We'll begin with the Isolation Forest algorithm (does not require the data to have any specific distribution neither further assumprions).\n",
    "\n",
    "- For the feature Selection: We'll use rate of change features such as \"likes_per_content_weekly_change\", \"followers_weekly_change\", and \"comments_per_likes_weekly_change\" as these reflect relative changes over time and are comparable across different entities."
   ]
  },
  {
   "cell_type": "code",
   "execution_count": 14,
   "id": "d35f2f05",
   "metadata": {
    "ExecuteTime": {
     "end_time": "2024-04-28T09:05:11.202763500Z",
     "start_time": "2024-04-28T09:05:11.090895900Z"
    }
   },
   "outputs": [],
   "source": [
    "features = [\n",
    "    \"likes_per_content_weekly_change\", \n",
    "    \"followers_weekly_change\", \n",
    "    \"comments_per_likes_weekly_change\",\n",
    "    \"comments_per_likes_ma_2\",\n",
    "    \"comments_per_likes_ma_3\",\n",
    "    \"change_followers_ma_3\",\n",
    "    \"comments_per_likes_ma_5\",\n",
    "    \"change_followers_ma_5\"\n",
    "]\n"
   ]
  },
  {
   "cell_type": "code",
   "execution_count": 15,
   "id": "9c739100",
   "metadata": {
    "ExecuteTime": {
     "end_time": "2024-04-28T09:05:11.202763500Z",
     "start_time": "2024-04-28T09:05:11.094793300Z"
    }
   },
   "outputs": [
    {
     "name": "stderr",
     "output_type": "stream",
     "text": [
      "C:\\Users\\JJ\\AppData\\Local\\Temp\\ipykernel_18832\\2035501673.py:2: FutureWarning: A value is trying to be set on a copy of a DataFrame or Series through chained assignment using an inplace method.\n",
      "The behavior will change in pandas 3.0. This inplace method will never work because the intermediate object on which we are setting values always behaves as a copy.\n",
      "\n",
      "For example, when doing 'df[col].method(value, inplace=True)', try using 'df.method({col: value}, inplace=True)' or df[col] = df[col].method(value) instead, to perform the operation inplace on the original object.\n",
      "\n",
      "\n",
      "  df['comments_per_likes_weekly_change'].replace([float('inf'), float('-inf')], 0, inplace=True)\n"
     ]
    }
   ],
   "source": [
    "# We can assume no change\n",
    "df['comments_per_likes_weekly_change'].replace([float('inf'), float('-inf')], 0, inplace=True)"
   ]
  },
  {
   "cell_type": "markdown",
   "id": "7cc3b367",
   "metadata": {},
   "source": [
    "### Autoencoder"
   ]
  },
  {
   "cell_type": "code",
   "execution_count": 16,
   "id": "04572c10",
   "metadata": {
    "ExecuteTime": {
     "end_time": "2024-04-28T09:05:11.202763500Z",
     "start_time": "2024-04-28T09:05:11.126493600Z"
    }
   },
   "outputs": [],
   "source": [
    "# Let´s start with an Autoencoder"
   ]
  },
  {
   "cell_type": "code",
   "execution_count": 17,
   "id": "2185893f",
   "metadata": {
    "ExecuteTime": {
     "end_time": "2024-04-28T09:05:11.202763500Z",
     "start_time": "2024-04-28T09:05:11.131986600Z"
    }
   },
   "outputs": [],
   "source": [
    "class SimpleAutoencoder(nn.Module):\n",
    "    def __init__(self, input_size):\n",
    "        super(SimpleAutoencoder, self).__init__()\n",
    "        self.encoder = nn.Sequential(\n",
    "            nn.Linear(input_size, 32),\n",
    "            nn.ReLU(True),\n",
    "            nn.Linear(32, 16),  \n",
    "        )\n",
    "        self.decoder = nn.Sequential(\n",
    "            nn.Linear(16, 32),\n",
    "            nn.ReLU(True),\n",
    "            nn.Linear(32, input_size),\n",
    "            nn.Sigmoid(),  \n",
    "        )\n",
    "\n",
    "    def forward(self, x):\n",
    "        x = self.encoder(x)\n",
    "        x = self.decoder(x)\n",
    "        return x\n",
    "\n"
   ]
  },
  {
   "cell_type": "code",
   "execution_count": 18,
   "id": "9bb6a02f",
   "metadata": {
    "ExecuteTime": {
     "end_time": "2024-04-28T09:05:11.202763500Z",
     "start_time": "2024-04-28T09:05:11.150312900Z"
    }
   },
   "outputs": [],
   "source": [
    "features = [\n",
    "    'likes_per_content_weekly_change',\n",
    "    'followers_weekly_change',\n",
    "    'comments_per_likes_weekly_change',\n",
    "    'comments_per_likes_ma_2',\n",
    "    'comments_per_likes_ma_3',\n",
    "    'change_followers_ma_3',\n",
    "    'comments_per_likes_ma_5',\n",
    "    'change_followers_ma_5'\n",
    "]\n",
    "\n",
    "data_tensor = torch.tensor(df[features].values.astype(np.float32))\n",
    "\n",
    "dataset = TensorDataset(data_tensor, data_tensor)\n",
    "dataloader = DataLoader(dataset, batch_size=32, shuffle=True)"
   ]
  },
  {
   "cell_type": "code",
   "execution_count": 19,
   "id": "fe10280b",
   "metadata": {
    "ExecuteTime": {
     "end_time": "2024-04-28T09:05:11.202763500Z",
     "start_time": "2024-04-28T09:05:11.156918100Z"
    }
   },
   "outputs": [],
   "source": [
    "model = SimpleAutoencoder(input_size=len(features))\n",
    "criterion = nn.MSELoss()\n",
    "optimizer = Adam(model.parameters(), lr=1e-6)\n",
    "\n",
    "num_epochs = 30"
   ]
  },
  {
   "cell_type": "code",
   "execution_count": 20,
   "id": "6bcd8019",
   "metadata": {
    "ExecuteTime": {
     "end_time": "2024-04-28T09:05:52.827964400Z",
     "start_time": "2024-04-28T09:05:11.171110700Z"
    }
   },
   "outputs": [
    {
     "name": "stdout",
     "output_type": "stream",
     "text": [
      "Epoch [1/30], Loss: 71.5278\n",
      "Epoch [2/30], Loss: 565.9390\n",
      "Epoch [3/30], Loss: 50.8334\n",
      "Epoch [4/30], Loss: 79.0865\n",
      "Epoch [5/30], Loss: 251.3141\n",
      "Epoch [6/30], Loss: 159.7114\n",
      "Epoch [7/30], Loss: 384.7322\n",
      "Epoch [8/30], Loss: 118.9860\n",
      "Epoch [9/30], Loss: 274.0675\n",
      "Epoch [10/30], Loss: 529.8152\n",
      "Epoch [11/30], Loss: 515.5925\n",
      "Epoch [12/30], Loss: 112.5311\n",
      "Epoch [13/30], Loss: 76.5704\n",
      "Epoch [14/30], Loss: 186.2516\n",
      "Epoch [15/30], Loss: 70.9919\n",
      "Epoch [16/30], Loss: 106.1724\n",
      "Epoch [17/30], Loss: 115.6929\n",
      "Epoch [18/30], Loss: 385.9139\n",
      "Epoch [19/30], Loss: 110.6106\n",
      "Epoch [20/30], Loss: 104.4592\n",
      "Epoch [21/30], Loss: 28.8483\n",
      "Epoch [22/30], Loss: 159.4747\n",
      "Epoch [23/30], Loss: 156.2186\n",
      "Epoch [24/30], Loss: 118.5340\n",
      "Epoch [25/30], Loss: 3636.8516\n",
      "Epoch [26/30], Loss: 473.3210\n",
      "Epoch [27/30], Loss: 50.2081\n",
      "Epoch [28/30], Loss: 976.7182\n",
      "Epoch [29/30], Loss: 96.9131\n",
      "Epoch [30/30], Loss: 2187.0176\n",
      "Anomalies detected: 1515\n"
     ]
    }
   ],
   "source": [
    "for epoch in range(num_epochs):\n",
    "    model.train() \n",
    "    for inputs, _ in dataloader:\n",
    "        inputs = inputs.to(torch.float32)\n",
    "        optimizer.zero_grad()\n",
    "        outputs = model(inputs)\n",
    "        loss = criterion(outputs, inputs)\n",
    "        loss.backward()\n",
    "        optimizer.step()\n",
    "    print(f'Epoch [{epoch+1}/{num_epochs}], Loss: {loss.item():.4f}')\n",
    "\n",
    "\n",
    "model.eval() \n",
    "reconstruction_errors = []\n",
    "\n",
    "for inputs, _ in dataloader:\n",
    "    inputs = inputs.to(torch.float32)\n",
    "    with torch.no_grad():\n",
    "        outputs = model(inputs)\n",
    "        sample_losses = ((inputs - outputs) ** 2).mean(dim=1)\n",
    "        reconstruction_errors.extend(sample_losses.cpu().numpy())\n",
    "\n",
    "\n",
    "reconstruction_errors = np.array(reconstruction_errors)\n",
    "\n",
    "\n",
    "error_threshold = np.percentile(reconstruction_errors, 95)\n",
    "\n",
    "anomalies_indices = np.where(reconstruction_errors > error_threshold)[0]\n",
    "\n",
    "anomalies_autoencoder = df.iloc[anomalies_indices]\n",
    "\n",
    "print(f'Anomalies detected: {len(anomalies_indices)}')\n"
   ]
  },
  {
   "cell_type": "markdown",
   "id": "bee7c8d2",
   "metadata": {},
   "source": [
    "The results does not look good in terms of converence. Probably the dataset is not the most suitable for this type of anomaly detection. However, let´s look which variables influenciate the most:"
   ]
  },
  {
   "cell_type": "code",
   "execution_count": 21,
   "id": "41a9e46a",
   "metadata": {
    "ExecuteTime": {
     "end_time": "2024-04-28T09:05:55.911814500Z",
     "start_time": "2024-04-28T09:05:52.835245300Z"
    }
   },
   "outputs": [
    {
     "name": "stderr",
     "output_type": "stream",
     "text": [
      "C:\\Users\\JJ\\AppData\\Local\\Temp\\ipykernel_18832\\4076661949.py:28: SettingWithCopyWarning: \n",
      "A value is trying to be set on a copy of a slice from a DataFrame.\n",
      "Try using .loc[row_indexer,col_indexer] = value instead\n",
      "\n",
      "See the caveats in the documentation: https://pandas.pydata.org/pandas-docs/stable/user_guide/indexing.html#returning-a-view-versus-a-copy\n",
      "  anomalies_autoencoder[\"Relevant Features\"] = anomalies_data\n"
     ]
    }
   ],
   "source": [
    "model.eval()\n",
    "detailed_errors = []\n",
    "\n",
    "for inputs, _ in dataloader:\n",
    "    inputs = inputs.to(torch.float32)\n",
    "    with torch.no_grad():\n",
    "        outputs = model(inputs)\n",
    "        \n",
    "        batch_errors = (inputs - outputs) ** 2\n",
    "        detailed_errors.append(batch_errors)\n",
    "\n",
    "\n",
    "detailed_errors = torch.cat(detailed_errors, dim=0)\n",
    "\n",
    "anomalies_data = []\n",
    "\n",
    "for index in anomalies_indices:\n",
    "    instance = df[features].iloc[index]\n",
    "    error = detailed_errors[index] \n",
    "    \n",
    "    high_error_features_indices = np.where(error > 0.95)[0] \n",
    "    high_error_features = df[features].columns[high_error_features_indices].tolist()\n",
    "    \n",
    "    anomalies_data.append(', '.join(high_error_features)\n",
    "    )\n",
    "\n",
    "\n",
    "anomalies_autoencoder[\"Relevant Features\"] = anomalies_data\n"
   ]
  },
  {
   "cell_type": "code",
   "execution_count": 22,
   "id": "0545b18b",
   "metadata": {
    "ExecuteTime": {
     "end_time": "2024-04-28T09:05:55.925475500Z",
     "start_time": "2024-04-28T09:05:55.911814500Z"
    }
   },
   "outputs": [
    {
     "data": {
      "text/plain": "1        likes_per_content_weekly_change, comments_per_...\n2        likes_per_content_weekly_change, comments_per_...\n48       likes_per_content_weekly_change, comments_per_...\n57       likes_per_content_weekly_change, comments_per_...\n89       likes_per_content_weekly_change, comments_per_...\n                               ...                        \n30193    likes_per_content_weekly_change, comments_per_...\n30196    likes_per_content_weekly_change, comments_per_...\n30201    likes_per_content_weekly_change, comments_per_...\n30211                     comments_per_likes_weekly_change\n30233    likes_per_content_weekly_change, comments_per_...\nName: Relevant Features, Length: 1515, dtype: object"
     },
     "execution_count": 22,
     "metadata": {},
     "output_type": "execute_result"
    }
   ],
   "source": [
    "anomalies_autoencoder[\"Relevant Features\"]"
   ]
  },
  {
   "cell_type": "code",
   "execution_count": 23,
   "id": "9680f5dc",
   "metadata": {
    "ExecuteTime": {
     "end_time": "2024-04-28T09:05:55.973487400Z",
     "start_time": "2024-04-28T09:05:55.925475500Z"
    }
   },
   "outputs": [
    {
     "name": "stdout",
     "output_type": "stream",
     "text": [
      "likes_per_content_weekly_change: 1381\n",
      "comments_per_likes_weekly_change: 1400\n",
      "followers_weekly_change: 65\n",
      "change_followers_ma_3: 68\n",
      "change_followers_ma_5: 61\n",
      ": 17\n",
      "comments_per_likes_ma_2: 3\n",
      "comments_per_likes_ma_3: 3\n",
      "comments_per_likes_ma_5: 1\n"
     ]
    }
   ],
   "source": [
    "# Let´s analyse the results:\n",
    "\n",
    "all_features = ', '.join(anomalies_autoencoder['Relevant Features'])\n",
    "\n",
    "feature_list = all_features.split(', ')\n",
    "\n",
    "feature_counts = Counter(feature_list)\n",
    "\n",
    "for feature, count in feature_counts.items():\n",
    "    print(f\"{feature}: {count}\")\n"
   ]
  },
  {
   "cell_type": "markdown",
   "id": "bc6a6a0b",
   "metadata": {},
   "source": [
    "#### We can see that comments_per_likes_weekly_change and likes_per_content_weekly_change where the ones that possible \"generated\" the anomalies\n"
   ]
  },
  {
   "cell_type": "markdown",
   "id": "78339f4e",
   "metadata": {},
   "source": [
    "After some empirical validation of the results, we can see (again) that autoencoder is not the best choice. Let´s try something simpler"
   ]
  },
  {
   "cell_type": "code",
   "execution_count": 24,
   "id": "a73fd643",
   "metadata": {
    "ExecuteTime": {
     "end_time": "2024-04-28T09:05:55.987344200Z",
     "start_time": "2024-04-28T09:05:55.947136300Z"
    }
   },
   "outputs": [],
   "source": [
    "# Feature scaling\n",
    "scaler = StandardScaler()\n",
    "df_scaled = scaler.fit_transform(df[features])"
   ]
  },
  {
   "cell_type": "code",
   "execution_count": 25,
   "id": "92bd7132",
   "metadata": {
    "ExecuteTime": {
     "end_time": "2024-04-28T09:05:56.321404200Z",
     "start_time": "2024-04-28T09:05:55.983220700Z"
    }
   },
   "outputs": [
    {
     "data": {
      "text/plain": "IsolationForest(contamination=0.01, random_state=42)",
      "text/html": "<style>#sk-container-id-1 {\n  /* Definition of color scheme common for light and dark mode */\n  --sklearn-color-text: black;\n  --sklearn-color-line: gray;\n  /* Definition of color scheme for unfitted estimators */\n  --sklearn-color-unfitted-level-0: #fff5e6;\n  --sklearn-color-unfitted-level-1: #f6e4d2;\n  --sklearn-color-unfitted-level-2: #ffe0b3;\n  --sklearn-color-unfitted-level-3: chocolate;\n  /* Definition of color scheme for fitted estimators */\n  --sklearn-color-fitted-level-0: #f0f8ff;\n  --sklearn-color-fitted-level-1: #d4ebff;\n  --sklearn-color-fitted-level-2: #b3dbfd;\n  --sklearn-color-fitted-level-3: cornflowerblue;\n\n  /* Specific color for light theme */\n  --sklearn-color-text-on-default-background: var(--sg-text-color, var(--theme-code-foreground, var(--jp-content-font-color1, black)));\n  --sklearn-color-background: var(--sg-background-color, var(--theme-background, var(--jp-layout-color0, white)));\n  --sklearn-color-border-box: var(--sg-text-color, var(--theme-code-foreground, var(--jp-content-font-color1, black)));\n  --sklearn-color-icon: #696969;\n\n  @media (prefers-color-scheme: dark) {\n    /* Redefinition of color scheme for dark theme */\n    --sklearn-color-text-on-default-background: var(--sg-text-color, var(--theme-code-foreground, var(--jp-content-font-color1, white)));\n    --sklearn-color-background: var(--sg-background-color, var(--theme-background, var(--jp-layout-color0, #111)));\n    --sklearn-color-border-box: var(--sg-text-color, var(--theme-code-foreground, var(--jp-content-font-color1, white)));\n    --sklearn-color-icon: #878787;\n  }\n}\n\n#sk-container-id-1 {\n  color: var(--sklearn-color-text);\n}\n\n#sk-container-id-1 pre {\n  padding: 0;\n}\n\n#sk-container-id-1 input.sk-hidden--visually {\n  border: 0;\n  clip: rect(1px 1px 1px 1px);\n  clip: rect(1px, 1px, 1px, 1px);\n  height: 1px;\n  margin: -1px;\n  overflow: hidden;\n  padding: 0;\n  position: absolute;\n  width: 1px;\n}\n\n#sk-container-id-1 div.sk-dashed-wrapped {\n  border: 1px dashed var(--sklearn-color-line);\n  margin: 0 0.4em 0.5em 0.4em;\n  box-sizing: border-box;\n  padding-bottom: 0.4em;\n  background-color: var(--sklearn-color-background);\n}\n\n#sk-container-id-1 div.sk-container {\n  /* jupyter's `normalize.less` sets `[hidden] { display: none; }`\n     but bootstrap.min.css set `[hidden] { display: none !important; }`\n     so we also need the `!important` here to be able to override the\n     default hidden behavior on the sphinx rendered scikit-learn.org.\n     See: https://github.com/scikit-learn/scikit-learn/issues/21755 */\n  display: inline-block !important;\n  position: relative;\n}\n\n#sk-container-id-1 div.sk-text-repr-fallback {\n  display: none;\n}\n\ndiv.sk-parallel-item,\ndiv.sk-serial,\ndiv.sk-item {\n  /* draw centered vertical line to link estimators */\n  background-image: linear-gradient(var(--sklearn-color-text-on-default-background), var(--sklearn-color-text-on-default-background));\n  background-size: 2px 100%;\n  background-repeat: no-repeat;\n  background-position: center center;\n}\n\n/* Parallel-specific style estimator block */\n\n#sk-container-id-1 div.sk-parallel-item::after {\n  content: \"\";\n  width: 100%;\n  border-bottom: 2px solid var(--sklearn-color-text-on-default-background);\n  flex-grow: 1;\n}\n\n#sk-container-id-1 div.sk-parallel {\n  display: flex;\n  align-items: stretch;\n  justify-content: center;\n  background-color: var(--sklearn-color-background);\n  position: relative;\n}\n\n#sk-container-id-1 div.sk-parallel-item {\n  display: flex;\n  flex-direction: column;\n}\n\n#sk-container-id-1 div.sk-parallel-item:first-child::after {\n  align-self: flex-end;\n  width: 50%;\n}\n\n#sk-container-id-1 div.sk-parallel-item:last-child::after {\n  align-self: flex-start;\n  width: 50%;\n}\n\n#sk-container-id-1 div.sk-parallel-item:only-child::after {\n  width: 0;\n}\n\n/* Serial-specific style estimator block */\n\n#sk-container-id-1 div.sk-serial {\n  display: flex;\n  flex-direction: column;\n  align-items: center;\n  background-color: var(--sklearn-color-background);\n  padding-right: 1em;\n  padding-left: 1em;\n}\n\n\n/* Toggleable style: style used for estimator/Pipeline/ColumnTransformer box that is\nclickable and can be expanded/collapsed.\n- Pipeline and ColumnTransformer use this feature and define the default style\n- Estimators will overwrite some part of the style using the `sk-estimator` class\n*/\n\n/* Pipeline and ColumnTransformer style (default) */\n\n#sk-container-id-1 div.sk-toggleable {\n  /* Default theme specific background. It is overwritten whether we have a\n  specific estimator or a Pipeline/ColumnTransformer */\n  background-color: var(--sklearn-color-background);\n}\n\n/* Toggleable label */\n#sk-container-id-1 label.sk-toggleable__label {\n  cursor: pointer;\n  display: block;\n  width: 100%;\n  margin-bottom: 0;\n  padding: 0.5em;\n  box-sizing: border-box;\n  text-align: center;\n}\n\n#sk-container-id-1 label.sk-toggleable__label-arrow:before {\n  /* Arrow on the left of the label */\n  content: \"▸\";\n  float: left;\n  margin-right: 0.25em;\n  color: var(--sklearn-color-icon);\n}\n\n#sk-container-id-1 label.sk-toggleable__label-arrow:hover:before {\n  color: var(--sklearn-color-text);\n}\n\n/* Toggleable content - dropdown */\n\n#sk-container-id-1 div.sk-toggleable__content {\n  max-height: 0;\n  max-width: 0;\n  overflow: hidden;\n  text-align: left;\n  /* unfitted */\n  background-color: var(--sklearn-color-unfitted-level-0);\n}\n\n#sk-container-id-1 div.sk-toggleable__content.fitted {\n  /* fitted */\n  background-color: var(--sklearn-color-fitted-level-0);\n}\n\n#sk-container-id-1 div.sk-toggleable__content pre {\n  margin: 0.2em;\n  border-radius: 0.25em;\n  color: var(--sklearn-color-text);\n  /* unfitted */\n  background-color: var(--sklearn-color-unfitted-level-0);\n}\n\n#sk-container-id-1 div.sk-toggleable__content.fitted pre {\n  /* unfitted */\n  background-color: var(--sklearn-color-fitted-level-0);\n}\n\n#sk-container-id-1 input.sk-toggleable__control:checked~div.sk-toggleable__content {\n  /* Expand drop-down */\n  max-height: 200px;\n  max-width: 100%;\n  overflow: auto;\n}\n\n#sk-container-id-1 input.sk-toggleable__control:checked~label.sk-toggleable__label-arrow:before {\n  content: \"▾\";\n}\n\n/* Pipeline/ColumnTransformer-specific style */\n\n#sk-container-id-1 div.sk-label input.sk-toggleable__control:checked~label.sk-toggleable__label {\n  color: var(--sklearn-color-text);\n  background-color: var(--sklearn-color-unfitted-level-2);\n}\n\n#sk-container-id-1 div.sk-label.fitted input.sk-toggleable__control:checked~label.sk-toggleable__label {\n  background-color: var(--sklearn-color-fitted-level-2);\n}\n\n/* Estimator-specific style */\n\n/* Colorize estimator box */\n#sk-container-id-1 div.sk-estimator input.sk-toggleable__control:checked~label.sk-toggleable__label {\n  /* unfitted */\n  background-color: var(--sklearn-color-unfitted-level-2);\n}\n\n#sk-container-id-1 div.sk-estimator.fitted input.sk-toggleable__control:checked~label.sk-toggleable__label {\n  /* fitted */\n  background-color: var(--sklearn-color-fitted-level-2);\n}\n\n#sk-container-id-1 div.sk-label label.sk-toggleable__label,\n#sk-container-id-1 div.sk-label label {\n  /* The background is the default theme color */\n  color: var(--sklearn-color-text-on-default-background);\n}\n\n/* On hover, darken the color of the background */\n#sk-container-id-1 div.sk-label:hover label.sk-toggleable__label {\n  color: var(--sklearn-color-text);\n  background-color: var(--sklearn-color-unfitted-level-2);\n}\n\n/* Label box, darken color on hover, fitted */\n#sk-container-id-1 div.sk-label.fitted:hover label.sk-toggleable__label.fitted {\n  color: var(--sklearn-color-text);\n  background-color: var(--sklearn-color-fitted-level-2);\n}\n\n/* Estimator label */\n\n#sk-container-id-1 div.sk-label label {\n  font-family: monospace;\n  font-weight: bold;\n  display: inline-block;\n  line-height: 1.2em;\n}\n\n#sk-container-id-1 div.sk-label-container {\n  text-align: center;\n}\n\n/* Estimator-specific */\n#sk-container-id-1 div.sk-estimator {\n  font-family: monospace;\n  border: 1px dotted var(--sklearn-color-border-box);\n  border-radius: 0.25em;\n  box-sizing: border-box;\n  margin-bottom: 0.5em;\n  /* unfitted */\n  background-color: var(--sklearn-color-unfitted-level-0);\n}\n\n#sk-container-id-1 div.sk-estimator.fitted {\n  /* fitted */\n  background-color: var(--sklearn-color-fitted-level-0);\n}\n\n/* on hover */\n#sk-container-id-1 div.sk-estimator:hover {\n  /* unfitted */\n  background-color: var(--sklearn-color-unfitted-level-2);\n}\n\n#sk-container-id-1 div.sk-estimator.fitted:hover {\n  /* fitted */\n  background-color: var(--sklearn-color-fitted-level-2);\n}\n\n/* Specification for estimator info (e.g. \"i\" and \"?\") */\n\n/* Common style for \"i\" and \"?\" */\n\n.sk-estimator-doc-link,\na:link.sk-estimator-doc-link,\na:visited.sk-estimator-doc-link {\n  float: right;\n  font-size: smaller;\n  line-height: 1em;\n  font-family: monospace;\n  background-color: var(--sklearn-color-background);\n  border-radius: 1em;\n  height: 1em;\n  width: 1em;\n  text-decoration: none !important;\n  margin-left: 1ex;\n  /* unfitted */\n  border: var(--sklearn-color-unfitted-level-1) 1pt solid;\n  color: var(--sklearn-color-unfitted-level-1);\n}\n\n.sk-estimator-doc-link.fitted,\na:link.sk-estimator-doc-link.fitted,\na:visited.sk-estimator-doc-link.fitted {\n  /* fitted */\n  border: var(--sklearn-color-fitted-level-1) 1pt solid;\n  color: var(--sklearn-color-fitted-level-1);\n}\n\n/* On hover */\ndiv.sk-estimator:hover .sk-estimator-doc-link:hover,\n.sk-estimator-doc-link:hover,\ndiv.sk-label-container:hover .sk-estimator-doc-link:hover,\n.sk-estimator-doc-link:hover {\n  /* unfitted */\n  background-color: var(--sklearn-color-unfitted-level-3);\n  color: var(--sklearn-color-background);\n  text-decoration: none;\n}\n\ndiv.sk-estimator.fitted:hover .sk-estimator-doc-link.fitted:hover,\n.sk-estimator-doc-link.fitted:hover,\ndiv.sk-label-container:hover .sk-estimator-doc-link.fitted:hover,\n.sk-estimator-doc-link.fitted:hover {\n  /* fitted */\n  background-color: var(--sklearn-color-fitted-level-3);\n  color: var(--sklearn-color-background);\n  text-decoration: none;\n}\n\n/* Span, style for the box shown on hovering the info icon */\n.sk-estimator-doc-link span {\n  display: none;\n  z-index: 9999;\n  position: relative;\n  font-weight: normal;\n  right: .2ex;\n  padding: .5ex;\n  margin: .5ex;\n  width: min-content;\n  min-width: 20ex;\n  max-width: 50ex;\n  color: var(--sklearn-color-text);\n  box-shadow: 2pt 2pt 4pt #999;\n  /* unfitted */\n  background: var(--sklearn-color-unfitted-level-0);\n  border: .5pt solid var(--sklearn-color-unfitted-level-3);\n}\n\n.sk-estimator-doc-link.fitted span {\n  /* fitted */\n  background: var(--sklearn-color-fitted-level-0);\n  border: var(--sklearn-color-fitted-level-3);\n}\n\n.sk-estimator-doc-link:hover span {\n  display: block;\n}\n\n/* \"?\"-specific style due to the `<a>` HTML tag */\n\n#sk-container-id-1 a.estimator_doc_link {\n  float: right;\n  font-size: 1rem;\n  line-height: 1em;\n  font-family: monospace;\n  background-color: var(--sklearn-color-background);\n  border-radius: 1rem;\n  height: 1rem;\n  width: 1rem;\n  text-decoration: none;\n  /* unfitted */\n  color: var(--sklearn-color-unfitted-level-1);\n  border: var(--sklearn-color-unfitted-level-1) 1pt solid;\n}\n\n#sk-container-id-1 a.estimator_doc_link.fitted {\n  /* fitted */\n  border: var(--sklearn-color-fitted-level-1) 1pt solid;\n  color: var(--sklearn-color-fitted-level-1);\n}\n\n/* On hover */\n#sk-container-id-1 a.estimator_doc_link:hover {\n  /* unfitted */\n  background-color: var(--sklearn-color-unfitted-level-3);\n  color: var(--sklearn-color-background);\n  text-decoration: none;\n}\n\n#sk-container-id-1 a.estimator_doc_link.fitted:hover {\n  /* fitted */\n  background-color: var(--sklearn-color-fitted-level-3);\n}\n</style><div id=\"sk-container-id-1\" class=\"sk-top-container\"><div class=\"sk-text-repr-fallback\"><pre>IsolationForest(contamination=0.01, random_state=42)</pre><b>In a Jupyter environment, please rerun this cell to show the HTML representation or trust the notebook. <br />On GitHub, the HTML representation is unable to render, please try loading this page with nbviewer.org.</b></div><div class=\"sk-container\" hidden><div class=\"sk-item\"><div class=\"sk-estimator fitted sk-toggleable\"><input class=\"sk-toggleable__control sk-hidden--visually\" id=\"sk-estimator-id-1\" type=\"checkbox\" checked><label for=\"sk-estimator-id-1\" class=\"sk-toggleable__label fitted sk-toggleable__label-arrow fitted\">&nbsp;&nbsp;IsolationForest<a class=\"sk-estimator-doc-link fitted\" rel=\"noreferrer\" target=\"_blank\" href=\"https://scikit-learn.org/1.4/modules/generated/sklearn.ensemble.IsolationForest.html\">?<span>Documentation for IsolationForest</span></a><span class=\"sk-estimator-doc-link fitted\">i<span>Fitted</span></span></label><div class=\"sk-toggleable__content fitted\"><pre>IsolationForest(contamination=0.01, random_state=42)</pre></div> </div></div></div></div>"
     },
     "execution_count": 25,
     "metadata": {},
     "output_type": "execute_result"
    }
   ],
   "source": [
    "iso_forest = IsolationForest(n_estimators=100, contamination=0.01, random_state=42)\n",
    "iso_forest.fit(df_scaled)"
   ]
  },
  {
   "cell_type": "code",
   "execution_count": 26,
   "id": "c1a5c43c",
   "metadata": {
    "ExecuteTime": {
     "end_time": "2024-04-28T09:05:56.863833700Z",
     "start_time": "2024-04-28T09:05:56.316920600Z"
    }
   },
   "outputs": [
    {
     "data": {
      "text/plain": "<Figure size 640x480 with 1 Axes>",
      "image/png": "[encoded data removed]"
     },
     "metadata": {},
     "output_type": "display_data"
    }
   ],
   "source": [
    "df['anomaly_iso_forest'] = iso_forest.predict(df_scaled)\n",
    "df['anomaly_score'] = iso_forest.decision_function(df_scaled)\n",
    "\n",
    "plt.hist(df['anomaly_score'], bins=50)\n",
    "plt.xlabel('Anomaly Score')\n",
    "plt.ylabel('Number of Observations')\n",
    "plt.title('Distribution of Anomaly Scores')\n",
    "plt.show()"
   ]
  },
  {
   "cell_type": "markdown",
   "id": "1d853ccd",
   "metadata": {},
   "source": [
    "The x-axis indicates the range of anomaly scores. Scores close to 0 indicate less anomalous data points, while those moving away from 0 (towards -0.2 and 0.3) indicate more anomalous data points."
   ]
  },
  {
   "cell_type": "code",
   "execution_count": 27,
   "id": "32b7a623",
   "metadata": {
    "ExecuteTime": {
     "end_time": "2024-04-28T09:05:56.879270400Z",
     "start_time": "2024-04-28T09:05:56.863833700Z"
    }
   },
   "outputs": [],
   "source": [
    "anomalies_iso_forest = df[df['anomaly_iso_forest'] == -1]"
   ]
  },
  {
   "cell_type": "code",
   "execution_count": 28,
   "id": "7f021a85",
   "metadata": {
    "ExecuteTime": {
     "end_time": "2024-04-28T09:05:56.960787Z",
     "start_time": "2024-04-28T09:05:56.881665900Z"
    }
   },
   "outputs": [
    {
     "data": {
      "text/plain": "       Unnamed: 0 legal_entity        date  followers  pictures  videos  \\\n12             12       AbbVie  2021-11-20     9187.0       4.0     0.0   \n1949         1949   Beiersdorf  2016-07-23     9168.0       9.0     1.0   \n1950         1950   Beiersdorf  2016-07-30     9917.0      10.0     2.0   \n1951         1951   Beiersdorf  2016-08-06    10677.0       9.0     1.0   \n1952         1952   Beiersdorf  2016-08-13    11167.0       6.0     2.0   \n...           ...          ...         ...        ...       ...     ...   \n30284       30284  iRobot Corp  2023-08-12   307626.0      90.0    58.0   \n30285       30285  iRobot Corp  2023-08-19   307679.0      90.0    59.0   \n30286       30286  iRobot Corp  2023-08-26   307842.0      96.0    74.0   \n30287       30287  iRobot Corp  2023-09-02   307980.0      94.0    71.0   \n30288       30288  iRobot Corp  2023-09-09   308043.0      89.0    90.0   \n\n       comments   likes       close  content  ...  change_followers_ma_2  \\\n12          0.0   228.0  107.903076      4.0  ...               5.553877   \n1949       76.0  4030.0   77.994331     10.0  ...               6.069415   \n1950      109.0  5116.0   79.965179     12.0  ...               7.374793   \n1951       93.0  4441.0   79.220207     10.0  ...               7.916664   \n1952       84.0  3883.0   79.342796      8.0  ...               6.126456   \n...         ...     ...         ...      ...  ...                    ...   \n30284    3994.0  2264.0   39.110001    148.0  ...               0.009430   \n30285    2989.0  2124.0   38.770000    149.0  ...               0.023409   \n30286    3092.0  2903.0   36.340000    170.0  ...               0.035103   \n30287    3038.0  2574.0   35.099998    165.0  ...               0.048903   \n30288    3044.0  2805.0   37.299999    179.0  ...               0.032642   \n\n       Close_price_weekly_change_ma_2  comments_per_likes_ma_3  \\\n12                           1.120340                 0.000000   \n1949                        -0.910379                 0.022538   \n1950                         0.501464                 0.020999   \n1951                         0.797646                 0.020368   \n1952                        -0.388438                 0.021293   \n...                               ...                      ...   \n30284                        1.887084                 1.842369   \n30285                        2.459566                 1.662296   \n30286                       -3.568538                 1.412163   \n30287                       -4.839978                 1.217540   \n30288                        1.427793                 1.110191   \n\n       change_followers_ma_3  Close_price_weekly_change_ma_3  \\\n12                  4.577813                        0.538866   \n1949                5.825835                       -0.535544   \n1950                6.769517                        0.235385   \n1951                7.471065                        0.023769   \n1952                6.807544                        0.583345   \n...                      ...                             ...   \n30284               0.011381                        0.131296   \n30285               0.012030                        0.968275   \n30286               0.033265                       -0.449534   \n30287               0.038345                       -3.516433   \n30288               0.039420                       -1.137382   \n\n       comments_per_likes_ma_5  change_followers_ma_5  \\\n12                    0.000000               3.864647   \n1949                  0.025072               6.140940   \n1950                  0.023310               6.478969   \n1951                  0.021972               6.662167   \n1952                  0.021114               6.512292   \n...                        ...                    ...   \n30284                 1.782597               0.016654   \n30285                 1.781647               0.018928   \n30286                 1.599893               0.020870   \n30287                 1.446451               0.026779   \n30288                 1.300392               0.033016   \n\n       Close_price_weekly_change_ma_5  anomaly_iso_forest  anomaly_score  \n12                           0.725255                  -1      -0.002253  \n1949                        -0.439669                  -1      -0.010010  \n1950                         0.082272                  -1      -0.016080  \n1951                        -0.002268                  -1      -0.011292  \n1952                        -0.014144                  -1      -0.005920  \n...                               ...                 ...            ...  \n30284                       -3.493341                  -1      -0.057105  \n30285                       -0.347936                  -1      -0.070575  \n30286                       -1.348638                  -1      -0.064426  \n30287                       -1.355026                  -1      -0.059263  \n30288                        0.301397                  -1      -0.046276  \n\n[303 rows x 27 columns]",
      "text/html": "<div>\n<style scoped>\n    .dataframe tbody tr th:only-of-type {\n        vertical-align: middle;\n    }\n\n    .dataframe tbody tr th {\n        vertical-align: top;\n    }\n\n    .dataframe thead th {\n        text-align: right;\n    }\n</style>\n<table border=\"1\" class=\"dataframe\">\n  <thead>\n    <tr style=\"text-align: right;\">\n      <th></th>\n      <th>Unnamed: 0</th>\n      <th>legal_entity</th>\n      <th>date</th>\n      <th>followers</th>\n      <th>pictures</th>\n      <th>videos</th>\n      <th>comments</th>\n      <th>likes</th>\n      <th>close</th>\n      <th>content</th>\n      <th>...</th>\n      <th>change_followers_ma_2</th>\n      <th>Close_price_weekly_change_ma_2</th>\n      <th>comments_per_likes_ma_3</th>\n      <th>change_followers_ma_3</th>\n      <th>Close_price_weekly_change_ma_3</th>\n      <th>comments_per_likes_ma_5</th>\n      <th>change_followers_ma_5</th>\n      <th>Close_price_weekly_change_ma_5</th>\n      <th>anomaly_iso_forest</th>\n      <th>anomaly_score</th>\n    </tr>\n  </thead>\n  <tbody>\n    <tr>\n      <th>12</th>\n      <td>12</td>\n      <td>AbbVie</td>\n      <td>2021-11-20</td>\n      <td>9187.0</td>\n      <td>4.0</td>\n      <td>0.0</td>\n      <td>0.0</td>\n      <td>228.0</td>\n      <td>107.903076</td>\n      <td>4.0</td>\n      <td>...</td>\n      <td>5.553877</td>\n      <td>1.120340</td>\n      <td>0.000000</td>\n      <td>4.577813</td>\n      <td>0.538866</td>\n      <td>0.000000</td>\n      <td>3.864647</td>\n      <td>0.725255</td>\n      <td>-1</td>\n      <td>-0.002253</td>\n    </tr>\n    <tr>\n      <th>1949</th>\n      <td>1949</td>\n      <td>Beiersdorf</td>\n      <td>2016-07-23</td>\n      <td>9168.0</td>\n      <td>9.0</td>\n      <td>1.0</td>\n      <td>76.0</td>\n      <td>4030.0</td>\n      <td>77.994331</td>\n      <td>10.0</td>\n      <td>...</td>\n      <td>6.069415</td>\n      <td>-0.910379</td>\n      <td>0.022538</td>\n      <td>5.825835</td>\n      <td>-0.535544</td>\n      <td>0.025072</td>\n      <td>6.140940</td>\n      <td>-0.439669</td>\n      <td>-1</td>\n      <td>-0.010010</td>\n    </tr>\n    <tr>\n      <th>1950</th>\n      <td>1950</td>\n      <td>Beiersdorf</td>\n      <td>2016-07-30</td>\n      <td>9917.0</td>\n      <td>10.0</td>\n      <td>2.0</td>\n      <td>109.0</td>\n      <td>5116.0</td>\n      <td>79.965179</td>\n      <td>12.0</td>\n      <td>...</td>\n      <td>7.374793</td>\n      <td>0.501464</td>\n      <td>0.020999</td>\n      <td>6.769517</td>\n      <td>0.235385</td>\n      <td>0.023310</td>\n      <td>6.478969</td>\n      <td>0.082272</td>\n      <td>-1</td>\n      <td>-0.016080</td>\n    </tr>\n    <tr>\n      <th>1951</th>\n      <td>1951</td>\n      <td>Beiersdorf</td>\n      <td>2016-08-06</td>\n      <td>10677.0</td>\n      <td>9.0</td>\n      <td>1.0</td>\n      <td>93.0</td>\n      <td>4441.0</td>\n      <td>79.220207</td>\n      <td>10.0</td>\n      <td>...</td>\n      <td>7.916664</td>\n      <td>0.797646</td>\n      <td>0.020368</td>\n      <td>7.471065</td>\n      <td>0.023769</td>\n      <td>0.021972</td>\n      <td>6.662167</td>\n      <td>-0.002268</td>\n      <td>-1</td>\n      <td>-0.011292</td>\n    </tr>\n    <tr>\n      <th>1952</th>\n      <td>1952</td>\n      <td>Beiersdorf</td>\n      <td>2016-08-13</td>\n      <td>11167.0</td>\n      <td>6.0</td>\n      <td>2.0</td>\n      <td>84.0</td>\n      <td>3883.0</td>\n      <td>79.342796</td>\n      <td>8.0</td>\n      <td>...</td>\n      <td>6.126456</td>\n      <td>-0.388438</td>\n      <td>0.021293</td>\n      <td>6.807544</td>\n      <td>0.583345</td>\n      <td>0.021114</td>\n      <td>6.512292</td>\n      <td>-0.014144</td>\n      <td>-1</td>\n      <td>-0.005920</td>\n    </tr>\n    <tr>\n      <th>...</th>\n      <td>...</td>\n      <td>...</td>\n      <td>...</td>\n      <td>...</td>\n      <td>...</td>\n      <td>...</td>\n      <td>...</td>\n      <td>...</td>\n      <td>...</td>\n      <td>...</td>\n      <td>...</td>\n      <td>...</td>\n      <td>...</td>\n      <td>...</td>\n      <td>...</td>\n      <td>...</td>\n      <td>...</td>\n      <td>...</td>\n      <td>...</td>\n      <td>...</td>\n      <td>...</td>\n    </tr>\n    <tr>\n      <th>30284</th>\n      <td>30284</td>\n      <td>iRobot Corp</td>\n      <td>2023-08-12</td>\n      <td>307626.0</td>\n      <td>90.0</td>\n      <td>58.0</td>\n      <td>3994.0</td>\n      <td>2264.0</td>\n      <td>39.110001</td>\n      <td>148.0</td>\n      <td>...</td>\n      <td>0.009430</td>\n      <td>1.887084</td>\n      <td>1.842369</td>\n      <td>0.011381</td>\n      <td>0.131296</td>\n      <td>1.782597</td>\n      <td>0.016654</td>\n      <td>-3.493341</td>\n      <td>-1</td>\n      <td>-0.057105</td>\n    </tr>\n    <tr>\n      <th>30285</th>\n      <td>30285</td>\n      <td>iRobot Corp</td>\n      <td>2023-08-19</td>\n      <td>307679.0</td>\n      <td>90.0</td>\n      <td>59.0</td>\n      <td>2989.0</td>\n      <td>2124.0</td>\n      <td>38.770000</td>\n      <td>149.0</td>\n      <td>...</td>\n      <td>0.023409</td>\n      <td>2.459566</td>\n      <td>1.662296</td>\n      <td>0.012030</td>\n      <td>0.968275</td>\n      <td>1.781647</td>\n      <td>0.018928</td>\n      <td>-0.347936</td>\n      <td>-1</td>\n      <td>-0.070575</td>\n    </tr>\n    <tr>\n      <th>30286</th>\n      <td>30286</td>\n      <td>iRobot Corp</td>\n      <td>2023-08-26</td>\n      <td>307842.0</td>\n      <td>96.0</td>\n      <td>74.0</td>\n      <td>3092.0</td>\n      <td>2903.0</td>\n      <td>36.340000</td>\n      <td>170.0</td>\n      <td>...</td>\n      <td>0.035103</td>\n      <td>-3.568538</td>\n      <td>1.412163</td>\n      <td>0.033265</td>\n      <td>-0.449534</td>\n      <td>1.599893</td>\n      <td>0.020870</td>\n      <td>-1.348638</td>\n      <td>-1</td>\n      <td>-0.064426</td>\n    </tr>\n    <tr>\n      <th>30287</th>\n      <td>30287</td>\n      <td>iRobot Corp</td>\n      <td>2023-09-02</td>\n      <td>307980.0</td>\n      <td>94.0</td>\n      <td>71.0</td>\n      <td>3038.0</td>\n      <td>2574.0</td>\n      <td>35.099998</td>\n      <td>165.0</td>\n      <td>...</td>\n      <td>0.048903</td>\n      <td>-4.839978</td>\n      <td>1.217540</td>\n      <td>0.038345</td>\n      <td>-3.516433</td>\n      <td>1.446451</td>\n      <td>0.026779</td>\n      <td>-1.355026</td>\n      <td>-1</td>\n      <td>-0.059263</td>\n    </tr>\n    <tr>\n      <th>30288</th>\n      <td>30288</td>\n      <td>iRobot Corp</td>\n      <td>2023-09-09</td>\n      <td>308043.0</td>\n      <td>89.0</td>\n      <td>90.0</td>\n      <td>3044.0</td>\n      <td>2805.0</td>\n      <td>37.299999</td>\n      <td>179.0</td>\n      <td>...</td>\n      <td>0.032642</td>\n      <td>1.427793</td>\n      <td>1.110191</td>\n      <td>0.039420</td>\n      <td>-1.137382</td>\n      <td>1.300392</td>\n      <td>0.033016</td>\n      <td>0.301397</td>\n      <td>-1</td>\n      <td>-0.046276</td>\n    </tr>\n  </tbody>\n</table>\n<p>303 rows × 27 columns</p>\n</div>"
     },
     "execution_count": 28,
     "metadata": {},
     "output_type": "execute_result"
    }
   ],
   "source": [
    "anomalies_iso_forest"
   ]
  },
  {
   "cell_type": "markdown",
   "id": "79888360",
   "metadata": {},
   "source": [
    "Let´s see if, according to this model, the anomalies have some implications on the financial results of the underlying stock"
   ]
  },
  {
   "cell_type": "markdown",
   "id": "d8af4c6a",
   "metadata": {},
   "source": [
    "For us, is important to understand why the model decides when an observation is an anomally or not. Let´s do some statistical analysis (assuming the data is normally distributed), computing confidence intervals and assuming that, when a column is outside the confidence interval, could be one of the reasons why the model decided the observation was classified as an anomaly:"
   ]
  },
  {
   "cell_type": "code",
   "execution_count": 29,
   "id": "55fca402",
   "metadata": {
    "ExecuteTime": {
     "end_time": "2024-04-28T09:05:56.960787Z",
     "start_time": "2024-04-28T09:05:56.917932200Z"
    }
   },
   "outputs": [
    {
     "name": "stdout",
     "output_type": "stream",
     "text": [
      "Anomaly at index 12:\n",
      "Feature followers_weekly_change with value 6.90016290435187 is outside the typical range of (-1.8395283385556915, 2.706959280882657).\n",
      "Feature change_followers_ma_3 with value 4.577812654493877 is outside the typical range of (-1.3006478511772894, 2.178664210512727).\n",
      "Feature change_followers_ma_5 with value 3.864647184445529 is outside the typical range of (-1.205327433146739, 2.0934304515462863).\n",
      "\n",
      "\n",
      "Anomaly at index 1949:\n",
      "Feature followers_weekly_change with value 6.579865147640085 is outside the typical range of (-1.8395283385556915, 2.706959280882657).\n",
      "Feature change_followers_ma_3 with value 5.82583525208263 is outside the typical range of (-1.3006478511772894, 2.178664210512727).\n",
      "Feature change_followers_ma_5 with value 6.140940460982898 is outside the typical range of (-1.205327433146739, 2.0934304515462863).\n",
      "\n",
      "\n",
      "Anomaly at index 1950:\n",
      "Feature followers_weekly_change with value 8.169720767888311 is outside the typical range of (-1.8395283385556915, 2.706959280882657).\n",
      "Feature change_followers_ma_3 with value 6.769516735208447 is outside the typical range of (-1.3006478511772894, 2.178664210512727).\n",
      "Feature change_followers_ma_5 with value 6.478969245768317 is outside the typical range of (-1.205327433146739, 2.0934304515462863).\n",
      "\n"
     ]
    }
   ],
   "source": [
    "for index, anomaly in anomalies_iso_forest.iloc[:3,:].iterrows():\n",
    "    print(f\"Anomaly at index {index}:\")\n",
    "    for feature in features:\n",
    "        value = anomaly[feature]\n",
    "        typical_range = (df[feature].mean() - 2 * df[feature].std(), df[feature].mean() + 2 * df[feature].std())\n",
    "        if not (typical_range[0] <= value <= typical_range[1]):\n",
    "            print(f\"Feature {feature} with value {value} is outside the typical range of {typical_range}.\")\n",
    "            \n",
    "    print(\"\\n\")\n"
   ]
  },
  {
   "cell_type": "code",
   "execution_count": 30,
   "id": "5c2156d8",
   "metadata": {
    "ExecuteTime": {
     "end_time": "2024-04-28T09:05:56.961810800Z",
     "start_time": "2024-04-28T09:05:56.940410700Z"
    }
   },
   "outputs": [],
   "source": [
    "# Now, let´s define a function to store this results:"
   ]
  },
  {
   "cell_type": "code",
   "execution_count": 31,
   "id": "7ec75139",
   "metadata": {
    "ExecuteTime": {
     "end_time": "2024-04-28T09:05:58.669896200Z",
     "start_time": "2024-04-28T09:05:56.947196900Z"
    }
   },
   "outputs": [
    {
     "name": "stderr",
     "output_type": "stream",
     "text": [
      "C:\\Users\\JJ\\AppData\\Local\\Temp\\ipykernel_18832\\31888562.py:10: SettingWithCopyWarning: \n",
      "A value is trying to be set on a copy of a slice from a DataFrame.\n",
      "Try using .loc[row_indexer,col_indexer] = value instead\n",
      "\n",
      "See the caveats in the documentation: https://pandas.pydata.org/pandas-docs/stable/user_guide/indexing.html#returning-a-view-versus-a-copy\n",
      "  anomalies_iso_forest['outlier_features'] = anomalies_iso_forest.apply(find_outliers, axis=1, features=features, df=df)\n"
     ]
    }
   ],
   "source": [
    "def find_outliers(row, features, df):\n",
    "    outlier_features = []\n",
    "    for feature in features:\n",
    "        value = row[feature]\n",
    "        typical_range = (df[feature].mean() - 2 * df[feature].std(), df[feature].mean() + 2 * df[feature].std())\n",
    "        if not (typical_range[0] <= value <= typical_range[1]):\n",
    "            outlier_features.append(feature)\n",
    "    return ', '.join(outlier_features)\n",
    "\n",
    "anomalies_iso_forest['outlier_features'] = anomalies_iso_forest.apply(find_outliers, axis=1, features=features, df=df)\n"
   ]
  },
  {
   "cell_type": "code",
   "execution_count": 32,
   "id": "da953aac",
   "metadata": {
    "ExecuteTime": {
     "end_time": "2024-04-28T09:05:58.682463800Z",
     "start_time": "2024-04-28T09:05:58.669896200Z"
    }
   },
   "outputs": [
    {
     "data": {
      "text/plain": "'followers_weekly_change, change_followers_ma_3, change_followers_ma_5'"
     },
     "execution_count": 32,
     "metadata": {},
     "output_type": "execute_result"
    }
   ],
   "source": [
    "# Let´s look to an example\n",
    "anomalies_iso_forest.loc[12,'outlier_features']"
   ]
  },
  {
   "cell_type": "markdown",
   "id": "04819cfb",
   "metadata": {},
   "source": [
    "Let´s make an analysis of how those variables impact on the decisions and let´s use the findings into a investing strategy"
   ]
  },
  {
   "cell_type": "code",
   "execution_count": 33,
   "id": "d57f709a",
   "metadata": {
    "ExecuteTime": {
     "end_time": "2024-04-28T09:05:58.738798Z",
     "start_time": "2024-04-28T09:05:58.683692400Z"
    }
   },
   "outputs": [
    {
     "name": "stdout",
     "output_type": "stream",
     "text": [
      "followers_weekly_change: 86\n",
      "change_followers_ma_3: 96\n",
      "change_followers_ma_5: 94\n",
      "comments_per_likes_ma_2: 220\n",
      "comments_per_likes_ma_3: 218\n",
      "comments_per_likes_ma_5: 210\n",
      "comments_per_likes_weekly_change: 41\n",
      "likes_per_content_weekly_change: 9\n",
      ": 2\n"
     ]
    }
   ],
   "source": [
    "\n",
    "all_features = ', '.join(anomalies_iso_forest['outlier_features'])\n",
    "\n",
    "feature_list = all_features.split(', ')\n",
    "\n",
    "feature_counts = Counter(feature_list)\n",
    "\n",
    "for feature, count in feature_counts.items():\n",
    "    print(f\"{feature}: {count}\")\n"
   ]
  },
  {
   "cell_type": "markdown",
   "id": "76d7de5b",
   "metadata": {},
   "source": [
    "It is interesting to see that the MA comments per likes are the most important ones. Also, followers_weekly_change keeps its importance\n",
    "\n"
   ]
  },
  {
   "cell_type": "markdown",
   "id": "8c57b410",
   "metadata": {},
   "source": [
    "Now, let´s transform this insights into value. What would we expect?\n",
    "\n",
    "- If followers decreases significantly: probably a \"scandal\" happened on the company, thus the stock price will go down. \n",
    "- If comments_per_likes_weekly_change goes up: We assume that could be due to \"negative\" comments. We would expect the stock going down. An increase, may suggest a possitive engagment, but probably it will not be reflected on our financial data application.\n",
    "- If likes_per_content_weekly_change goes up: Increased engagement may indicate positive reception or interest in the company's activities, possibly a bullish signal for the stock. The opposite interpretation is analogous.\n",
    "- If followers increases significantly: goes up\n",
    "- comments_per_likes_ma_2, comments_per_likes_ma_3, comments_per_likes_ma_5 (Moving Averages Going Up/Down): Up: Consistently higher engagement over time may signal sustained interest or ongoing issues attracting attention. Down: Consistently lower engagement may indicate a trend of decreasing visibility or fading interest.\n",
    "- change_followers_ma_3, change_followers_ma_5 (Moving Averages Going Up/Down): Up: An upward trend in follower count could be a sign of growing popularity or successful marketing campaigns. Down: A downward trend might suggest a loss of consumer confidence or interest, potentially affecting the company's future revenue.\n"
   ]
  },
  {
   "cell_type": "code",
   "execution_count": 34,
   "id": "fafa96f9",
   "metadata": {
    "ExecuteTime": {
     "end_time": "2024-04-28T09:05:58.754549100Z",
     "start_time": "2024-04-28T09:05:58.694596400Z"
    }
   },
   "outputs": [
    {
     "name": "stdout",
     "output_type": "stream",
     "text": [
      "<class 'pandas.core.frame.DataFrame'>\n",
      "Index: 303 entries, 12 to 30288\n",
      "Data columns (total 28 columns):\n",
      " #   Column                            Non-Null Count  Dtype  \n",
      "---  ------                            --------------  -----  \n",
      " 0   Unnamed: 0                        303 non-null    int64  \n",
      " 1   legal_entity                      303 non-null    object \n",
      " 2   date                              303 non-null    object \n",
      " 3   followers                         303 non-null    float64\n",
      " 4   pictures                          303 non-null    float64\n",
      " 5   videos                            303 non-null    float64\n",
      " 6   comments                          303 non-null    float64\n",
      " 7   likes                             303 non-null    float64\n",
      " 8   close                             303 non-null    float64\n",
      " 9   content                           303 non-null    float64\n",
      " 10  likes_per_content                 303 non-null    float64\n",
      " 11  comments_per_likes                303 non-null    float64\n",
      " 12  likes_per_content_weekly_change   303 non-null    float64\n",
      " 13  followers_weekly_change           303 non-null    float64\n",
      " 14  comments_per_likes_weekly_change  303 non-null    float64\n",
      " 15  Close_price_weekly_change         303 non-null    float64\n",
      " 16  comments_per_likes_ma_2           303 non-null    float64\n",
      " 17  change_followers_ma_2             303 non-null    float64\n",
      " 18  Close_price_weekly_change_ma_2    303 non-null    float64\n",
      " 19  comments_per_likes_ma_3           303 non-null    float64\n",
      " 20  change_followers_ma_3             303 non-null    float64\n",
      " 21  Close_price_weekly_change_ma_3    303 non-null    float64\n",
      " 22  comments_per_likes_ma_5           303 non-null    float64\n",
      " 23  change_followers_ma_5             303 non-null    float64\n",
      " 24  Close_price_weekly_change_ma_5    303 non-null    float64\n",
      " 25  anomaly_iso_forest                303 non-null    int32  \n",
      " 26  anomaly_score                     303 non-null    float64\n",
      " 27  outlier_features                  303 non-null    object \n",
      "dtypes: float64(23), int32(1), int64(1), object(3)\n",
      "memory usage: 75.6+ KB\n"
     ]
    }
   ],
   "source": [
    "anomalies_iso_forest.info()"
   ]
  },
  {
   "cell_type": "markdown",
   "id": "c76e219a",
   "metadata": {},
   "source": [
    "### Let´s use these insights in designing our strategy for financial advice. "
   ]
  },
  {
   "cell_type": "code",
   "execution_count": 35,
   "id": "7857b1d7",
   "metadata": {
    "ExecuteTime": {
     "end_time": "2024-04-28T09:05:58.771730700Z",
     "start_time": "2024-04-28T09:05:58.723129300Z"
    }
   },
   "outputs": [
    {
     "name": "stderr",
     "output_type": "stream",
     "text": [
      "C:\\Users\\JJ\\AppData\\Local\\Temp\\ipykernel_18832\\3420492579.py:1: SettingWithCopyWarning: \n",
      "A value is trying to be set on a copy of a slice from a DataFrame.\n",
      "Try using .loc[row_indexer,col_indexer] = value instead\n",
      "\n",
      "See the caveats in the documentation: https://pandas.pydata.org/pandas-docs/stable/user_guide/indexing.html#returning-a-view-versus-a-copy\n",
      "  anomalies_iso_forest[\"action\"] = \"Hold\"\n"
     ]
    }
   ],
   "source": [
    "anomalies_iso_forest[\"action\"] = \"Hold\"\n",
    "# We define some \"priorities\" in our strategy:\n",
    "for index, row in anomalies_iso_forest.iterrows():\n",
    "    if \"followers_weekly_change\" in row[\"outlier_features\"]:\n",
    "        if row[\"followers_weekly_change\"] < 0:\n",
    "            anomalies_iso_forest.at[index, \"action\"] = \"Sell\"\n",
    "            continue\n",
    "\n",
    "    if \"comments_per_likes_weekly_change\" in row[\"outlier_features\"]:\n",
    "        if row[\"comments_per_likes_weekly_change\"] > 0:\n",
    "            anomalies_iso_forest.at[index, \"action\"] = \"Sell\"\n",
    "                        \n"
   ]
  },
  {
   "cell_type": "code",
   "execution_count": 36,
   "id": "1e48ea44",
   "metadata": {
    "ExecuteTime": {
     "end_time": "2024-04-28T09:05:58.771730700Z",
     "start_time": "2024-04-28T09:05:58.748516900Z"
    }
   },
   "outputs": [],
   "source": [
    "# Let´s compare the results against the real values:\n",
    "\n",
    "anomalies_iso_forest[\"action\"].unique()  # We can take the \"Hold\"s out\n",
    "anomalies_iso_forest = anomalies_iso_forest[(anomalies_iso_forest[\"action\"] != \"Hold\")]\n"
   ]
  },
  {
   "cell_type": "code",
   "execution_count": 37,
   "id": "d13fde79",
   "metadata": {
    "ExecuteTime": {
     "end_time": "2024-04-28T09:05:58.774530400Z",
     "start_time": "2024-04-28T09:05:58.749039100Z"
    }
   },
   "outputs": [
    {
     "name": "stderr",
     "output_type": "stream",
     "text": [
      "C:\\Users\\JJ\\AppData\\Local\\Temp\\ipykernel_18832\\903216299.py:3: SettingWithCopyWarning: \n",
      "A value is trying to be set on a copy of a slice from a DataFrame.\n",
      "Try using .loc[row_indexer,col_indexer] = value instead\n",
      "\n",
      "See the caveats in the documentation: https://pandas.pydata.org/pandas-docs/stable/user_guide/indexing.html#returning-a-view-versus-a-copy\n",
      "  anomalies_iso_forest.at[index, \"results\"] = 0\n"
     ]
    }
   ],
   "source": [
    "for index, row in anomalies_iso_forest.iterrows():\n",
    "\n",
    "    anomalies_iso_forest.at[index, \"results\"] = 0\n",
    "\n",
    "    if row['action'] == 'Sell' and row['Close_price_weekly_change'] < 0:\n",
    "        anomalies_iso_forest.at[index, \"results\"] = 1\n",
    "\n",
    "    # If the action was 'Buy' and the close price increased\n",
    "    elif row['action'] == 'Buy' and row['Close_price_weekly_change'] > 0:\n",
    "        anomalies_iso_forest.at[index, \"results\"] = 1"
   ]
  },
  {
   "cell_type": "code",
   "execution_count": 38,
   "id": "ba0535d6",
   "metadata": {
    "ExecuteTime": {
     "end_time": "2024-04-28T09:05:58.881466700Z",
     "start_time": "2024-04-28T09:05:58.771730700Z"
    }
   },
   "outputs": [
    {
     "data": {
      "text/plain": "       results  Close_price_weekly_change  likes_per_content_weekly_change  \\\n3486       1.0                  -4.550362                         7.913884   \n4471       0.0                   9.815949                        59.653652   \n4506       1.0                 -10.129867                        70.618000   \n5086       1.0                  -0.348257                        29.299061   \n5138       1.0                  -0.782856                        80.740575   \n5563       1.0                  -1.771490                        21.034781   \n5620       1.0                  -0.733249                        24.444444   \n5669       1.0                  -0.053061                       193.650794   \n5674       1.0                 -10.011134                        39.925023   \n5680       0.0                  11.171447                         0.273018   \n5701       0.0                   1.254674                       134.407484   \n6238       0.0                  11.158319                        45.499773   \n8023       0.0                   5.011788                        28.502049   \n8058       1.0                  -0.498908                        48.030339   \n8076       1.0                  -0.118916                        29.558844   \n8099       1.0                  -0.984012                        25.346632   \n11044      1.0                  -7.929518                        23.110151   \n11102      1.0                 -10.658312                      1438.935939   \n13473      1.0                  -5.725191                        15.280463   \n13525      1.0                  -4.370884                        51.910405   \n13543      0.0                   1.232867                         6.764117   \n18588      0.0                   3.709954                        21.538281   \n18611      0.0                   5.217393                        24.342968   \n19157      0.0                   8.895328                        46.875000   \n20488      0.0                   7.663555                        72.802839   \n20512      1.0                  -1.629633                        23.128531   \n20538      0.0                   7.764700                        65.747860   \n20653      0.0                  16.764702                        36.338648   \n21512      1.0                  -5.159711                        65.183091   \n21785      1.0                  -1.735417                        49.429429   \n24795      0.0                   0.787399                       -97.665409   \n24985      1.0                  -0.399467                        95.632711   \n26146      0.0                   0.362811                        -7.388034   \n27706      1.0                  -1.477835                       -96.700690   \n27931      0.0                  11.933534                        15.627440   \n28126      1.0                  -0.487820                        82.124126   \n28166      0.0                   4.417673                        13.840698   \n28286      1.0                 -10.294130                        79.343553   \n28363      1.0                  -5.347602                       246.666667   \n30226      1.0                  -8.954122                        31.859995   \n30269      1.0                  -9.879842                         8.741839   \n\n       followers_weekly_change  comments_per_likes_weekly_change  \\\n3486                 14.068905                        386.704955   \n4471                  1.315837                       8718.097702   \n4506                  0.755287                       3840.194944   \n5086                  1.975194                        967.225196   \n5138                  2.879046                       1473.482893   \n5563                 -0.182895                        420.476252   \n5620                  0.654493                       3892.063492   \n5669                  3.110599                       2836.636637   \n5674                  3.062141                       3835.521700   \n5680                  1.062151                        807.819365   \n5701                  0.242272                       1526.734241   \n6238                  1.966835                        574.924395   \n8023                  0.723756                       1545.500047   \n8058                  0.991135                        957.891471   \n8076                  1.047678                       1477.199810   \n8099                  0.745601                       1741.889202   \n11044                 0.866218                       1360.171261   \n11102                85.998608                       5688.209882   \n13473                 4.006630                       2316.889950   \n13525                 5.766544                       7139.813686   \n13543                10.339421                       2461.169418   \n18588                 2.303759                        730.232061   \n18611                 1.765611                       1806.417780   \n19157                 2.090217                       1336.988543   \n20488                 0.942761                        378.708699   \n20512                 0.517350                       1257.453320   \n20538                 1.018840                        659.511676   \n20653                 0.199949                        557.780113   \n21512                 0.649745                       2127.047377   \n21785                 0.379448                       1381.799819   \n24795                 0.299695                        619.189061   \n24985                 0.402040                       8076.300182   \n26146                 3.031180                       3517.103660   \n27706                 0.014171                       3299.844720   \n27931                -6.161181                       1630.217377   \n28126                11.659436                      17274.293821   \n28166                 4.180064                       3832.460299   \n28286                 0.679810                        489.518717   \n28363                 0.289423                        493.466172   \n30226                 0.151213                       1629.482086   \n30269                 0.258846                        694.055285   \n\n       comments_per_likes_ma_2  comments_per_likes_ma_3  \\\n3486                  0.034292                 0.026853   \n4471                  0.673743                 0.454702   \n4506                  0.368968                 0.250997   \n5086                  0.972139                 0.716488   \n5138                  2.200034                 1.571258   \n5563                  0.338153                 0.266909   \n5620                  1.918155                 1.314064   \n5669                  1.346292                 0.926537   \n5674                  1.673588                 1.683071   \n5680                  0.343941                 0.250225   \n5701                  0.612524                 0.431639   \n6238                  0.256861                 0.204042   \n8023                  0.897826                 0.623587   \n8058                  0.691694                 0.491531   \n8076                  0.690872                 0.491993   \n8099                  0.705676                 0.496485   \n11044                 0.353819                 0.249570   \n11102                 0.607361                 0.410860   \n13473                 0.137575                 0.096618   \n13525                 0.217988                 0.147838   \n13543                 0.074358                 0.051840   \n18588                 0.181124                 0.134883   \n18611                 0.343581                 0.240482   \n19157                 0.542958                 0.384848   \n20488                 0.258776                 0.196902   \n20512                 0.754587                 0.535435   \n20538                 0.286854                 0.211979   \n20653                 0.391596                 0.288447   \n21512                 0.313320                 0.217974   \n21785                 0.555768                 0.399062   \n24795                 0.031116                 0.023243   \n24985                 0.708229                 0.478198   \n26146                 0.325138                 0.222367   \n27706                 3.379160                 2.306905   \n27931                 0.168425                 0.119678   \n28126                 0.892617                 0.598479   \n28166                 0.217100                 0.149074   \n28286                 0.760259                 0.558746   \n28363                 1.522690                 1.101665   \n30226                 0.603126                 0.425700   \n30269                 0.508831                 0.373733   \n\n       change_followers_ma_3  comments_per_likes_ma_5  change_followers_ma_5  \n3486               19.531253                 0.020781              11.633047  \n4471                0.729237                 0.280041               0.612228  \n4506                0.403161                 0.156973               0.306951  \n5086                0.900578                 0.582225               0.808305  \n5138                1.122527                 1.064045               0.998782  \n5563               -0.141656                 0.215042              -0.146723  \n5620                0.419770                 0.826091               0.350593  \n5669                1.275760                 0.591305               1.017141  \n5674                1.513768                 1.808480               1.603696  \n5680                1.319896                 0.956857               0.988905  \n5701                0.274678                 0.284809               0.245723  \n6238                0.793663                 0.199699               0.584995  \n8023                0.414556                 0.426089               0.318358  \n8058                0.433023                 0.331544               0.307691  \n8076                0.482428                 0.356044               0.343200  \n8099                0.337888                 0.330955               0.247464  \n11044               0.575544                 0.165368               0.494628  \n11102              29.101981                 0.251257              17.810020  \n13473               1.697572                 0.063893               1.292225  \n13525               2.585974                 0.091782               1.926351  \n13543               4.295390                 0.035350               2.997780  \n18588               0.805259                 0.101351               0.479182  \n18611               0.627862                 0.160681               0.379608  \n19157               2.552532                 0.245720               1.793579  \n20488               0.965654                 0.153684               0.975550  \n20512               0.466966                 0.352010               0.417243  \n20538               1.269966                 0.228240               0.970133  \n20653               0.078957                 0.357848               0.061673  \n21512               0.395337                 0.312888               0.328161  \n21785               0.276540                 0.273093               0.283912  \n24795               4.022330                 0.016926               3.932462  \n24985               0.183678                 0.293885               0.136621  \n26146               1.561485                 0.139323               1.386520  \n27706               0.038726                 1.442832               0.028762  \n27931              -1.951414                 0.094390              -1.106817  \n28126               4.486502                 0.363516               3.192518  \n28166               1.652094                 0.095583               1.152163  \n28286               0.169293                 0.406854               0.159626  \n28363               0.188777                 0.749881               0.119424  \n30226               0.546746                 0.290015               0.299416  \n30269               0.089333                 0.388587               0.053469  ",
      "text/html": "<div>\n<style scoped>\n    .dataframe tbody tr th:only-of-type {\n        vertical-align: middle;\n    }\n\n    .dataframe tbody tr th {\n        vertical-align: top;\n    }\n\n    .dataframe thead th {\n        text-align: right;\n    }\n</style>\n<table border=\"1\" class=\"dataframe\">\n  <thead>\n    <tr style=\"text-align: right;\">\n      <th></th>\n      <th>results</th>\n      <th>Close_price_weekly_change</th>\n      <th>likes_per_content_weekly_change</th>\n      <th>followers_weekly_change</th>\n      <th>comments_per_likes_weekly_change</th>\n      <th>comments_per_likes_ma_2</th>\n      <th>comments_per_likes_ma_3</th>\n      <th>change_followers_ma_3</th>\n      <th>comments_per_likes_ma_5</th>\n      <th>change_followers_ma_5</th>\n    </tr>\n  </thead>\n  <tbody>\n    <tr>\n      <th>3486</th>\n      <td>1.0</td>\n      <td>-4.550362</td>\n      <td>7.913884</td>\n      <td>14.068905</td>\n      <td>386.704955</td>\n      <td>0.034292</td>\n      <td>0.026853</td>\n      <td>19.531253</td>\n      <td>0.020781</td>\n      <td>11.633047</td>\n    </tr>\n    <tr>\n      <th>4471</th>\n      <td>0.0</td>\n      <td>9.815949</td>\n      <td>59.653652</td>\n      <td>1.315837</td>\n      <td>8718.097702</td>\n      <td>0.673743</td>\n      <td>0.454702</td>\n      <td>0.729237</td>\n      <td>0.280041</td>\n      <td>0.612228</td>\n    </tr>\n    <tr>\n      <th>4506</th>\n      <td>1.0</td>\n      <td>-10.129867</td>\n      <td>70.618000</td>\n      <td>0.755287</td>\n      <td>3840.194944</td>\n      <td>0.368968</td>\n      <td>0.250997</td>\n      <td>0.403161</td>\n      <td>0.156973</td>\n      <td>0.306951</td>\n    </tr>\n    <tr>\n      <th>5086</th>\n      <td>1.0</td>\n      <td>-0.348257</td>\n      <td>29.299061</td>\n      <td>1.975194</td>\n      <td>967.225196</td>\n      <td>0.972139</td>\n      <td>0.716488</td>\n      <td>0.900578</td>\n      <td>0.582225</td>\n      <td>0.808305</td>\n    </tr>\n    <tr>\n      <th>5138</th>\n      <td>1.0</td>\n      <td>-0.782856</td>\n      <td>80.740575</td>\n      <td>2.879046</td>\n      <td>1473.482893</td>\n      <td>2.200034</td>\n      <td>1.571258</td>\n      <td>1.122527</td>\n      <td>1.064045</td>\n      <td>0.998782</td>\n    </tr>\n    <tr>\n      <th>5563</th>\n      <td>1.0</td>\n      <td>-1.771490</td>\n      <td>21.034781</td>\n      <td>-0.182895</td>\n      <td>420.476252</td>\n      <td>0.338153</td>\n      <td>0.266909</td>\n      <td>-0.141656</td>\n      <td>0.215042</td>\n      <td>-0.146723</td>\n    </tr>\n    <tr>\n      <th>5620</th>\n      <td>1.0</td>\n      <td>-0.733249</td>\n      <td>24.444444</td>\n      <td>0.654493</td>\n      <td>3892.063492</td>\n      <td>1.918155</td>\n      <td>1.314064</td>\n      <td>0.419770</td>\n      <td>0.826091</td>\n      <td>0.350593</td>\n    </tr>\n    <tr>\n      <th>5669</th>\n      <td>1.0</td>\n      <td>-0.053061</td>\n      <td>193.650794</td>\n      <td>3.110599</td>\n      <td>2836.636637</td>\n      <td>1.346292</td>\n      <td>0.926537</td>\n      <td>1.275760</td>\n      <td>0.591305</td>\n      <td>1.017141</td>\n    </tr>\n    <tr>\n      <th>5674</th>\n      <td>1.0</td>\n      <td>-10.011134</td>\n      <td>39.925023</td>\n      <td>3.062141</td>\n      <td>3835.521700</td>\n      <td>1.673588</td>\n      <td>1.683071</td>\n      <td>1.513768</td>\n      <td>1.808480</td>\n      <td>1.603696</td>\n    </tr>\n    <tr>\n      <th>5680</th>\n      <td>0.0</td>\n      <td>11.171447</td>\n      <td>0.273018</td>\n      <td>1.062151</td>\n      <td>807.819365</td>\n      <td>0.343941</td>\n      <td>0.250225</td>\n      <td>1.319896</td>\n      <td>0.956857</td>\n      <td>0.988905</td>\n    </tr>\n    <tr>\n      <th>5701</th>\n      <td>0.0</td>\n      <td>1.254674</td>\n      <td>134.407484</td>\n      <td>0.242272</td>\n      <td>1526.734241</td>\n      <td>0.612524</td>\n      <td>0.431639</td>\n      <td>0.274678</td>\n      <td>0.284809</td>\n      <td>0.245723</td>\n    </tr>\n    <tr>\n      <th>6238</th>\n      <td>0.0</td>\n      <td>11.158319</td>\n      <td>45.499773</td>\n      <td>1.966835</td>\n      <td>574.924395</td>\n      <td>0.256861</td>\n      <td>0.204042</td>\n      <td>0.793663</td>\n      <td>0.199699</td>\n      <td>0.584995</td>\n    </tr>\n    <tr>\n      <th>8023</th>\n      <td>0.0</td>\n      <td>5.011788</td>\n      <td>28.502049</td>\n      <td>0.723756</td>\n      <td>1545.500047</td>\n      <td>0.897826</td>\n      <td>0.623587</td>\n      <td>0.414556</td>\n      <td>0.426089</td>\n      <td>0.318358</td>\n    </tr>\n    <tr>\n      <th>8058</th>\n      <td>1.0</td>\n      <td>-0.498908</td>\n      <td>48.030339</td>\n      <td>0.991135</td>\n      <td>957.891471</td>\n      <td>0.691694</td>\n      <td>0.491531</td>\n      <td>0.433023</td>\n      <td>0.331544</td>\n      <td>0.307691</td>\n    </tr>\n    <tr>\n      <th>8076</th>\n      <td>1.0</td>\n      <td>-0.118916</td>\n      <td>29.558844</td>\n      <td>1.047678</td>\n      <td>1477.199810</td>\n      <td>0.690872</td>\n      <td>0.491993</td>\n      <td>0.482428</td>\n      <td>0.356044</td>\n      <td>0.343200</td>\n    </tr>\n    <tr>\n      <th>8099</th>\n      <td>1.0</td>\n      <td>-0.984012</td>\n      <td>25.346632</td>\n      <td>0.745601</td>\n      <td>1741.889202</td>\n      <td>0.705676</td>\n      <td>0.496485</td>\n      <td>0.337888</td>\n      <td>0.330955</td>\n      <td>0.247464</td>\n    </tr>\n    <tr>\n      <th>11044</th>\n      <td>1.0</td>\n      <td>-7.929518</td>\n      <td>23.110151</td>\n      <td>0.866218</td>\n      <td>1360.171261</td>\n      <td>0.353819</td>\n      <td>0.249570</td>\n      <td>0.575544</td>\n      <td>0.165368</td>\n      <td>0.494628</td>\n    </tr>\n    <tr>\n      <th>11102</th>\n      <td>1.0</td>\n      <td>-10.658312</td>\n      <td>1438.935939</td>\n      <td>85.998608</td>\n      <td>5688.209882</td>\n      <td>0.607361</td>\n      <td>0.410860</td>\n      <td>29.101981</td>\n      <td>0.251257</td>\n      <td>17.810020</td>\n    </tr>\n    <tr>\n      <th>13473</th>\n      <td>1.0</td>\n      <td>-5.725191</td>\n      <td>15.280463</td>\n      <td>4.006630</td>\n      <td>2316.889950</td>\n      <td>0.137575</td>\n      <td>0.096618</td>\n      <td>1.697572</td>\n      <td>0.063893</td>\n      <td>1.292225</td>\n    </tr>\n    <tr>\n      <th>13525</th>\n      <td>1.0</td>\n      <td>-4.370884</td>\n      <td>51.910405</td>\n      <td>5.766544</td>\n      <td>7139.813686</td>\n      <td>0.217988</td>\n      <td>0.147838</td>\n      <td>2.585974</td>\n      <td>0.091782</td>\n      <td>1.926351</td>\n    </tr>\n    <tr>\n      <th>13543</th>\n      <td>0.0</td>\n      <td>1.232867</td>\n      <td>6.764117</td>\n      <td>10.339421</td>\n      <td>2461.169418</td>\n      <td>0.074358</td>\n      <td>0.051840</td>\n      <td>4.295390</td>\n      <td>0.035350</td>\n      <td>2.997780</td>\n    </tr>\n    <tr>\n      <th>18588</th>\n      <td>0.0</td>\n      <td>3.709954</td>\n      <td>21.538281</td>\n      <td>2.303759</td>\n      <td>730.232061</td>\n      <td>0.181124</td>\n      <td>0.134883</td>\n      <td>0.805259</td>\n      <td>0.101351</td>\n      <td>0.479182</td>\n    </tr>\n    <tr>\n      <th>18611</th>\n      <td>0.0</td>\n      <td>5.217393</td>\n      <td>24.342968</td>\n      <td>1.765611</td>\n      <td>1806.417780</td>\n      <td>0.343581</td>\n      <td>0.240482</td>\n      <td>0.627862</td>\n      <td>0.160681</td>\n      <td>0.379608</td>\n    </tr>\n    <tr>\n      <th>19157</th>\n      <td>0.0</td>\n      <td>8.895328</td>\n      <td>46.875000</td>\n      <td>2.090217</td>\n      <td>1336.988543</td>\n      <td>0.542958</td>\n      <td>0.384848</td>\n      <td>2.552532</td>\n      <td>0.245720</td>\n      <td>1.793579</td>\n    </tr>\n    <tr>\n      <th>20488</th>\n      <td>0.0</td>\n      <td>7.663555</td>\n      <td>72.802839</td>\n      <td>0.942761</td>\n      <td>378.708699</td>\n      <td>0.258776</td>\n      <td>0.196902</td>\n      <td>0.965654</td>\n      <td>0.153684</td>\n      <td>0.975550</td>\n    </tr>\n    <tr>\n      <th>20512</th>\n      <td>1.0</td>\n      <td>-1.629633</td>\n      <td>23.128531</td>\n      <td>0.517350</td>\n      <td>1257.453320</td>\n      <td>0.754587</td>\n      <td>0.535435</td>\n      <td>0.466966</td>\n      <td>0.352010</td>\n      <td>0.417243</td>\n    </tr>\n    <tr>\n      <th>20538</th>\n      <td>0.0</td>\n      <td>7.764700</td>\n      <td>65.747860</td>\n      <td>1.018840</td>\n      <td>659.511676</td>\n      <td>0.286854</td>\n      <td>0.211979</td>\n      <td>1.269966</td>\n      <td>0.228240</td>\n      <td>0.970133</td>\n    </tr>\n    <tr>\n      <th>20653</th>\n      <td>0.0</td>\n      <td>16.764702</td>\n      <td>36.338648</td>\n      <td>0.199949</td>\n      <td>557.780113</td>\n      <td>0.391596</td>\n      <td>0.288447</td>\n      <td>0.078957</td>\n      <td>0.357848</td>\n      <td>0.061673</td>\n    </tr>\n    <tr>\n      <th>21512</th>\n      <td>1.0</td>\n      <td>-5.159711</td>\n      <td>65.183091</td>\n      <td>0.649745</td>\n      <td>2127.047377</td>\n      <td>0.313320</td>\n      <td>0.217974</td>\n      <td>0.395337</td>\n      <td>0.312888</td>\n      <td>0.328161</td>\n    </tr>\n    <tr>\n      <th>21785</th>\n      <td>1.0</td>\n      <td>-1.735417</td>\n      <td>49.429429</td>\n      <td>0.379448</td>\n      <td>1381.799819</td>\n      <td>0.555768</td>\n      <td>0.399062</td>\n      <td>0.276540</td>\n      <td>0.273093</td>\n      <td>0.283912</td>\n    </tr>\n    <tr>\n      <th>24795</th>\n      <td>0.0</td>\n      <td>0.787399</td>\n      <td>-97.665409</td>\n      <td>0.299695</td>\n      <td>619.189061</td>\n      <td>0.031116</td>\n      <td>0.023243</td>\n      <td>4.022330</td>\n      <td>0.016926</td>\n      <td>3.932462</td>\n    </tr>\n    <tr>\n      <th>24985</th>\n      <td>1.0</td>\n      <td>-0.399467</td>\n      <td>95.632711</td>\n      <td>0.402040</td>\n      <td>8076.300182</td>\n      <td>0.708229</td>\n      <td>0.478198</td>\n      <td>0.183678</td>\n      <td>0.293885</td>\n      <td>0.136621</td>\n    </tr>\n    <tr>\n      <th>26146</th>\n      <td>0.0</td>\n      <td>0.362811</td>\n      <td>-7.388034</td>\n      <td>3.031180</td>\n      <td>3517.103660</td>\n      <td>0.325138</td>\n      <td>0.222367</td>\n      <td>1.561485</td>\n      <td>0.139323</td>\n      <td>1.386520</td>\n    </tr>\n    <tr>\n      <th>27706</th>\n      <td>1.0</td>\n      <td>-1.477835</td>\n      <td>-96.700690</td>\n      <td>0.014171</td>\n      <td>3299.844720</td>\n      <td>3.379160</td>\n      <td>2.306905</td>\n      <td>0.038726</td>\n      <td>1.442832</td>\n      <td>0.028762</td>\n    </tr>\n    <tr>\n      <th>27931</th>\n      <td>0.0</td>\n      <td>11.933534</td>\n      <td>15.627440</td>\n      <td>-6.161181</td>\n      <td>1630.217377</td>\n      <td>0.168425</td>\n      <td>0.119678</td>\n      <td>-1.951414</td>\n      <td>0.094390</td>\n      <td>-1.106817</td>\n    </tr>\n    <tr>\n      <th>28126</th>\n      <td>1.0</td>\n      <td>-0.487820</td>\n      <td>82.124126</td>\n      <td>11.659436</td>\n      <td>17274.293821</td>\n      <td>0.892617</td>\n      <td>0.598479</td>\n      <td>4.486502</td>\n      <td>0.363516</td>\n      <td>3.192518</td>\n    </tr>\n    <tr>\n      <th>28166</th>\n      <td>0.0</td>\n      <td>4.417673</td>\n      <td>13.840698</td>\n      <td>4.180064</td>\n      <td>3832.460299</td>\n      <td>0.217100</td>\n      <td>0.149074</td>\n      <td>1.652094</td>\n      <td>0.095583</td>\n      <td>1.152163</td>\n    </tr>\n    <tr>\n      <th>28286</th>\n      <td>1.0</td>\n      <td>-10.294130</td>\n      <td>79.343553</td>\n      <td>0.679810</td>\n      <td>489.518717</td>\n      <td>0.760259</td>\n      <td>0.558746</td>\n      <td>0.169293</td>\n      <td>0.406854</td>\n      <td>0.159626</td>\n    </tr>\n    <tr>\n      <th>28363</th>\n      <td>1.0</td>\n      <td>-5.347602</td>\n      <td>246.666667</td>\n      <td>0.289423</td>\n      <td>493.466172</td>\n      <td>1.522690</td>\n      <td>1.101665</td>\n      <td>0.188777</td>\n      <td>0.749881</td>\n      <td>0.119424</td>\n    </tr>\n    <tr>\n      <th>30226</th>\n      <td>1.0</td>\n      <td>-8.954122</td>\n      <td>31.859995</td>\n      <td>0.151213</td>\n      <td>1629.482086</td>\n      <td>0.603126</td>\n      <td>0.425700</td>\n      <td>0.546746</td>\n      <td>0.290015</td>\n      <td>0.299416</td>\n    </tr>\n    <tr>\n      <th>30269</th>\n      <td>1.0</td>\n      <td>-9.879842</td>\n      <td>8.741839</td>\n      <td>0.258846</td>\n      <td>694.055285</td>\n      <td>0.508831</td>\n      <td>0.373733</td>\n      <td>0.089333</td>\n      <td>0.388587</td>\n      <td>0.053469</td>\n    </tr>\n  </tbody>\n</table>\n</div>"
     },
     "execution_count": 38,
     "metadata": {},
     "output_type": "execute_result"
    }
   ],
   "source": [
    "anomalies_iso_forest[[\"results\", \"Close_price_weekly_change\",\n",
    "                      \"likes_per_content_weekly_change\", \n",
    "    \"followers_weekly_change\", \n",
    "    \"comments_per_likes_weekly_change\",\n",
    "    \"comments_per_likes_ma_2\",\n",
    "    \"comments_per_likes_ma_3\",\n",
    "    \"change_followers_ma_3\",\n",
    "    \"comments_per_likes_ma_5\",\n",
    "    \"change_followers_ma_5\" ]]"
   ]
  },
  {
   "cell_type": "code",
   "execution_count": 39,
   "id": "877432b8",
   "metadata": {
    "ExecuteTime": {
     "end_time": "2024-04-28T09:05:58.898002100Z",
     "start_time": "2024-04-28T09:05:58.801915600Z"
    }
   },
   "outputs": [
    {
     "data": {
      "text/plain": "0.6097560975609756"
     },
     "execution_count": 39,
     "metadata": {},
     "output_type": "execute_result"
    }
   ],
   "source": [
    "sum(anomalies_iso_forest[\"results\"])/len(anomalies_iso_forest)"
   ]
  },
  {
   "cell_type": "markdown",
   "source": [
    "We find an accuracy of nearly 61% in the strategy. Limitations of the strategy include the timespan convered by the dataset, not taking into account comisions, and not evaluating the total profit."
   ],
   "metadata": {
    "collapsed": false
   },
   "id": "3a19ffa1b9faee49"
  },
  {
   "cell_type": "markdown",
   "source": [
    "# Confusion Matrix\n",
    "\n",
    "In order to throughoutly inspect the performance of our model, we now calculate the confusion matrix"
   ],
   "metadata": {
    "collapsed": false
   },
   "id": "4dc8cfeacbe0d48a"
  },
  {
   "cell_type": "code",
   "execution_count": 44,
   "outputs": [
    {
     "name": "stdout",
     "output_type": "stream",
     "text": [
      "Accuracy: 0.6097560975609756\n",
      "Precision: 0.6097560975609756\n",
      "Recall: 1.0\n",
      "F1-Score: 0.7575757575757575\n"
     ]
    }
   ],
   "source": [
    "# Initialize counters\n",
    "TP = TN = FP = FN = 0\n",
    "\n",
    "for index, row in anomalies_iso_forest.iterrows():\n",
    "    predicted = 0\n",
    "    actual = 0\n",
    "\n",
    "    if row['action'] == 'Sell' and row['Close_price_weekly_change'] < 0:\n",
    "        predicted = 1\n",
    "        actual = 1\n",
    "    elif row['action'] == 'Sell' and row['Close_price_weekly_change'] >= 0:\n",
    "        predicted = 1\n",
    "    elif row['action'] == 'Buy' and row['Close_price_weekly_change'] > 0:\n",
    "        predicted = 1\n",
    "        actual = 1\n",
    "    elif row['action'] == 'Buy' and row['Close_price_weekly_change'] <= 0:\n",
    "        predicted = 1\n",
    "\n",
    "    # Update confusion matrix counts\n",
    "    if predicted == 1 and actual == 1:\n",
    "        TP += 1\n",
    "    elif predicted == 0 and actual == 0:\n",
    "        TN += 1\n",
    "    elif predicted == 1 and actual == 0:\n",
    "        FP += 1\n",
    "    elif predicted == 0 and actual == 1:\n",
    "        FN += 1\n",
    "\n",
    "# Calculate metrics\n",
    "accuracy = (TP + TN) / (TP + TN + FP + FN)\n",
    "precision = TP / (TP + FP) if (TP + FP) else 0\n",
    "recall = TP / (TP + FN) if (TP + FN) else 0\n",
    "f1_score = 2 * (precision * recall) / (precision + recall) if (precision + recall) else 0\n",
    "\n",
    "# Output results\n",
    "print(\"Accuracy:\", accuracy)\n",
    "print(\"Precision:\", precision)\n",
    "print(\"Recall:\", recall)\n",
    "print(\"F1-Score:\", f1_score)\n"
   ],
   "metadata": {
    "collapsed": false,
    "ExecuteTime": {
     "end_time": "2024-04-28T09:10:37.660846600Z",
     "start_time": "2024-04-28T09:10:37.627102900Z"
    }
   },
   "id": "75675a8dd8b17d3a"
  },
  {
   "cell_type": "markdown",
   "id": "84f7c88e",
   "metadata": {},
   "source": [
    "## Model Performance Metrics\n",
    "\n",
    "The following are the calculated performance metrics for the stock prediction model:\n",
    "\n",
    "- **Accuracy**: `60.98%`\n",
    "  - Indicates that about 61% of all predictions (both 'Buy'/'Sell' and not 'Buy'/'Sell') by the model are correct.\n",
    "\n",
    "- **Precision**: `60.98%`\n",
    "  - This tells us that when the model predicts a 'Buy' or 'Sell' action, there's a 61% chance that it is correct.\n",
    "\n",
    "- **Recall**: `100%`\n",
    "  - The model correctly identifies all actual 'Buy' or 'Sell' cases, suggesting no missed positive predictions.\n",
    "\n",
    "- **F1-Score**: `75.76%`\n",
    "  - A measure of the model's balance between precision and recall. A higher F1-score indicates a better balance, with an approximate value of 76% in this case.\n",
    "\n",
    "### Interpretation\n",
    "\n",
    "- The **high recall** (100%) suggests that the model is very good at identifying all true positive cases. However, the fact that precision is not as high indicates the model might be predicting too many positives (over-predicting 'Buy' or 'Sell').\n",
    "\n",
    "- The **accuracy** and **precision** both standing at about 61% are very good results, given the usually low accuracy when predicting stock market prices."
   ]
  },
  {
   "cell_type": "markdown",
   "id": "9d1cd656",
   "metadata": {},
   "source": [
    "The goal of the strategy is to be able to advice that with a high probability the stock price will decrease on the next day. One advantage of the model is that, as it relies on unsupervised learning and knowledge of the industry, the strategy is less likely to be overfitting."
   ]
  },
  {
   "cell_type": "code",
   "execution_count": null,
   "outputs": [],
   "source": [],
   "metadata": {
    "collapsed": false
   },
   "id": "69daa93b252aa113"
  }
 ],
 "metadata": {
  "kernelspec": {
   "display_name": "Python 3 (ipykernel)",
   "language": "python",
   "name": "python3"
  },
  "language_info": {
   "codemirror_mode": {
    "name": "ipython",
    "version": 3
   },
   "file_extension": ".py",
   "mimetype": "text/x-python",
   "name": "python",
   "nbconvert_exporter": "python",
   "pygments_lexer": "ipython3",
   "version": "3.9.18"
  }
 },
 "nbformat": 4,
 "nbformat_minor": 5
}
