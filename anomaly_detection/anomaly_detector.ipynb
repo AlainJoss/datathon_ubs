{
 "cells": [
  {
   "cell_type": "code",
   "execution_count": 87,
   "metadata": {},
   "outputs": [],
   "source": [
    "import numpy as np\n",
    "import pandas as pd\n",
    "from sklearn.ensemble import IsolationForest\n",
    "from sklearn.svm import OneClassSVM\n",
    "from sklearn.neighbors import LocalOutlierFactor\n",
    "from sklearn.cluster import DBSCAN\n",
    "from sklearn.preprocessing import StandardScaler\n",
    "from tensorflow.keras.layers import Input, Dense\n",
    "from tensorflow.keras.models import Model"
   ]
  },
  {
   "cell_type": "code",
   "execution_count": 88,
   "metadata": {},
   "outputs": [],
   "source": [
    "df = pd.read_csv('../clean_data/data_completed_model.csv')"
   ]
  },
  {
   "cell_type": "code",
   "execution_count": 89,
   "metadata": {},
   "outputs": [],
   "source": [
    "features = [\n",
    "    'likes_per_content_weekly_change',\n",
    "    'followers_weekly_change',\n",
    "    'comments_per_likes_weekly_change',\n",
    "    'comments_per_likes_ma_2',\n",
    "    'comments_per_likes_ma_3',\n",
    "    'change_followers_ma_3',\n",
    "    'comments_per_likes_ma_5',\n",
    "    'change_followers_ma_5'\n",
    "]\n",
    "df['comments_per_likes_weekly_change'].replace([float('inf'), float('-inf')], 0, inplace=True)"
   ]
  },
  {
   "cell_type": "code",
   "execution_count": 90,
   "metadata": {},
   "outputs": [],
   "source": [
    "# Standardize the data\n",
    "\n",
    "scaler = StandardScaler()\n",
    "X_scaled = scaler.fit_transform(df[features])"
   ]
  },
  {
   "cell_type": "code",
   "execution_count": 91,
   "metadata": {},
   "outputs": [],
   "source": [
    "# Isolation Forest\n",
    "iso_forest = IsolationForest(contamination=0.05)\n",
    "df['iso_forest'] = iso_forest.fit_predict(X_scaled)"
   ]
  },
  {
   "cell_type": "code",
   "execution_count": 92,
   "metadata": {},
   "outputs": [],
   "source": [
    "# One-Class SVM\n",
    "oc_svm = OneClassSVM(nu=0.05, kernel='rbf', gamma=0.1)\n",
    "df['one_class_svm'] = oc_svm.fit_predict(X_scaled)"
   ]
  },
  {
   "cell_type": "code",
   "execution_count": 93,
   "metadata": {},
   "outputs": [],
   "source": [
    "# Local Outlier Factor\n",
    "lof = LocalOutlierFactor(n_neighbors=20, contamination=0.05)\n",
    "df['lof'] = lof.fit_predict(X_scaled)"
   ]
  },
  {
   "cell_type": "code",
   "execution_count": 94,
   "metadata": {},
   "outputs": [
    {
     "name": "stdout",
     "output_type": "stream",
     "text": [
      " 1    27532\n",
      "-1     2757\n",
      "Name: dbscan, dtype: int64\n"
     ]
    }
   ],
   "source": [
    "# DBSCAN\n",
    "from sklearn.cluster import DBSCAN\n",
    "from sklearn.preprocessing import StandardScaler\n",
    "\n",
    "# Standardizing the data\n",
    "scaler = StandardScaler()\n",
    "X_scaled = scaler.fit_transform(df[['followers', 'pictures', 'videos', 'comments', 'likes']])\n",
    "\n",
    "# Initialize DBSCAN\n",
    "dbscan = DBSCAN(eps=0.3, min_samples=10)\n",
    "dbscan_labels = dbscan.fit_predict(X_scaled)\n",
    "\n",
    "# Convert labels: -1 remains for outliers, all others become 1 for 'normal'\n",
    "df['dbscan'] = np.where(dbscan_labels == -1, -1, 1)\n",
    "\n",
    "# Check the updated column\n",
    "print(df['dbscan'].value_counts())"
   ]
  },
  {
   "cell_type": "markdown",
   "metadata": {},
   "source": [
    "# Autoencoder\n",
    "input_dim = X_scaled.shape[1]\n",
    "input_layer = Input(shape=(input_dim,))\n",
    "encoded = Dense(14, activation='relu')(input_layer)\n",
    "decoded = Dense(input_dim, activation='sigmoid')(encoded)\n",
    "autoencoder = Model(input_layer, decoded)\n",
    "autoencoder.compile(optimizer='adam', loss='mean_squared_error')\n",
    "autoencoder.fit(X_scaled, X_scaled, epochs=50, batch_size=32, shuffle=True, verbose=0)\n",
    "reconstructions = autoencoder.predict(X_scaled)\n",
    "mse = np.mean(np.power(X_scaled - reconstructions, 2), axis=1)\n",
    "df['autoencoder'] = mse"
   ]
  },
  {
   "cell_type": "code",
   "execution_count": 95,
   "metadata": {},
   "outputs": [
    {
     "name": "stdout",
     "output_type": "stream",
     "text": [
      "Unique values for iso_forest: [-1  1]\n",
      "Unique values for one_class_svm: [-1  1]\n",
      "Unique values for lof: [ 1 -1]\n",
      "Unique values for dbscan: [ 1 -1]\n"
     ]
    }
   ],
   "source": [
    "# unique values per algorithm column: 'iso_forest', 'one_class_svm', 'lof', 'dbscan'\n",
    "algo_cols = ['iso_forest', 'one_class_svm', 'lof', 'dbscan']\n",
    "for col in algo_cols:\n",
    "    print(f'Unique values for {col}: {df[col].unique()}')"
   ]
  },
  {
   "cell_type": "code",
   "execution_count": 104,
   "metadata": {},
   "outputs": [
    {
     "name": "stdout",
     "output_type": "stream",
     "text": [
      "Anomaly percentage:  1    0.939982\n",
      "-1    0.060018\n",
      "Name: anomaly, dtype: float64\n"
     ]
    }
   ],
   "source": [
    "# percentage of anomalies (at least one algorithm detected as anomaly: contains -1) over all data\n",
    "df['anomaly'] = np.where(df[algo_cols].sum(axis=1) < 0, -1, 1)\n",
    "print(f'Anomaly percentage: {df[\"anomaly\"].value_counts(normalize=True)}')"
   ]
  },
  {
   "cell_type": "code",
   "execution_count": 105,
   "metadata": {},
   "outputs": [
    {
     "name": "stdout",
     "output_type": "stream",
     "text": [
      "Anomaly percentage:  1    0.939982\n",
      "-1    0.060018\n",
      "Name: anomaly, dtype: float64\n"
     ]
    }
   ],
   "source": [
    "# percentage of anomalies (at least 2 algorithms detected as anomaly: contains -1) over all data\n",
    "df['anomaly'] = np.where(df[algo_cols].sum(axis=1) < -1, -1, 1)\n",
    "print(f'Anomaly percentage: {df[\"anomaly\"].value_counts(normalize=True)}')"
   ]
  },
  {
   "cell_type": "code",
   "execution_count": null,
   "metadata": {},
   "outputs": [
    {
     "data": {
      "text/plain": [
       "0.25    0.762422\n",
       "0.50    0.177560\n",
       "0.75    0.057524\n",
       "1.00    0.002493\n",
       "Name: agreement, dtype: float64"
      ]
     },
     "metadata": {},
     "output_type": "display_data"
    }
   ],
   "source": [
    "# 0.25    4301\n",
    "# 0.75    2191\n",
    "# 0.50    1295\n",
    "# 1.00     358\n",
    "# Name: agreement, dtype: int64\n",
    "\n",
    "# compute the normalzed agreement on the value counts\n",
    "df['agreement'].value_counts(normalize=True) "
   ]
  },
  {
   "cell_type": "code",
   "execution_count": 97,
   "metadata": {},
   "outputs": [],
   "source": [
    "# drop rows without any outliers: all values are 1\n",
    "df = df[(df[algo_cols] != 1).any(axis=1)]"
   ]
  },
  {
   "cell_type": "code",
   "execution_count": 98,
   "metadata": {},
   "outputs": [],
   "source": [
    "# add percentage of agreenment column \n",
    "df['agreement'] = df[['iso_forest', 'one_class_svm', 'lof', 'dbscan']].apply(lambda x: np.mean(x == -1), axis=1)"
   ]
  },
  {
   "cell_type": "code",
   "execution_count": 99,
   "metadata": {},
   "outputs": [
    {
     "data": {
      "text/plain": [
       "<Axes: ylabel='Frequency'>"
      ]
     },
     "execution_count": 99,
     "metadata": {},
     "output_type": "execute_result"
    },
    {
     "data": {
      "image/png": "[encoded data removed]",
      "text/plain": [
       "<Figure size 640x480 with 1 Axes>"
      ]
     },
     "metadata": {},
     "output_type": "display_data"
    }
   ],
   "source": [
    "# plot percentage of agreement\n",
    "df['agreement'].plot.hist()"
   ]
  },
  {
   "cell_type": "code",
   "execution_count": 100,
   "metadata": {},
   "outputs": [
    {
     "name": "stdout",
     "output_type": "stream",
     "text": [
      "0.25    4281\n",
      "0.50     997\n",
      "0.75     323\n",
      "1.00      14\n",
      "Name: agreement, dtype: int64\n"
     ]
    }
   ],
   "source": [
    "# are there any rows with 100% agreement?\n",
    "print(df['agreement'].value_counts())"
   ]
  },
  {
   "cell_type": "code",
   "execution_count": 101,
   "metadata": {},
   "outputs": [
    {
     "data": {
      "text/plain": [
       "0.25    0.762422\n",
       "0.50    0.177560\n",
       "0.75    0.057524\n",
       "1.00    0.002493\n",
       "Name: agreement, dtype: float64"
      ]
     },
     "execution_count": 101,
     "metadata": {},
     "output_type": "execute_result"
    }
   ],
   "source": [
    "# 0.25    4301\n",
    "# 0.75    2191\n",
    "# 0.50    1295\n",
    "# 1.00     358\n",
    "# Name: agreement, dtype: int64\n",
    "\n",
    "# compute the normalzed agreement on the value counts\n",
    "df['agreement'].value_counts(normalize=True) "
   ]
  },
  {
   "cell_type": "code",
   "execution_count": null,
   "metadata": {},
   "outputs": [],
   "source": []
  },
  {
   "cell_type": "code",
   "execution_count": null,
   "metadata": {},
   "outputs": [],
   "source": []
  },
  {
   "cell_type": "code",
   "execution_count": null,
   "metadata": {},
   "outputs": [],
   "source": []
  }
 ],
 "metadata": {
  "kernelspec": {
   "display_name": "Python 3",
   "language": "python",
   "name": "python3"
  },
  "language_info": {
   "codemirror_mode": {
    "name": "ipython",
    "version": 3
   },
   "file_extension": ".py",
   "mimetype": "text/x-python",
   "name": "python",
   "nbconvert_exporter": "python",
   "pygments_lexer": "ipython3",
   "version": "3.9.6"
  }
 },
 "nbformat": 4,
 "nbformat_minor": 2
}
